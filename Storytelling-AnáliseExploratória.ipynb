{
 "cells": [
  {
   "cell_type": "markdown",
   "metadata": {
    "colab_type": "text",
    "id": "view-in-github"
   },
   "source": [
    "<a href=\"https://colab.research.google.com/github/EandroC/JornadaDeDados-EandroCleiton/blob/main/Tarefa6_Storytelling.ipynb\" target=\"_parent\"><img src=\"https://colab.research.google.com/assets/colab-badge.svg\" alt=\"Open In Colab\"/></a>"
   ]
  },
  {
   "cell_type": "markdown",
   "metadata": {
    "id": "F4OvubGQYNlq"
   },
   "source": [
    "# **State of Data Brazil 2022 - Análise Exploratória**\n",
    "\n"
   ]
  },
  {
   "cell_type": "markdown",
   "metadata": {
    "id": "atxzijndeSVC"
   },
   "source": [
    "<div style=\"text-align: right;\">\n",
    "\n",
    "##### LinkedIn: [Eandro Cleiton](https://www.linkedin.com/in/eandro-cleiton/)\n",
    "##### GitHub: [EandroC](https://github.com/EandroC)\n",
    "\n",
    "</div>"
   ]
  },
  {
   "cell_type": "markdown",
   "metadata": {
    "id": "oU9kMdLoZFy3"
   },
   "source": [
    "# **1\\. Introdução**"
   ]
  },
  {
   "cell_type": "markdown",
   "metadata": {
    "id": "_DhSqFELZGc0"
   },
   "source": [
    "## **1\\.1\\. Contexto**"
   ]
  },
  {
   "cell_type": "markdown",
   "metadata": {
    "id": "uom5ezILZ_A-"
   },
   "source": [
    "O Levantamento sobre Dados Brasil, conduzido pelo *Data Hackers* em parceria com a *Bain & Company*, é uma das principais análises sobre o mercado de dados no Brasil. Na última análise (2022), foram examinadas as condições atuais das três principais ocupações na área de dados no Brasil: engenheiro de dados, cientista de dados e analista de dados."
   ]
  },
  {
   "cell_type": "markdown",
   "metadata": {
    "id": "lNFwZy70ZdVx"
   },
   "source": [
    "## **1\\.2\\. Objetivo**"
   ]
  },
  {
   "cell_type": "markdown",
   "metadata": {
    "id": "4Qzq0rNGaq5K"
   },
   "source": [
    " O objetivo é utilizar os dados do Levantamento sobre Dados Brasil (*State_of_Data_2022.cvs*) para criar visualizações que ilustrem os salários por nível e cargo na área de dados. Através dessas representações visuais,  busca-se fornecer *insights* claros e valiosos sobre as tendências salariais dentro do mercado brasileiro de dados, permitindo uma compreensão mais profunda das oportunidades profissionais nesse setor em constante evolução."
   ]
  },
  {
   "cell_type": "markdown",
   "metadata": {
    "id": "1q4yWQAAbq3e"
   },
   "source": [
    "## **1\\.3\\. Ferramentas Utilizadas**"
   ]
  },
  {
   "cell_type": "markdown",
   "metadata": {
    "id": "3zl-tUVWcUnu"
   },
   "source": [
    "Durante esse *storytelling*, foram empregadas as seguintes ferramentas:\n",
    "\n",
    "*  ***Google Colaboratory*:** Plataforma de notebook baseada em nuvem, permitindo execução de código Python de forma colaborativa e acessível.\n",
    "*  ***Python*:** Linguagem principal para manipulação, análise e visualização de dados.\n",
    "*  **Biblioteca Pandas:** Biblioteca para manipulação de dados, incluindo operações em DataFrames.\n",
    "* **Biblioteca *Seaborn*:** Biblioteca de visualização de dados baseada em *Matplotlib*, utilizada para criar gráficos estatísticos.\n",
    "\n"
   ]
  },
  {
   "cell_type": "markdown",
   "metadata": {
    "id": "sx7-gktKeHX2"
   },
   "source": [
    "# **2\\. Exploração**"
   ]
  },
  {
   "cell_type": "markdown",
   "metadata": {
    "id": "vNiwVwtGfD4i"
   },
   "source": [
    "Na fase de exploração, foi utilizado *Python* e *Google Colab* para analisar os dados do Levantamento sobre Dados Brasil."
   ]
  },
  {
   "cell_type": "markdown",
   "metadata": {
    "id": "Nfs1jQ9yf_5Q"
   },
   "source": [
    "\n",
    "## **2\\.1\\. Leitura e Captura de Dados**"
   ]
  },
  {
   "cell_type": "markdown",
   "metadata": {
    "id": "kgL7vKaRgcvJ"
   },
   "source": [
    "O código abaixo abre o arquivo *\"State_of_data_2022.csv\"* para leitura e captura a primeira linha, que contém os cabeçalhos das colunas. Os cabeçalhos são armazenados na variável header, o que permite identificar as colunas do arquivo."
   ]
  },
  {
   "cell_type": "code",
   "execution_count": 2,
   "metadata": {
    "id": "Si9abaeqJ8iq"
   },
   "outputs": [],
   "source": [
    "with open(file = \"Dados/State_of_data_2022.csv\", mode=\"r\", encoding=\"utf-8\") as fp:\n",
    "  header = fp.readline()"
   ]
  },
  {
   "cell_type": "markdown",
   "metadata": {
    "id": "M8xRN88dgzgl"
   },
   "source": [
    "Visualizando os primeiros 200 cabeçalhos desse CSV:"
   ]
  },
  {
   "cell_type": "code",
   "execution_count": 3,
   "metadata": {
    "colab": {
     "base_uri": "https://localhost:8080/"
    },
    "id": "97-I4T6Sg5aH",
    "outputId": "91c7bf49-cbea-4729-c262-a7e845e01772"
   },
   "outputs": [
    {
     "name": "stdout",
     "output_type": "stream",
     "text": [
      "\"('P0', 'id')\",\"('P1_a ', 'Idade')\",\"('P1_a_1 ', 'Faixa idade')\",\"('P1_b ', 'Genero')\",\"('P1_c ', 'Cor/raca/etnia')\",\"('P1_d ', 'PCD')\",\"('P1_e ', 'experiencia_profissional_prejudicada')\",\"('P1_f ', '\n"
     ]
    }
   ],
   "source": [
    "print(header[0:200])"
   ]
  },
  {
   "cell_type": "markdown",
   "metadata": {
    "id": "g8rUTm3xhJ3O"
   },
   "source": [
    "O código seguinte divide a linha de cabeçalho em uma lista de nomes de coluna, o que é útil para acessar e manipular individualmente os diferentes campos do cabeçalho."
   ]
  },
  {
   "cell_type": "code",
   "execution_count": 4,
   "metadata": {
    "id": "SPHJXsghhPnP"
   },
   "outputs": [],
   "source": [
    "header = header.split(sep = '\",\"')"
   ]
  },
  {
   "cell_type": "code",
   "execution_count": 5,
   "metadata": {
    "colab": {
     "base_uri": "https://localhost:8080/"
    },
    "id": "6PU8fc8Dh1fU",
    "outputId": "f1987fd9-6fe3-4bc7-89af-536cda1434d6"
   },
   "outputs": [
    {
     "name": "stdout",
     "output_type": "stream",
     "text": [
      "\"('P0', 'id')\n"
     ]
    }
   ],
   "source": [
    "print(header[0]) # primeiro cabeçalho do arquivo"
   ]
  },
  {
   "cell_type": "markdown",
   "metadata": {
    "id": "grNBIbthh77W"
   },
   "source": [
    "## **2\\.2\\. Encontrando colunas de interesse**"
   ]
  },
  {
   "cell_type": "markdown",
   "metadata": {
    "id": "R31rA0oKiPOn"
   },
   "source": [
    "Como estão sendo buscadas apenas informações sobre salário, cargo e nível profissional é de se imaginar que os cabeçalhos com P2 (Dados sobre carreira) sejam as de interesse.\n",
    "O for irá exibir então apenas as coluna com P2."
   ]
  },
  {
   "cell_type": "code",
   "execution_count": 6,
   "metadata": {
    "colab": {
     "base_uri": "https://localhost:8080/"
    },
    "id": "zphknsG-idLw",
    "outputId": "6f38220f-d765-4a2f-de45-3273aeef2453"
   },
   "outputs": [
    {
     "name": "stdout",
     "output_type": "stream",
     "text": [
      "16('P2_a ', 'Qual sua situação atual de trabalho?')\n",
      "17('P2_b ', 'Setor')\n",
      "18('P2_c ', 'Numero de Funcionarios')\n",
      "19('P2_d ', 'Gestor?')\n",
      "20('P2_e ', 'Cargo como Gestor')\n",
      "21('P2_f ', 'Cargo Atual')\n",
      "22('P2_g ', 'Nivel')\n",
      "23('P2_h ', 'Faixa salarial')\n",
      "24('P2_i ', 'Quanto tempo de experiência na área de dados você tem?')\n",
      "25('P2_j ', 'Quanto tempo de experiência na área de TI/Engenharia de Software você teve antes de começar a trabalhar na área de dados?')\n",
      "26('P2_k ', 'Você está satisfeito na sua empresa atual?')\n",
      "27('P2_l ', 'Qual o principal motivo da sua insatisfação com a empresa atual?')\n",
      "28('P2_l_1 ', 'Falta de oportunidade de crescimento no emprego atual')\n",
      "29('P2_l_2 ', 'Salário atual não corresponde ao mercado')\n",
      "30('P2_l_3 ', 'Não tenho uma boa relação com meu líder/gestor')\n",
      "31('P2_l_4 ', 'Gostaria de trabalhar em em outra área de atuação')\n",
      "32('P2_l_5 ', 'Gostaria de receber mais benefícios')\n",
      "33('P2_l_6 ', 'O clima de trabalho/ambiente não é bom')\n",
      "34('P2_l_7 ', 'Falta de maturidade analítica na empresa')\n",
      "35('P2_m ', 'Você participou de entrevistas de emprego nos últimos 6 meses?')\n",
      "36('P2_n ', 'Você pretende mudar de emprego nos próximos 6 meses?')\n",
      "37('P2_o ', 'Quais os principais critérios que você leva em consideração no momento de decidir onde trabalhar?')\n",
      "38('P2_o_1 ', 'Remuneração/Salário')\n",
      "39('P2_o_2 ', 'Benefícios')\n",
      "40('P2_o_3 ', 'Propósito do trabalho e da empresa')\n",
      "41('P2_o_4 ', 'Flexibilidade de trabalho remoto')\n",
      "42('P2_o_5 ', 'Ambiente e clima de trabalho')\n",
      "43('P2_o_6 ', 'Oportunidade de aprendizado e trabalhar com referências na área')\n",
      "44('P2_o_7 ', 'Plano de carreira e oportunidades de crescimento profissional')\n",
      "45('P2_o_8 ', 'Maturidade da empresa em termos de tecnologia e dados')\n",
      "46('P2_o_9 ', 'Qualidade dos gestores e líderes')\n",
      "47('P2_o_10 ', 'Reputação que a empresa tem no mercado')\n",
      "48('P2_p ', 'Atualmente qual a sua forma de trabalho?')\n",
      "49('P2_q ', 'Qual a forma de trabalho ideal para você?')\n",
      "50('P2_r ', 'Caso sua empresa decida pelo modelo 100% presencial qual será sua atitude?')\n",
      "51('P2_s ', 'Sua empresa passu por Layoff em 2022?')\n"
     ]
    }
   ],
   "source": [
    "for column, column_name in enumerate(header):\n",
    "  if 'P2' in column_name:\n",
    "    print(str(column)+''+ column_name)"
   ]
  },
  {
   "cell_type": "markdown",
   "metadata": {
    "id": "-VkIuEFOip7F"
   },
   "source": [
    "Foram achadas 3 colunas:\n",
    "*   21('P2_f ', 'Cargo Atual')\n",
    "*   22('P2_g ', 'Nivel')\n",
    "*   23('P2_h ', 'Faixa salarial')"
   ]
  },
  {
   "cell_type": "markdown",
   "metadata": {
    "id": "BSOZPdkpi0y_"
   },
   "source": [
    "O código seguinte abre o arquivo CSV, lê a primeira linha (cabeçalho), e então itera sobre as próximas 10 linhas do arquivo, imprimindo informações específicas (cargo, experiência e salário) de cada linha."
   ]
  },
  {
   "cell_type": "code",
   "execution_count": 7,
   "metadata": {
    "colab": {
     "base_uri": "https://localhost:8080/"
    },
    "id": "SgZGocVXitTz",
    "outputId": "a57c5532-aa2a-41f4-c93a-41630553fb41"
   },
   "outputs": [
    {
     "name": "stdout",
     "output_type": "stream",
     "text": [
      "{'Cargo': 'DBA/Administrador de Banco de Dados', 'Experiencia': 'Júnior', 'Salário': 'de R$ 8.001/mês a R$ 12.000/mês'}\n",
      "{'Cargo': 'Supervisor/Coordenador', 'Experiencia': '', 'Salário': ''}\n",
      "{'Cargo': 'Desenvolvedor/ Engenheiro de Software/ Analista de Sistemas', 'Experiencia': 'Pleno', 'Salário': 'de R$ 12.001/mês a R$ 16.000/mês'}\n",
      "{'Cargo': 'Cientista de Dados/Data Scientist', 'Experiencia': 'Sênior', 'Salário': 'de R$ 12.001/mês a R$ 16.000/mês'}\n",
      "{'Cargo': 'Desenvolvedor/ Engenheiro de Software/ Analista de Sistemas', 'Experiencia': 'Pleno', 'Salário': 'de R$ 6.001/mês a R$ 8.000/mês'}\n",
      "{'Cargo': 'Professor', 'Experiencia': 'Pleno', 'Salário': 'de R$ 2.001/mês a R$ 3.000/mês'}\n",
      "{'Cargo': 'Analista de BI/BI Analyst', 'Experiencia': 'Júnior', 'Salário': 'de R$ 4.001/mês a R$ 6.000/mês'}\n",
      "{'Cargo': 'Desenvolvedor/ Engenheiro de Software/ Analista de Sistemas', 'Experiencia': 'Júnior', 'Salário': 'de R$ 2.001/mês a R$ 3.000/mês'}\n",
      "{'Cargo': 'Analista de BI/BI Analyst', 'Experiencia': 'Sênior', 'Salário': 'de R$ 6.001/mês a R$ 8.000/mês'}\n",
      "{'Cargo': 'Professor', 'Experiencia': 'Pleno', 'Salário': 'de R$ 8.001/mês a R$ 12.000/mês'}\n"
     ]
    }
   ],
   "source": [
    "with open(file=\"Dados/State_of_data_2022.csv\", mode=\"r\", encoding=\"utf-8\") as fp:\n",
    "  header = fp.readline()\n",
    "\n",
    "  for _ in range(10):\n",
    "    line = fp.readline()\n",
    "    line = line.split(sep=',')\n",
    "    print({\"Cargo\": line[21], \"Experiencia\": line[22], \"Salário\": line[23]})"
   ]
  },
  {
   "cell_type": "markdown",
   "metadata": {
    "id": "-IJH4nf8jY_v"
   },
   "source": [
    "# **3\\. Processamento**"
   ]
  },
  {
   "cell_type": "markdown",
   "metadata": {
    "id": "y9AuUgL2kBIE"
   },
   "source": [
    "Nesta seção, empregaremos a biblioteca *Pandas* para processar e analisar os dados do Levantamento sobre Dados Brasil. O Pandas oferece uma ampla gama de funcionalidades para manipulação de dados."
   ]
  },
  {
   "cell_type": "markdown",
   "metadata": {
    "id": "iRKJgYIekTgA"
   },
   "source": [
    "## **3\\.1\\. Pré-processamento**"
   ]
  },
  {
   "cell_type": "markdown",
   "metadata": {
    "id": "WT3BDHEEkvMO"
   },
   "source": [
    "Primeiramente, é utilizado um código que lê as linhas de um arquivo CSV, extrai informações específicas (cargo, experiência e salário) de cada linha e armazena essas informações em uma lista de dicionários chamada data. Depois, imprime os dez primeiros elementos dessa lista."
   ]
  },
  {
   "cell_type": "code",
   "execution_count": 8,
   "metadata": {
    "colab": {
     "base_uri": "https://localhost:8080/"
    },
    "id": "Lng19o79jYJd",
    "outputId": "d9898ce8-4058-4698-a4fd-880b0a6b632f"
   },
   "outputs": [
    {
     "name": "stdout",
     "output_type": "stream",
     "text": [
      "{'Cargo': 'DBA/Administrador de Banco de Dados', 'Experiencia': 'Júnior', 'Salário': 'de R$ 8.001/mês a R$ 12.000/mês'}\n",
      "{'Cargo': 'Supervisor/Coordenador', 'Experiencia': '', 'Salário': ''}\n",
      "{'Cargo': 'Desenvolvedor/ Engenheiro de Software/ Analista de Sistemas', 'Experiencia': 'Pleno', 'Salário': 'de R$ 12.001/mês a R$ 16.000/mês'}\n",
      "{'Cargo': 'Cientista de Dados/Data Scientist', 'Experiencia': 'Sênior', 'Salário': 'de R$ 12.001/mês a R$ 16.000/mês'}\n",
      "{'Cargo': 'Desenvolvedor/ Engenheiro de Software/ Analista de Sistemas', 'Experiencia': 'Pleno', 'Salário': 'de R$ 6.001/mês a R$ 8.000/mês'}\n",
      "{'Cargo': 'Professor', 'Experiencia': 'Pleno', 'Salário': 'de R$ 2.001/mês a R$ 3.000/mês'}\n",
      "{'Cargo': 'Analista de BI/BI Analyst', 'Experiencia': 'Júnior', 'Salário': 'de R$ 4.001/mês a R$ 6.000/mês'}\n",
      "{'Cargo': 'Desenvolvedor/ Engenheiro de Software/ Analista de Sistemas', 'Experiencia': 'Júnior', 'Salário': 'de R$ 2.001/mês a R$ 3.000/mês'}\n",
      "{'Cargo': 'Analista de BI/BI Analyst', 'Experiencia': 'Sênior', 'Salário': 'de R$ 6.001/mês a R$ 8.000/mês'}\n",
      "{'Cargo': 'Professor', 'Experiencia': 'Pleno', 'Salário': 'de R$ 8.001/mês a R$ 12.000/mês'}\n"
     ]
    }
   ],
   "source": [
    "data = list() # Lista vazia\n",
    "\n",
    "with open(file=\"Dados/State_of_data_2022.csv\", mode=\"r\", encoding=\"utf-8\") as fp:\n",
    "  header = fp.readline()\n",
    "  line = fp.readline()\n",
    "\n",
    "  while line:\n",
    "    line = line.split(sep=',') # linha como lista\n",
    "    data.append({\"Cargo\": line[21], \"Experiencia\": line[22], \"Salário\": line[23]}) # Adicionando na lista criada\n",
    "    line = fp.readline() # linhas como texto\n",
    "\n",
    "for datum in data[0:10]: #Percorrendo os dez primeiros elementod da lista já preenchida\n",
    "  print(datum)"
   ]
  },
  {
   "cell_type": "code",
   "execution_count": 9,
   "metadata": {
    "colab": {
     "base_uri": "https://localhost:8080/"
    },
    "id": "DgDp-L_YlPK3",
    "outputId": "5fd886f9-9c6c-4479-f2cd-e9d17732fa05"
   },
   "outputs": [
    {
     "data": {
      "text/plain": [
       "4271"
      ]
     },
     "execution_count": 9,
     "metadata": {},
     "output_type": "execute_result"
    }
   ],
   "source": [
    "len(data) # Tamanho da lista"
   ]
  },
  {
   "cell_type": "markdown",
   "metadata": {
    "id": "hg2oeLA_lDEN"
   },
   "source": [
    "## **3\\.2\\. Biblioteca Pandas**"
   ]
  },
  {
   "cell_type": "markdown",
   "metadata": {
    "id": "xU-dyo-clLoh"
   },
   "source": [
    "Importando a biblioteca:"
   ]
  },
  {
   "cell_type": "code",
   "execution_count": 10,
   "metadata": {
    "id": "PY5b11sxlaZs"
   },
   "outputs": [],
   "source": [
    "import pandas as pd"
   ]
  },
  {
   "cell_type": "markdown",
   "metadata": {
    "id": "LBVGgMXjlcYc"
   },
   "source": [
    "O próximo trecho de código cria um *DataFrame* do *Pandas* a partir dos dados contidos na lista data e exibe as quinze primeiras linhas desse *DataFrame*."
   ]
  },
  {
   "cell_type": "code",
   "execution_count": 11,
   "metadata": {
    "colab": {
     "base_uri": "https://localhost:8080/",
     "height": 520
    },
    "id": "rkH-EKbRlwMY",
    "outputId": "d3b931a9-74bd-4c30-c964-e404cb16fe5b"
   },
   "outputs": [
    {
     "data": {
      "text/html": [
       "<div>\n",
       "<style scoped>\n",
       "    .dataframe tbody tr th:only-of-type {\n",
       "        vertical-align: middle;\n",
       "    }\n",
       "\n",
       "    .dataframe tbody tr th {\n",
       "        vertical-align: top;\n",
       "    }\n",
       "\n",
       "    .dataframe thead th {\n",
       "        text-align: right;\n",
       "    }\n",
       "</style>\n",
       "<table border=\"1\" class=\"dataframe\">\n",
       "  <thead>\n",
       "    <tr style=\"text-align: right;\">\n",
       "      <th></th>\n",
       "      <th>Cargo</th>\n",
       "      <th>Experiencia</th>\n",
       "      <th>Salário</th>\n",
       "    </tr>\n",
       "  </thead>\n",
       "  <tbody>\n",
       "    <tr>\n",
       "      <th>0</th>\n",
       "      <td>DBA/Administrador de Banco de Dados</td>\n",
       "      <td>Júnior</td>\n",
       "      <td>de R$ 8.001/mês a R$ 12.000/mês</td>\n",
       "    </tr>\n",
       "    <tr>\n",
       "      <th>1</th>\n",
       "      <td>Supervisor/Coordenador</td>\n",
       "      <td></td>\n",
       "      <td></td>\n",
       "    </tr>\n",
       "    <tr>\n",
       "      <th>2</th>\n",
       "      <td>Desenvolvedor/ Engenheiro de Software/ Analist...</td>\n",
       "      <td>Pleno</td>\n",
       "      <td>de R$ 12.001/mês a R$ 16.000/mês</td>\n",
       "    </tr>\n",
       "    <tr>\n",
       "      <th>3</th>\n",
       "      <td>Cientista de Dados/Data Scientist</td>\n",
       "      <td>Sênior</td>\n",
       "      <td>de R$ 12.001/mês a R$ 16.000/mês</td>\n",
       "    </tr>\n",
       "    <tr>\n",
       "      <th>4</th>\n",
       "      <td>Desenvolvedor/ Engenheiro de Software/ Analist...</td>\n",
       "      <td>Pleno</td>\n",
       "      <td>de R$ 6.001/mês a R$ 8.000/mês</td>\n",
       "    </tr>\n",
       "    <tr>\n",
       "      <th>5</th>\n",
       "      <td>Professor</td>\n",
       "      <td>Pleno</td>\n",
       "      <td>de R$ 2.001/mês a R$ 3.000/mês</td>\n",
       "    </tr>\n",
       "    <tr>\n",
       "      <th>6</th>\n",
       "      <td>Analista de BI/BI Analyst</td>\n",
       "      <td>Júnior</td>\n",
       "      <td>de R$ 4.001/mês a R$ 6.000/mês</td>\n",
       "    </tr>\n",
       "    <tr>\n",
       "      <th>7</th>\n",
       "      <td>Desenvolvedor/ Engenheiro de Software/ Analist...</td>\n",
       "      <td>Júnior</td>\n",
       "      <td>de R$ 2.001/mês a R$ 3.000/mês</td>\n",
       "    </tr>\n",
       "    <tr>\n",
       "      <th>8</th>\n",
       "      <td>Analista de BI/BI Analyst</td>\n",
       "      <td>Sênior</td>\n",
       "      <td>de R$ 6.001/mês a R$ 8.000/mês</td>\n",
       "    </tr>\n",
       "    <tr>\n",
       "      <th>9</th>\n",
       "      <td>Professor</td>\n",
       "      <td>Pleno</td>\n",
       "      <td>de R$ 8.001/mês a R$ 12.000/mês</td>\n",
       "    </tr>\n",
       "    <tr>\n",
       "      <th>10</th>\n",
       "      <td>Analista de BI/BI Analyst</td>\n",
       "      <td>Júnior</td>\n",
       "      <td>de R$ 3.001/mês a R$ 4.000/mês</td>\n",
       "    </tr>\n",
       "    <tr>\n",
       "      <th>11</th>\n",
       "      <td>Analista de Inteligência de Mercado/Market Int...</td>\n",
       "      <td>Sênior</td>\n",
       "      <td>de R$ 8.001/mês a R$ 12.000/mês</td>\n",
       "    </tr>\n",
       "    <tr>\n",
       "      <th>12</th>\n",
       "      <td></td>\n",
       "      <td></td>\n",
       "      <td></td>\n",
       "    </tr>\n",
       "    <tr>\n",
       "      <th>13</th>\n",
       "      <td>Analista de Negócios/Business Analyst</td>\n",
       "      <td>Júnior</td>\n",
       "      <td>de R$ 4.001/mês a R$ 6.000/mês</td>\n",
       "    </tr>\n",
       "    <tr>\n",
       "      <th>14</th>\n",
       "      <td>Varejo</td>\n",
       "      <td>Acima de 3.000</td>\n",
       "      <td>FALSE</td>\n",
       "    </tr>\n",
       "  </tbody>\n",
       "</table>\n",
       "</div>"
      ],
      "text/plain": [
       "                                                Cargo     Experiencia  \\\n",
       "0                 DBA/Administrador de Banco de Dados          Júnior   \n",
       "1                              Supervisor/Coordenador                   \n",
       "2   Desenvolvedor/ Engenheiro de Software/ Analist...           Pleno   \n",
       "3                   Cientista de Dados/Data Scientist          Sênior   \n",
       "4   Desenvolvedor/ Engenheiro de Software/ Analist...           Pleno   \n",
       "5                                           Professor           Pleno   \n",
       "6                           Analista de BI/BI Analyst          Júnior   \n",
       "7   Desenvolvedor/ Engenheiro de Software/ Analist...          Júnior   \n",
       "8                           Analista de BI/BI Analyst          Sênior   \n",
       "9                                           Professor           Pleno   \n",
       "10                          Analista de BI/BI Analyst          Júnior   \n",
       "11  Analista de Inteligência de Mercado/Market Int...          Sênior   \n",
       "12                                                                      \n",
       "13              Analista de Negócios/Business Analyst          Júnior   \n",
       "14                                             Varejo  Acima de 3.000   \n",
       "\n",
       "                             Salário  \n",
       "0    de R$ 8.001/mês a R$ 12.000/mês  \n",
       "1                                     \n",
       "2   de R$ 12.001/mês a R$ 16.000/mês  \n",
       "3   de R$ 12.001/mês a R$ 16.000/mês  \n",
       "4     de R$ 6.001/mês a R$ 8.000/mês  \n",
       "5     de R$ 2.001/mês a R$ 3.000/mês  \n",
       "6     de R$ 4.001/mês a R$ 6.000/mês  \n",
       "7     de R$ 2.001/mês a R$ 3.000/mês  \n",
       "8     de R$ 6.001/mês a R$ 8.000/mês  \n",
       "9    de R$ 8.001/mês a R$ 12.000/mês  \n",
       "10    de R$ 3.001/mês a R$ 4.000/mês  \n",
       "11   de R$ 8.001/mês a R$ 12.000/mês  \n",
       "12                                    \n",
       "13    de R$ 4.001/mês a R$ 6.000/mês  \n",
       "14                             FALSE  "
      ]
     },
     "execution_count": 11,
     "metadata": {},
     "output_type": "execute_result"
    }
   ],
   "source": [
    "data_table = pd.DataFrame(data)\n",
    "\n",
    "data_table.head(15)"
   ]
  },
  {
   "cell_type": "code",
   "execution_count": 12,
   "metadata": {
    "colab": {
     "base_uri": "https://localhost:8080/"
    },
    "id": "QtBa57rmmA-K",
    "outputId": "0579781c-37a5-4d29-c535-ff61618fdc24"
   },
   "outputs": [
    {
     "data": {
      "text/plain": [
       "(4271, 3)"
      ]
     },
     "execution_count": 12,
     "metadata": {},
     "output_type": "execute_result"
    }
   ],
   "source": [
    "data_table.shape # Proporção da tabela"
   ]
  },
  {
   "cell_type": "markdown",
   "metadata": {
    "id": "ZVQtkYGEmFjS"
   },
   "source": [
    "## **3\\.3\\. Tratando os dados**"
   ]
  },
  {
   "cell_type": "markdown",
   "metadata": {
    "id": "zF6fHE6XmZZf"
   },
   "source": [
    "Aque serão manipuladoe e preparados para uma análise mais detalhada."
   ]
  },
  {
   "cell_type": "markdown",
   "metadata": {
    "id": "R3EiqBZemtYv"
   },
   "source": [
    "### **3\\.3\\.1\\. Removendo linhas com células vazias**"
   ]
  },
  {
   "cell_type": "markdown",
   "metadata": {
    "id": "J25j_OU9m3hC"
   },
   "source": [
    "Esse trecho de código substitui células vazias por NA no *DataFrame* *data_table* e, em seguida, exibe as primeiras 15 linhas do DataFrame após essa substituição:"
   ]
  },
  {
   "cell_type": "code",
   "execution_count": 13,
   "metadata": {
    "colab": {
     "base_uri": "https://localhost:8080/",
     "height": 520
    },
    "id": "WOxwgQ0LnP9l",
    "outputId": "b76ead15-95bd-480c-c255-46763a0e245e"
   },
   "outputs": [
    {
     "data": {
      "text/html": [
       "<div>\n",
       "<style scoped>\n",
       "    .dataframe tbody tr th:only-of-type {\n",
       "        vertical-align: middle;\n",
       "    }\n",
       "\n",
       "    .dataframe tbody tr th {\n",
       "        vertical-align: top;\n",
       "    }\n",
       "\n",
       "    .dataframe thead th {\n",
       "        text-align: right;\n",
       "    }\n",
       "</style>\n",
       "<table border=\"1\" class=\"dataframe\">\n",
       "  <thead>\n",
       "    <tr style=\"text-align: right;\">\n",
       "      <th></th>\n",
       "      <th>Cargo</th>\n",
       "      <th>Experiencia</th>\n",
       "      <th>Salário</th>\n",
       "    </tr>\n",
       "  </thead>\n",
       "  <tbody>\n",
       "    <tr>\n",
       "      <th>0</th>\n",
       "      <td>DBA/Administrador de Banco de Dados</td>\n",
       "      <td>Júnior</td>\n",
       "      <td>de R$ 8.001/mês a R$ 12.000/mês</td>\n",
       "    </tr>\n",
       "    <tr>\n",
       "      <th>1</th>\n",
       "      <td>Supervisor/Coordenador</td>\n",
       "      <td>&lt;NA&gt;</td>\n",
       "      <td>&lt;NA&gt;</td>\n",
       "    </tr>\n",
       "    <tr>\n",
       "      <th>2</th>\n",
       "      <td>Desenvolvedor/ Engenheiro de Software/ Analist...</td>\n",
       "      <td>Pleno</td>\n",
       "      <td>de R$ 12.001/mês a R$ 16.000/mês</td>\n",
       "    </tr>\n",
       "    <tr>\n",
       "      <th>3</th>\n",
       "      <td>Cientista de Dados/Data Scientist</td>\n",
       "      <td>Sênior</td>\n",
       "      <td>de R$ 12.001/mês a R$ 16.000/mês</td>\n",
       "    </tr>\n",
       "    <tr>\n",
       "      <th>4</th>\n",
       "      <td>Desenvolvedor/ Engenheiro de Software/ Analist...</td>\n",
       "      <td>Pleno</td>\n",
       "      <td>de R$ 6.001/mês a R$ 8.000/mês</td>\n",
       "    </tr>\n",
       "    <tr>\n",
       "      <th>5</th>\n",
       "      <td>Professor</td>\n",
       "      <td>Pleno</td>\n",
       "      <td>de R$ 2.001/mês a R$ 3.000/mês</td>\n",
       "    </tr>\n",
       "    <tr>\n",
       "      <th>6</th>\n",
       "      <td>Analista de BI/BI Analyst</td>\n",
       "      <td>Júnior</td>\n",
       "      <td>de R$ 4.001/mês a R$ 6.000/mês</td>\n",
       "    </tr>\n",
       "    <tr>\n",
       "      <th>7</th>\n",
       "      <td>Desenvolvedor/ Engenheiro de Software/ Analist...</td>\n",
       "      <td>Júnior</td>\n",
       "      <td>de R$ 2.001/mês a R$ 3.000/mês</td>\n",
       "    </tr>\n",
       "    <tr>\n",
       "      <th>8</th>\n",
       "      <td>Analista de BI/BI Analyst</td>\n",
       "      <td>Sênior</td>\n",
       "      <td>de R$ 6.001/mês a R$ 8.000/mês</td>\n",
       "    </tr>\n",
       "    <tr>\n",
       "      <th>9</th>\n",
       "      <td>Professor</td>\n",
       "      <td>Pleno</td>\n",
       "      <td>de R$ 8.001/mês a R$ 12.000/mês</td>\n",
       "    </tr>\n",
       "    <tr>\n",
       "      <th>10</th>\n",
       "      <td>Analista de BI/BI Analyst</td>\n",
       "      <td>Júnior</td>\n",
       "      <td>de R$ 3.001/mês a R$ 4.000/mês</td>\n",
       "    </tr>\n",
       "    <tr>\n",
       "      <th>11</th>\n",
       "      <td>Analista de Inteligência de Mercado/Market Int...</td>\n",
       "      <td>Sênior</td>\n",
       "      <td>de R$ 8.001/mês a R$ 12.000/mês</td>\n",
       "    </tr>\n",
       "    <tr>\n",
       "      <th>12</th>\n",
       "      <td>&lt;NA&gt;</td>\n",
       "      <td>&lt;NA&gt;</td>\n",
       "      <td>&lt;NA&gt;</td>\n",
       "    </tr>\n",
       "    <tr>\n",
       "      <th>13</th>\n",
       "      <td>Analista de Negócios/Business Analyst</td>\n",
       "      <td>Júnior</td>\n",
       "      <td>de R$ 4.001/mês a R$ 6.000/mês</td>\n",
       "    </tr>\n",
       "    <tr>\n",
       "      <th>14</th>\n",
       "      <td>Varejo</td>\n",
       "      <td>Acima de 3.000</td>\n",
       "      <td>FALSE</td>\n",
       "    </tr>\n",
       "  </tbody>\n",
       "</table>\n",
       "</div>"
      ],
      "text/plain": [
       "                                                Cargo     Experiencia  \\\n",
       "0                 DBA/Administrador de Banco de Dados          Júnior   \n",
       "1                              Supervisor/Coordenador            <NA>   \n",
       "2   Desenvolvedor/ Engenheiro de Software/ Analist...           Pleno   \n",
       "3                   Cientista de Dados/Data Scientist          Sênior   \n",
       "4   Desenvolvedor/ Engenheiro de Software/ Analist...           Pleno   \n",
       "5                                           Professor           Pleno   \n",
       "6                           Analista de BI/BI Analyst          Júnior   \n",
       "7   Desenvolvedor/ Engenheiro de Software/ Analist...          Júnior   \n",
       "8                           Analista de BI/BI Analyst          Sênior   \n",
       "9                                           Professor           Pleno   \n",
       "10                          Analista de BI/BI Analyst          Júnior   \n",
       "11  Analista de Inteligência de Mercado/Market Int...          Sênior   \n",
       "12                                               <NA>            <NA>   \n",
       "13              Analista de Negócios/Business Analyst          Júnior   \n",
       "14                                             Varejo  Acima de 3.000   \n",
       "\n",
       "                             Salário  \n",
       "0    de R$ 8.001/mês a R$ 12.000/mês  \n",
       "1                               <NA>  \n",
       "2   de R$ 12.001/mês a R$ 16.000/mês  \n",
       "3   de R$ 12.001/mês a R$ 16.000/mês  \n",
       "4     de R$ 6.001/mês a R$ 8.000/mês  \n",
       "5     de R$ 2.001/mês a R$ 3.000/mês  \n",
       "6     de R$ 4.001/mês a R$ 6.000/mês  \n",
       "7     de R$ 2.001/mês a R$ 3.000/mês  \n",
       "8     de R$ 6.001/mês a R$ 8.000/mês  \n",
       "9    de R$ 8.001/mês a R$ 12.000/mês  \n",
       "10    de R$ 3.001/mês a R$ 4.000/mês  \n",
       "11   de R$ 8.001/mês a R$ 12.000/mês  \n",
       "12                              <NA>  \n",
       "13    de R$ 4.001/mês a R$ 6.000/mês  \n",
       "14                             FALSE  "
      ]
     },
     "execution_count": 13,
     "metadata": {},
     "output_type": "execute_result"
    }
   ],
   "source": [
    "data_table = data_table.replace('', pd.NA)\n",
    "\n",
    "data_table.head(n=15)"
   ]
  },
  {
   "cell_type": "markdown",
   "metadata": {
    "id": "YCSxlbWtnef9"
   },
   "source": [
    "São então removidas as linhas que contêm valores NaN."
   ]
  },
  {
   "cell_type": "code",
   "execution_count": 14,
   "metadata": {
    "colab": {
     "base_uri": "https://localhost:8080/",
     "height": 520
    },
    "id": "Hi05c_JOnWU_",
    "outputId": "40942a0d-2f54-49e4-e128-12c9a4e63b76"
   },
   "outputs": [
    {
     "data": {
      "text/html": [
       "<div>\n",
       "<style scoped>\n",
       "    .dataframe tbody tr th:only-of-type {\n",
       "        vertical-align: middle;\n",
       "    }\n",
       "\n",
       "    .dataframe tbody tr th {\n",
       "        vertical-align: top;\n",
       "    }\n",
       "\n",
       "    .dataframe thead th {\n",
       "        text-align: right;\n",
       "    }\n",
       "</style>\n",
       "<table border=\"1\" class=\"dataframe\">\n",
       "  <thead>\n",
       "    <tr style=\"text-align: right;\">\n",
       "      <th></th>\n",
       "      <th>Cargo</th>\n",
       "      <th>Experiencia</th>\n",
       "      <th>Salário</th>\n",
       "    </tr>\n",
       "  </thead>\n",
       "  <tbody>\n",
       "    <tr>\n",
       "      <th>0</th>\n",
       "      <td>DBA/Administrador de Banco de Dados</td>\n",
       "      <td>Júnior</td>\n",
       "      <td>de R$ 8.001/mês a R$ 12.000/mês</td>\n",
       "    </tr>\n",
       "    <tr>\n",
       "      <th>2</th>\n",
       "      <td>Desenvolvedor/ Engenheiro de Software/ Analist...</td>\n",
       "      <td>Pleno</td>\n",
       "      <td>de R$ 12.001/mês a R$ 16.000/mês</td>\n",
       "    </tr>\n",
       "    <tr>\n",
       "      <th>3</th>\n",
       "      <td>Cientista de Dados/Data Scientist</td>\n",
       "      <td>Sênior</td>\n",
       "      <td>de R$ 12.001/mês a R$ 16.000/mês</td>\n",
       "    </tr>\n",
       "    <tr>\n",
       "      <th>4</th>\n",
       "      <td>Desenvolvedor/ Engenheiro de Software/ Analist...</td>\n",
       "      <td>Pleno</td>\n",
       "      <td>de R$ 6.001/mês a R$ 8.000/mês</td>\n",
       "    </tr>\n",
       "    <tr>\n",
       "      <th>5</th>\n",
       "      <td>Professor</td>\n",
       "      <td>Pleno</td>\n",
       "      <td>de R$ 2.001/mês a R$ 3.000/mês</td>\n",
       "    </tr>\n",
       "    <tr>\n",
       "      <th>6</th>\n",
       "      <td>Analista de BI/BI Analyst</td>\n",
       "      <td>Júnior</td>\n",
       "      <td>de R$ 4.001/mês a R$ 6.000/mês</td>\n",
       "    </tr>\n",
       "    <tr>\n",
       "      <th>7</th>\n",
       "      <td>Desenvolvedor/ Engenheiro de Software/ Analist...</td>\n",
       "      <td>Júnior</td>\n",
       "      <td>de R$ 2.001/mês a R$ 3.000/mês</td>\n",
       "    </tr>\n",
       "    <tr>\n",
       "      <th>8</th>\n",
       "      <td>Analista de BI/BI Analyst</td>\n",
       "      <td>Sênior</td>\n",
       "      <td>de R$ 6.001/mês a R$ 8.000/mês</td>\n",
       "    </tr>\n",
       "    <tr>\n",
       "      <th>9</th>\n",
       "      <td>Professor</td>\n",
       "      <td>Pleno</td>\n",
       "      <td>de R$ 8.001/mês a R$ 12.000/mês</td>\n",
       "    </tr>\n",
       "    <tr>\n",
       "      <th>10</th>\n",
       "      <td>Analista de BI/BI Analyst</td>\n",
       "      <td>Júnior</td>\n",
       "      <td>de R$ 3.001/mês a R$ 4.000/mês</td>\n",
       "    </tr>\n",
       "    <tr>\n",
       "      <th>11</th>\n",
       "      <td>Analista de Inteligência de Mercado/Market Int...</td>\n",
       "      <td>Sênior</td>\n",
       "      <td>de R$ 8.001/mês a R$ 12.000/mês</td>\n",
       "    </tr>\n",
       "    <tr>\n",
       "      <th>13</th>\n",
       "      <td>Analista de Negócios/Business Analyst</td>\n",
       "      <td>Júnior</td>\n",
       "      <td>de R$ 4.001/mês a R$ 6.000/mês</td>\n",
       "    </tr>\n",
       "    <tr>\n",
       "      <th>14</th>\n",
       "      <td>Varejo</td>\n",
       "      <td>Acima de 3.000</td>\n",
       "      <td>FALSE</td>\n",
       "    </tr>\n",
       "    <tr>\n",
       "      <th>15</th>\n",
       "      <td>Analista de BI/BI Analyst</td>\n",
       "      <td>Pleno</td>\n",
       "      <td>de R$ 4.001/mês a R$ 6.000/mês</td>\n",
       "    </tr>\n",
       "    <tr>\n",
       "      <th>18</th>\n",
       "      <td>Engenheiro de Dados/Arquiteto de Dados/Data En...</td>\n",
       "      <td>Pleno</td>\n",
       "      <td>de R$ 6.001/mês a R$ 8.000/mês</td>\n",
       "    </tr>\n",
       "  </tbody>\n",
       "</table>\n",
       "</div>"
      ],
      "text/plain": [
       "                                                Cargo     Experiencia  \\\n",
       "0                 DBA/Administrador de Banco de Dados          Júnior   \n",
       "2   Desenvolvedor/ Engenheiro de Software/ Analist...           Pleno   \n",
       "3                   Cientista de Dados/Data Scientist          Sênior   \n",
       "4   Desenvolvedor/ Engenheiro de Software/ Analist...           Pleno   \n",
       "5                                           Professor           Pleno   \n",
       "6                           Analista de BI/BI Analyst          Júnior   \n",
       "7   Desenvolvedor/ Engenheiro de Software/ Analist...          Júnior   \n",
       "8                           Analista de BI/BI Analyst          Sênior   \n",
       "9                                           Professor           Pleno   \n",
       "10                          Analista de BI/BI Analyst          Júnior   \n",
       "11  Analista de Inteligência de Mercado/Market Int...          Sênior   \n",
       "13              Analista de Negócios/Business Analyst          Júnior   \n",
       "14                                             Varejo  Acima de 3.000   \n",
       "15                          Analista de BI/BI Analyst           Pleno   \n",
       "18  Engenheiro de Dados/Arquiteto de Dados/Data En...           Pleno   \n",
       "\n",
       "                             Salário  \n",
       "0    de R$ 8.001/mês a R$ 12.000/mês  \n",
       "2   de R$ 12.001/mês a R$ 16.000/mês  \n",
       "3   de R$ 12.001/mês a R$ 16.000/mês  \n",
       "4     de R$ 6.001/mês a R$ 8.000/mês  \n",
       "5     de R$ 2.001/mês a R$ 3.000/mês  \n",
       "6     de R$ 4.001/mês a R$ 6.000/mês  \n",
       "7     de R$ 2.001/mês a R$ 3.000/mês  \n",
       "8     de R$ 6.001/mês a R$ 8.000/mês  \n",
       "9    de R$ 8.001/mês a R$ 12.000/mês  \n",
       "10    de R$ 3.001/mês a R$ 4.000/mês  \n",
       "11   de R$ 8.001/mês a R$ 12.000/mês  \n",
       "13    de R$ 4.001/mês a R$ 6.000/mês  \n",
       "14                             FALSE  \n",
       "15    de R$ 4.001/mês a R$ 6.000/mês  \n",
       "18    de R$ 6.001/mês a R$ 8.000/mês  "
      ]
     },
     "execution_count": 14,
     "metadata": {},
     "output_type": "execute_result"
    }
   ],
   "source": [
    "data_table = data_table.dropna()\n",
    "\n",
    "data_table.head(n=15)"
   ]
  },
  {
   "cell_type": "code",
   "execution_count": 15,
   "metadata": {
    "colab": {
     "base_uri": "https://localhost:8080/"
    },
    "id": "_jPD3UmBnn-E",
    "outputId": "702c5f2b-fef4-42b9-d445-d466c5deb0ef"
   },
   "outputs": [
    {
     "data": {
      "text/plain": [
       "(2790, 3)"
      ]
     },
     "execution_count": 15,
     "metadata": {},
     "output_type": "execute_result"
    }
   ],
   "source": [
    "data_table.shape # Tamanho após as remoções"
   ]
  },
  {
   "cell_type": "markdown",
   "metadata": {
    "id": "z-dCXieHnphU"
   },
   "source": [
    "### **3\\.3\\.2\\. Removendo inconsistências**"
   ]
  },
  {
   "cell_type": "markdown",
   "metadata": {
    "id": "RdT28xq6n6Lb"
   },
   "source": [
    "Analisando quais são as categorias da coluna 'Salário':"
   ]
  },
  {
   "cell_type": "code",
   "execution_count": 16,
   "metadata": {
    "colab": {
     "base_uri": "https://localhost:8080/"
    },
    "id": "KSKgvMCtn7VO",
    "outputId": "95f7c10e-6112-4463-e174-e94f92da2453"
   },
   "outputs": [
    {
     "data": {
      "text/plain": [
       "array(['de R$ 8.001/mês a R$ 12.000/mês',\n",
       "       'de R$ 12.001/mês a R$ 16.000/mês',\n",
       "       'de R$ 6.001/mês a R$ 8.000/mês', 'de R$ 2.001/mês a R$ 3.000/mês',\n",
       "       'de R$ 4.001/mês a R$ 6.000/mês', 'de R$ 3.001/mês a R$ 4.000/mês',\n",
       "       'FALSE', 'Empregado (CLT)', 'TRUE',\n",
       "       'de R$ 1.001/mês a R$ 2.000/mês', 'Menos de R$ 1.000/mês',\n",
       "       'de 11 a 50', ' CIO', 'de R$ 25.001/mês a R$ 30.000/mês',\n",
       "       'Sudeste', 'de R$ 20.001/mês a R$ 25.000/mês',\n",
       "       'de R$ 30.001/mês a R$ 40.000/mês', 'Seguros ou Previdência',\n",
       "       'de 101 a 500', 'Acima de R$ 40.001/mês', ' CTO etc)\"',\n",
       "       'de R$ 16.001/mês a R$ 20.000/mês',\n",
       "       'Tecnologia/Fábrica de Software', 'de 1.001 a 3.000', 'de 1 a 5',\n",
       "       'Norte', 'Gerente/Head', 'Supervisor/Coordenador', 'Setor Público',\n",
       "       'Área de Consultoria', 'Acima de 3.000',\n",
       "       'Empreendedor ou Empregado (CNPJ)', 'Internet/Ecommerce',\n",
       "       'de 501 a 1.000', 'Finanças ou Bancos', ' buscando recolocação\"',\n",
       "       'Outra Opção', 'SP', 'Trabalho na área Acadêmica/Pesquisador',\n",
       "       'Outras Engenharias', 'Sul', 'Varejo', 'de 51 a 100',\n",
       "       'Servidor Público', 'Nordeste', 'PB',\n",
       "       'Vivo fora do Brasil e trabalho para empresa de fora do Brasil',\n",
       "       'Setor Imobiliário/ Construção Civil', 'Setor de Energia',\n",
       "       'Marketing',\n",
       "       'Computação / Engenharia de Software / Sistemas de Informação/ TI',\n",
       "       'Estagiário', 'São Paulo (SP)', 'BA', 'Setor Alimentício',\n",
       "       'Setor Automotivo', 'Área da Saúde', 'Telecomunicação', 'SC',\n",
       "       'Educação', 'Indústria',\n",
       "       'Vivo no Brasil e trabalho remoto para empresa de fora do Brasil',\n",
       "       'Freelancer', '\"Desempregado', 'MG', 'Graduação/Bacharelado',\n",
       "       'Pernambuco (PE)', 'de 6 a 10', 'Outra opção'], dtype=object)"
      ]
     },
     "execution_count": 16,
     "metadata": {},
     "output_type": "execute_result"
    }
   ],
   "source": [
    "data_table['Salário'].unique()"
   ]
  },
  {
   "cell_type": "markdown",
   "metadata": {
    "id": "qJ6QXDeCoEEn"
   },
   "source": [
    "Durante o processo de tratamento dos dados, uma cópia do DataFrame original data_table foi criada para evitar modificações acidentais. Em seguida, uma função lambda foi aplicada à coluna \"Salário\" da cópia, verificando se cada valor continha o símbolo 'R$'. Os valores foram substituídos por pd.NA caso não seguissem o padrão esperado. Posteriormente, os valores tratados foram atribuídos de volta à coluna \"Salário\" do DataFrame original."
   ]
  },
  {
   "cell_type": "code",
   "execution_count": 17,
   "metadata": {
    "colab": {
     "base_uri": "https://localhost:8080/",
     "height": 520
    },
    "id": "3KPDsRT9ohwl",
    "outputId": "b7c29ecc-e193-439e-c221-680695f39d4a"
   },
   "outputs": [
    {
     "data": {
      "text/html": [
       "<div>\n",
       "<style scoped>\n",
       "    .dataframe tbody tr th:only-of-type {\n",
       "        vertical-align: middle;\n",
       "    }\n",
       "\n",
       "    .dataframe tbody tr th {\n",
       "        vertical-align: top;\n",
       "    }\n",
       "\n",
       "    .dataframe thead th {\n",
       "        text-align: right;\n",
       "    }\n",
       "</style>\n",
       "<table border=\"1\" class=\"dataframe\">\n",
       "  <thead>\n",
       "    <tr style=\"text-align: right;\">\n",
       "      <th></th>\n",
       "      <th>Cargo</th>\n",
       "      <th>Experiencia</th>\n",
       "      <th>Salário</th>\n",
       "    </tr>\n",
       "  </thead>\n",
       "  <tbody>\n",
       "    <tr>\n",
       "      <th>0</th>\n",
       "      <td>DBA/Administrador de Banco de Dados</td>\n",
       "      <td>Júnior</td>\n",
       "      <td>de R$ 8.001/mês a R$ 12.000/mês</td>\n",
       "    </tr>\n",
       "    <tr>\n",
       "      <th>2</th>\n",
       "      <td>Desenvolvedor/ Engenheiro de Software/ Analist...</td>\n",
       "      <td>Pleno</td>\n",
       "      <td>de R$ 12.001/mês a R$ 16.000/mês</td>\n",
       "    </tr>\n",
       "    <tr>\n",
       "      <th>3</th>\n",
       "      <td>Cientista de Dados/Data Scientist</td>\n",
       "      <td>Sênior</td>\n",
       "      <td>de R$ 12.001/mês a R$ 16.000/mês</td>\n",
       "    </tr>\n",
       "    <tr>\n",
       "      <th>4</th>\n",
       "      <td>Desenvolvedor/ Engenheiro de Software/ Analist...</td>\n",
       "      <td>Pleno</td>\n",
       "      <td>de R$ 6.001/mês a R$ 8.000/mês</td>\n",
       "    </tr>\n",
       "    <tr>\n",
       "      <th>5</th>\n",
       "      <td>Professor</td>\n",
       "      <td>Pleno</td>\n",
       "      <td>de R$ 2.001/mês a R$ 3.000/mês</td>\n",
       "    </tr>\n",
       "    <tr>\n",
       "      <th>6</th>\n",
       "      <td>Analista de BI/BI Analyst</td>\n",
       "      <td>Júnior</td>\n",
       "      <td>de R$ 4.001/mês a R$ 6.000/mês</td>\n",
       "    </tr>\n",
       "    <tr>\n",
       "      <th>7</th>\n",
       "      <td>Desenvolvedor/ Engenheiro de Software/ Analist...</td>\n",
       "      <td>Júnior</td>\n",
       "      <td>de R$ 2.001/mês a R$ 3.000/mês</td>\n",
       "    </tr>\n",
       "    <tr>\n",
       "      <th>8</th>\n",
       "      <td>Analista de BI/BI Analyst</td>\n",
       "      <td>Sênior</td>\n",
       "      <td>de R$ 6.001/mês a R$ 8.000/mês</td>\n",
       "    </tr>\n",
       "    <tr>\n",
       "      <th>9</th>\n",
       "      <td>Professor</td>\n",
       "      <td>Pleno</td>\n",
       "      <td>de R$ 8.001/mês a R$ 12.000/mês</td>\n",
       "    </tr>\n",
       "    <tr>\n",
       "      <th>10</th>\n",
       "      <td>Analista de BI/BI Analyst</td>\n",
       "      <td>Júnior</td>\n",
       "      <td>de R$ 3.001/mês a R$ 4.000/mês</td>\n",
       "    </tr>\n",
       "    <tr>\n",
       "      <th>11</th>\n",
       "      <td>Analista de Inteligência de Mercado/Market Int...</td>\n",
       "      <td>Sênior</td>\n",
       "      <td>de R$ 8.001/mês a R$ 12.000/mês</td>\n",
       "    </tr>\n",
       "    <tr>\n",
       "      <th>13</th>\n",
       "      <td>Analista de Negócios/Business Analyst</td>\n",
       "      <td>Júnior</td>\n",
       "      <td>de R$ 4.001/mês a R$ 6.000/mês</td>\n",
       "    </tr>\n",
       "    <tr>\n",
       "      <th>14</th>\n",
       "      <td>Varejo</td>\n",
       "      <td>Acima de 3.000</td>\n",
       "      <td>&lt;NA&gt;</td>\n",
       "    </tr>\n",
       "    <tr>\n",
       "      <th>15</th>\n",
       "      <td>Analista de BI/BI Analyst</td>\n",
       "      <td>Pleno</td>\n",
       "      <td>de R$ 4.001/mês a R$ 6.000/mês</td>\n",
       "    </tr>\n",
       "    <tr>\n",
       "      <th>18</th>\n",
       "      <td>Engenheiro de Dados/Arquiteto de Dados/Data En...</td>\n",
       "      <td>Pleno</td>\n",
       "      <td>de R$ 6.001/mês a R$ 8.000/mês</td>\n",
       "    </tr>\n",
       "  </tbody>\n",
       "</table>\n",
       "</div>"
      ],
      "text/plain": [
       "                                                Cargo     Experiencia  \\\n",
       "0                 DBA/Administrador de Banco de Dados          Júnior   \n",
       "2   Desenvolvedor/ Engenheiro de Software/ Analist...           Pleno   \n",
       "3                   Cientista de Dados/Data Scientist          Sênior   \n",
       "4   Desenvolvedor/ Engenheiro de Software/ Analist...           Pleno   \n",
       "5                                           Professor           Pleno   \n",
       "6                           Analista de BI/BI Analyst          Júnior   \n",
       "7   Desenvolvedor/ Engenheiro de Software/ Analist...          Júnior   \n",
       "8                           Analista de BI/BI Analyst          Sênior   \n",
       "9                                           Professor           Pleno   \n",
       "10                          Analista de BI/BI Analyst          Júnior   \n",
       "11  Analista de Inteligência de Mercado/Market Int...          Sênior   \n",
       "13              Analista de Negócios/Business Analyst          Júnior   \n",
       "14                                             Varejo  Acima de 3.000   \n",
       "15                          Analista de BI/BI Analyst           Pleno   \n",
       "18  Engenheiro de Dados/Arquiteto de Dados/Data En...           Pleno   \n",
       "\n",
       "                             Salário  \n",
       "0    de R$ 8.001/mês a R$ 12.000/mês  \n",
       "2   de R$ 12.001/mês a R$ 16.000/mês  \n",
       "3   de R$ 12.001/mês a R$ 16.000/mês  \n",
       "4     de R$ 6.001/mês a R$ 8.000/mês  \n",
       "5     de R$ 2.001/mês a R$ 3.000/mês  \n",
       "6     de R$ 4.001/mês a R$ 6.000/mês  \n",
       "7     de R$ 2.001/mês a R$ 3.000/mês  \n",
       "8     de R$ 6.001/mês a R$ 8.000/mês  \n",
       "9    de R$ 8.001/mês a R$ 12.000/mês  \n",
       "10    de R$ 3.001/mês a R$ 4.000/mês  \n",
       "11   de R$ 8.001/mês a R$ 12.000/mês  \n",
       "13    de R$ 4.001/mês a R$ 6.000/mês  \n",
       "14                              <NA>  \n",
       "15    de R$ 4.001/mês a R$ 6.000/mês  \n",
       "18    de R$ 6.001/mês a R$ 8.000/mês  "
      ]
     },
     "execution_count": 17,
     "metadata": {},
     "output_type": "execute_result"
    }
   ],
   "source": [
    "# Aplicando a mesma coisa em células da coluna salário que estão foram do padrão\n",
    "data_table_copy = data_table.copy()\n",
    "data_table_copy['Salário'] = data_table_copy['Salário'].apply(lambda row: row if 'R$' in row else pd.NA)\n",
    "\n",
    "# Agora, atribuir a cópia de volta ao DataFrame original usando .loc[]\n",
    "data_table.loc[:, 'Salário'] = data_table_copy['Salário']\n",
    "\n",
    "data_table.head(n=15)"
   ]
  },
  {
   "cell_type": "markdown",
   "metadata": {
    "id": "gmQTJ1SvotCv"
   },
   "source": [
    "São então removidas novamente as linhas que contêm valores NaN."
   ]
  },
  {
   "cell_type": "code",
   "execution_count": 18,
   "metadata": {
    "colab": {
     "base_uri": "https://localhost:8080/",
     "height": 520
    },
    "id": "i-pc2yV5ooAb",
    "outputId": "9c9e4ffa-9fd4-44a5-e75d-4b788b4bcf62"
   },
   "outputs": [
    {
     "data": {
      "text/html": [
       "<div>\n",
       "<style scoped>\n",
       "    .dataframe tbody tr th:only-of-type {\n",
       "        vertical-align: middle;\n",
       "    }\n",
       "\n",
       "    .dataframe tbody tr th {\n",
       "        vertical-align: top;\n",
       "    }\n",
       "\n",
       "    .dataframe thead th {\n",
       "        text-align: right;\n",
       "    }\n",
       "</style>\n",
       "<table border=\"1\" class=\"dataframe\">\n",
       "  <thead>\n",
       "    <tr style=\"text-align: right;\">\n",
       "      <th></th>\n",
       "      <th>Cargo</th>\n",
       "      <th>Experiencia</th>\n",
       "      <th>Salário</th>\n",
       "    </tr>\n",
       "  </thead>\n",
       "  <tbody>\n",
       "    <tr>\n",
       "      <th>0</th>\n",
       "      <td>DBA/Administrador de Banco de Dados</td>\n",
       "      <td>Júnior</td>\n",
       "      <td>de R$ 8.001/mês a R$ 12.000/mês</td>\n",
       "    </tr>\n",
       "    <tr>\n",
       "      <th>2</th>\n",
       "      <td>Desenvolvedor/ Engenheiro de Software/ Analist...</td>\n",
       "      <td>Pleno</td>\n",
       "      <td>de R$ 12.001/mês a R$ 16.000/mês</td>\n",
       "    </tr>\n",
       "    <tr>\n",
       "      <th>3</th>\n",
       "      <td>Cientista de Dados/Data Scientist</td>\n",
       "      <td>Sênior</td>\n",
       "      <td>de R$ 12.001/mês a R$ 16.000/mês</td>\n",
       "    </tr>\n",
       "    <tr>\n",
       "      <th>4</th>\n",
       "      <td>Desenvolvedor/ Engenheiro de Software/ Analist...</td>\n",
       "      <td>Pleno</td>\n",
       "      <td>de R$ 6.001/mês a R$ 8.000/mês</td>\n",
       "    </tr>\n",
       "    <tr>\n",
       "      <th>5</th>\n",
       "      <td>Professor</td>\n",
       "      <td>Pleno</td>\n",
       "      <td>de R$ 2.001/mês a R$ 3.000/mês</td>\n",
       "    </tr>\n",
       "    <tr>\n",
       "      <th>6</th>\n",
       "      <td>Analista de BI/BI Analyst</td>\n",
       "      <td>Júnior</td>\n",
       "      <td>de R$ 4.001/mês a R$ 6.000/mês</td>\n",
       "    </tr>\n",
       "    <tr>\n",
       "      <th>7</th>\n",
       "      <td>Desenvolvedor/ Engenheiro de Software/ Analist...</td>\n",
       "      <td>Júnior</td>\n",
       "      <td>de R$ 2.001/mês a R$ 3.000/mês</td>\n",
       "    </tr>\n",
       "    <tr>\n",
       "      <th>8</th>\n",
       "      <td>Analista de BI/BI Analyst</td>\n",
       "      <td>Sênior</td>\n",
       "      <td>de R$ 6.001/mês a R$ 8.000/mês</td>\n",
       "    </tr>\n",
       "    <tr>\n",
       "      <th>9</th>\n",
       "      <td>Professor</td>\n",
       "      <td>Pleno</td>\n",
       "      <td>de R$ 8.001/mês a R$ 12.000/mês</td>\n",
       "    </tr>\n",
       "    <tr>\n",
       "      <th>10</th>\n",
       "      <td>Analista de BI/BI Analyst</td>\n",
       "      <td>Júnior</td>\n",
       "      <td>de R$ 3.001/mês a R$ 4.000/mês</td>\n",
       "    </tr>\n",
       "    <tr>\n",
       "      <th>11</th>\n",
       "      <td>Analista de Inteligência de Mercado/Market Int...</td>\n",
       "      <td>Sênior</td>\n",
       "      <td>de R$ 8.001/mês a R$ 12.000/mês</td>\n",
       "    </tr>\n",
       "    <tr>\n",
       "      <th>13</th>\n",
       "      <td>Analista de Negócios/Business Analyst</td>\n",
       "      <td>Júnior</td>\n",
       "      <td>de R$ 4.001/mês a R$ 6.000/mês</td>\n",
       "    </tr>\n",
       "    <tr>\n",
       "      <th>15</th>\n",
       "      <td>Analista de BI/BI Analyst</td>\n",
       "      <td>Pleno</td>\n",
       "      <td>de R$ 4.001/mês a R$ 6.000/mês</td>\n",
       "    </tr>\n",
       "    <tr>\n",
       "      <th>18</th>\n",
       "      <td>Engenheiro de Dados/Arquiteto de Dados/Data En...</td>\n",
       "      <td>Pleno</td>\n",
       "      <td>de R$ 6.001/mês a R$ 8.000/mês</td>\n",
       "    </tr>\n",
       "    <tr>\n",
       "      <th>22</th>\n",
       "      <td>Product Manager/ Product Owner (PM/APM/DPM/GPM...</td>\n",
       "      <td>Pleno</td>\n",
       "      <td>de R$ 6.001/mês a R$ 8.000/mês</td>\n",
       "    </tr>\n",
       "  </tbody>\n",
       "</table>\n",
       "</div>"
      ],
      "text/plain": [
       "                                                Cargo Experiencia  \\\n",
       "0                 DBA/Administrador de Banco de Dados      Júnior   \n",
       "2   Desenvolvedor/ Engenheiro de Software/ Analist...       Pleno   \n",
       "3                   Cientista de Dados/Data Scientist      Sênior   \n",
       "4   Desenvolvedor/ Engenheiro de Software/ Analist...       Pleno   \n",
       "5                                           Professor       Pleno   \n",
       "6                           Analista de BI/BI Analyst      Júnior   \n",
       "7   Desenvolvedor/ Engenheiro de Software/ Analist...      Júnior   \n",
       "8                           Analista de BI/BI Analyst      Sênior   \n",
       "9                                           Professor       Pleno   \n",
       "10                          Analista de BI/BI Analyst      Júnior   \n",
       "11  Analista de Inteligência de Mercado/Market Int...      Sênior   \n",
       "13              Analista de Negócios/Business Analyst      Júnior   \n",
       "15                          Analista de BI/BI Analyst       Pleno   \n",
       "18  Engenheiro de Dados/Arquiteto de Dados/Data En...       Pleno   \n",
       "22  Product Manager/ Product Owner (PM/APM/DPM/GPM...       Pleno   \n",
       "\n",
       "                             Salário  \n",
       "0    de R$ 8.001/mês a R$ 12.000/mês  \n",
       "2   de R$ 12.001/mês a R$ 16.000/mês  \n",
       "3   de R$ 12.001/mês a R$ 16.000/mês  \n",
       "4     de R$ 6.001/mês a R$ 8.000/mês  \n",
       "5     de R$ 2.001/mês a R$ 3.000/mês  \n",
       "6     de R$ 4.001/mês a R$ 6.000/mês  \n",
       "7     de R$ 2.001/mês a R$ 3.000/mês  \n",
       "8     de R$ 6.001/mês a R$ 8.000/mês  \n",
       "9    de R$ 8.001/mês a R$ 12.000/mês  \n",
       "10    de R$ 3.001/mês a R$ 4.000/mês  \n",
       "11   de R$ 8.001/mês a R$ 12.000/mês  \n",
       "13    de R$ 4.001/mês a R$ 6.000/mês  \n",
       "15    de R$ 4.001/mês a R$ 6.000/mês  \n",
       "18    de R$ 6.001/mês a R$ 8.000/mês  \n",
       "22    de R$ 6.001/mês a R$ 8.000/mês  "
      ]
     },
     "execution_count": 18,
     "metadata": {},
     "output_type": "execute_result"
    }
   ],
   "source": [
    "data_table = data_table.dropna()\n",
    "\n",
    "data_table.head(n=15)"
   ]
  },
  {
   "cell_type": "code",
   "execution_count": 19,
   "metadata": {
    "colab": {
     "base_uri": "https://localhost:8080/"
    },
    "id": "JqWQY-ZIo16t",
    "outputId": "53cd0b04-9322-4255-eb5d-2a1dabb8a3fb"
   },
   "outputs": [
    {
     "data": {
      "text/plain": [
       "(2386, 3)"
      ]
     },
     "execution_count": 19,
     "metadata": {},
     "output_type": "execute_result"
    }
   ],
   "source": [
    "data_table.shape"
   ]
  },
  {
   "cell_type": "markdown",
   "metadata": {
    "id": "wQ3SgjuIo6ns"
   },
   "source": [
    "### **3\\.3\\.3\\. Definindo as categorias de interesse da coluna 'Cargo'**"
   ]
  },
  {
   "cell_type": "markdown",
   "metadata": {
    "id": "IiTxuOQ5pKCg"
   },
   "source": [
    "Analisando quais são as categorias da coluna 'Cargo':"
   ]
  },
  {
   "cell_type": "code",
   "execution_count": 20,
   "metadata": {
    "colab": {
     "base_uri": "https://localhost:8080/"
    },
    "id": "TvqEPC5apNDF",
    "outputId": "367bab1d-729a-49fc-d02e-597cd587b2f6"
   },
   "outputs": [
    {
     "data": {
      "text/plain": [
       "array(['DBA/Administrador de Banco de Dados',\n",
       "       'Desenvolvedor/ Engenheiro de Software/ Analista de Sistemas',\n",
       "       'Cientista de Dados/Data Scientist', 'Professor',\n",
       "       'Analista de BI/BI Analyst',\n",
       "       'Analista de Inteligência de Mercado/Market Intelligence',\n",
       "       'Analista de Negócios/Business Analyst',\n",
       "       'Engenheiro de Dados/Arquiteto de Dados/Data Engineer/Data Architect',\n",
       "       'Product Manager/ Product Owner (PM/APM/DPM/GPM/PO)',\n",
       "       'Analista de Dados/Data Analyst',\n",
       "       'Analista de Suporte/Analista Técnico', 'Outra Opção',\n",
       "       'Engenheiro de Machine Learning/ML Engineer', 'Analytics Engineer',\n",
       "       'Analista de Marketing', 'Outras Engenharias (não inclui dev)',\n",
       "       'Economista', 'Estatístico'], dtype=object)"
      ]
     },
     "execution_count": 20,
     "metadata": {},
     "output_type": "execute_result"
    }
   ],
   "source": [
    "data_table['Cargo'].unique()"
   ]
  },
  {
   "cell_type": "markdown",
   "metadata": {
    "id": "DUvpXrJkpTEJ"
   },
   "source": [
    "Os cargos necessários são:\n",
    "* 'Analista de Dados/Data Analyst',\n",
    "* 'Cientista de Dados/Data Scientist',\n",
    "* 'Engenheiro de Dados/Arquiteto de Dados/Data Engineer/Data Architect'"
   ]
  },
  {
   "cell_type": "markdown",
   "metadata": {
    "id": "Yr5sz0sFpiKi"
   },
   "source": [
    "Fazendo lista com o cargos necessários:"
   ]
  },
  {
   "cell_type": "code",
   "execution_count": 21,
   "metadata": {
    "id": "q4eXy3uHpluv"
   },
   "outputs": [],
   "source": [
    "positions = ['Analista de Dados/Data Analyst',\n",
    "             'Cientista de Dados/Data Scientist',\n",
    "             'Engenheiro de Dados/Arquiteto de Dados/Data Engineer/Data Architect',\n",
    "]"
   ]
  },
  {
   "cell_type": "markdown",
   "metadata": {
    "id": "RxMQ5pMvp17A"
   },
   "source": [
    "Código que garante que apenas os valores presentes na lista *positions* permaneçam na coluna 'Cargo', enquanto os outros são substituídos por valores ausentes:"
   ]
  },
  {
   "cell_type": "code",
   "execution_count": 22,
   "metadata": {
    "colab": {
     "base_uri": "https://localhost:8080/"
    },
    "id": "osT6hQ2TqCr3",
    "outputId": "dd04edfa-a7d0-48e0-c935-fdc386876205"
   },
   "outputs": [
    {
     "data": {
      "text/plain": [
       "0                                                  <NA>\n",
       "2                                                  <NA>\n",
       "3                     Cientista de Dados/Data Scientist\n",
       "4                                                  <NA>\n",
       "5                                                  <NA>\n",
       "6                                                  <NA>\n",
       "7                                                  <NA>\n",
       "8                                                  <NA>\n",
       "9                                                  <NA>\n",
       "10                                                 <NA>\n",
       "11                                                 <NA>\n",
       "13                                                 <NA>\n",
       "15                                                 <NA>\n",
       "18    Engenheiro de Dados/Arquiteto de Dados/Data En...\n",
       "22                                                 <NA>\n",
       "Name: Cargo, dtype: object"
      ]
     },
     "execution_count": 22,
     "metadata": {},
     "output_type": "execute_result"
    }
   ],
   "source": [
    "data_table_copy = data_table.copy()\n",
    "data_table_copy['Cargo'] = data_table_copy['Cargo'].apply(lambda row: row if row in positions else pd.NA)\n",
    "\n",
    "data_table.loc[:, 'Cargo'] = data_table_copy['Cargo'].values\n",
    "\n",
    "data_table['Cargo'].head(15)"
   ]
  },
  {
   "cell_type": "markdown",
   "metadata": {
    "id": "Pb_X2TtGqMy6"
   },
   "source": [
    "São então removidas novamente as linhas que contêm valores NaN."
   ]
  },
  {
   "cell_type": "code",
   "execution_count": 23,
   "metadata": {
    "colab": {
     "base_uri": "https://localhost:8080/",
     "height": 520
    },
    "id": "KFYUgqgJqJfc",
    "outputId": "767d8b72-cfd2-456c-e1b9-c61d21acfe15"
   },
   "outputs": [
    {
     "data": {
      "text/html": [
       "<div>\n",
       "<style scoped>\n",
       "    .dataframe tbody tr th:only-of-type {\n",
       "        vertical-align: middle;\n",
       "    }\n",
       "\n",
       "    .dataframe tbody tr th {\n",
       "        vertical-align: top;\n",
       "    }\n",
       "\n",
       "    .dataframe thead th {\n",
       "        text-align: right;\n",
       "    }\n",
       "</style>\n",
       "<table border=\"1\" class=\"dataframe\">\n",
       "  <thead>\n",
       "    <tr style=\"text-align: right;\">\n",
       "      <th></th>\n",
       "      <th>Cargo</th>\n",
       "      <th>Experiencia</th>\n",
       "      <th>Salário</th>\n",
       "    </tr>\n",
       "  </thead>\n",
       "  <tbody>\n",
       "    <tr>\n",
       "      <th>3</th>\n",
       "      <td>Cientista de Dados/Data Scientist</td>\n",
       "      <td>Sênior</td>\n",
       "      <td>de R$ 12.001/mês a R$ 16.000/mês</td>\n",
       "    </tr>\n",
       "    <tr>\n",
       "      <th>18</th>\n",
       "      <td>Engenheiro de Dados/Arquiteto de Dados/Data En...</td>\n",
       "      <td>Pleno</td>\n",
       "      <td>de R$ 6.001/mês a R$ 8.000/mês</td>\n",
       "    </tr>\n",
       "    <tr>\n",
       "      <th>23</th>\n",
       "      <td>Engenheiro de Dados/Arquiteto de Dados/Data En...</td>\n",
       "      <td>Sênior</td>\n",
       "      <td>de R$ 12.001/mês a R$ 16.000/mês</td>\n",
       "    </tr>\n",
       "    <tr>\n",
       "      <th>29</th>\n",
       "      <td>Cientista de Dados/Data Scientist</td>\n",
       "      <td>Júnior</td>\n",
       "      <td>de R$ 8.001/mês a R$ 12.000/mês</td>\n",
       "    </tr>\n",
       "    <tr>\n",
       "      <th>30</th>\n",
       "      <td>Analista de Dados/Data Analyst</td>\n",
       "      <td>Júnior</td>\n",
       "      <td>de R$ 3.001/mês a R$ 4.000/mês</td>\n",
       "    </tr>\n",
       "    <tr>\n",
       "      <th>31</th>\n",
       "      <td>Engenheiro de Dados/Arquiteto de Dados/Data En...</td>\n",
       "      <td>Júnior</td>\n",
       "      <td>de R$ 2.001/mês a R$ 3.000/mês</td>\n",
       "    </tr>\n",
       "    <tr>\n",
       "      <th>37</th>\n",
       "      <td>Engenheiro de Dados/Arquiteto de Dados/Data En...</td>\n",
       "      <td>Júnior</td>\n",
       "      <td>de R$ 2.001/mês a R$ 3.000/mês</td>\n",
       "    </tr>\n",
       "    <tr>\n",
       "      <th>41</th>\n",
       "      <td>Engenheiro de Dados/Arquiteto de Dados/Data En...</td>\n",
       "      <td>Júnior</td>\n",
       "      <td>de R$ 4.001/mês a R$ 6.000/mês</td>\n",
       "    </tr>\n",
       "    <tr>\n",
       "      <th>45</th>\n",
       "      <td>Cientista de Dados/Data Scientist</td>\n",
       "      <td>Sênior</td>\n",
       "      <td>de R$ 6.001/mês a R$ 8.000/mês</td>\n",
       "    </tr>\n",
       "    <tr>\n",
       "      <th>49</th>\n",
       "      <td>Engenheiro de Dados/Arquiteto de Dados/Data En...</td>\n",
       "      <td>Sênior</td>\n",
       "      <td>de R$ 8.001/mês a R$ 12.000/mês</td>\n",
       "    </tr>\n",
       "    <tr>\n",
       "      <th>51</th>\n",
       "      <td>Cientista de Dados/Data Scientist</td>\n",
       "      <td>Pleno</td>\n",
       "      <td>de R$ 6.001/mês a R$ 8.000/mês</td>\n",
       "    </tr>\n",
       "    <tr>\n",
       "      <th>53</th>\n",
       "      <td>Engenheiro de Dados/Arquiteto de Dados/Data En...</td>\n",
       "      <td>Pleno</td>\n",
       "      <td>de R$ 8.001/mês a R$ 12.000/mês</td>\n",
       "    </tr>\n",
       "    <tr>\n",
       "      <th>57</th>\n",
       "      <td>Analista de Dados/Data Analyst</td>\n",
       "      <td>Sênior</td>\n",
       "      <td>de R$ 4.001/mês a R$ 6.000/mês</td>\n",
       "    </tr>\n",
       "    <tr>\n",
       "      <th>58</th>\n",
       "      <td>Engenheiro de Dados/Arquiteto de Dados/Data En...</td>\n",
       "      <td>Pleno</td>\n",
       "      <td>de R$ 8.001/mês a R$ 12.000/mês</td>\n",
       "    </tr>\n",
       "    <tr>\n",
       "      <th>61</th>\n",
       "      <td>Cientista de Dados/Data Scientist</td>\n",
       "      <td>Sênior</td>\n",
       "      <td>de R$ 12.001/mês a R$ 16.000/mês</td>\n",
       "    </tr>\n",
       "  </tbody>\n",
       "</table>\n",
       "</div>"
      ],
      "text/plain": [
       "                                                Cargo Experiencia  \\\n",
       "3                   Cientista de Dados/Data Scientist      Sênior   \n",
       "18  Engenheiro de Dados/Arquiteto de Dados/Data En...       Pleno   \n",
       "23  Engenheiro de Dados/Arquiteto de Dados/Data En...      Sênior   \n",
       "29                  Cientista de Dados/Data Scientist      Júnior   \n",
       "30                     Analista de Dados/Data Analyst      Júnior   \n",
       "31  Engenheiro de Dados/Arquiteto de Dados/Data En...      Júnior   \n",
       "37  Engenheiro de Dados/Arquiteto de Dados/Data En...      Júnior   \n",
       "41  Engenheiro de Dados/Arquiteto de Dados/Data En...      Júnior   \n",
       "45                  Cientista de Dados/Data Scientist      Sênior   \n",
       "49  Engenheiro de Dados/Arquiteto de Dados/Data En...      Sênior   \n",
       "51                  Cientista de Dados/Data Scientist       Pleno   \n",
       "53  Engenheiro de Dados/Arquiteto de Dados/Data En...       Pleno   \n",
       "57                     Analista de Dados/Data Analyst      Sênior   \n",
       "58  Engenheiro de Dados/Arquiteto de Dados/Data En...       Pleno   \n",
       "61                  Cientista de Dados/Data Scientist      Sênior   \n",
       "\n",
       "                             Salário  \n",
       "3   de R$ 12.001/mês a R$ 16.000/mês  \n",
       "18    de R$ 6.001/mês a R$ 8.000/mês  \n",
       "23  de R$ 12.001/mês a R$ 16.000/mês  \n",
       "29   de R$ 8.001/mês a R$ 12.000/mês  \n",
       "30    de R$ 3.001/mês a R$ 4.000/mês  \n",
       "31    de R$ 2.001/mês a R$ 3.000/mês  \n",
       "37    de R$ 2.001/mês a R$ 3.000/mês  \n",
       "41    de R$ 4.001/mês a R$ 6.000/mês  \n",
       "45    de R$ 6.001/mês a R$ 8.000/mês  \n",
       "49   de R$ 8.001/mês a R$ 12.000/mês  \n",
       "51    de R$ 6.001/mês a R$ 8.000/mês  \n",
       "53   de R$ 8.001/mês a R$ 12.000/mês  \n",
       "57    de R$ 4.001/mês a R$ 6.000/mês  \n",
       "58   de R$ 8.001/mês a R$ 12.000/mês  \n",
       "61  de R$ 12.001/mês a R$ 16.000/mês  "
      ]
     },
     "execution_count": 23,
     "metadata": {},
     "output_type": "execute_result"
    }
   ],
   "source": [
    "data_table = data_table.dropna()\n",
    "\n",
    "data_table.head(n=15)"
   ]
  },
  {
   "cell_type": "code",
   "execution_count": 24,
   "metadata": {
    "colab": {
     "base_uri": "https://localhost:8080/"
    },
    "id": "GwlYR0FqqW30",
    "outputId": "65602113-065f-4cf6-d034-ecb805106011"
   },
   "outputs": [
    {
     "data": {
      "text/plain": [
       "(1336, 3)"
      ]
     },
     "execution_count": 24,
     "metadata": {},
     "output_type": "execute_result"
    }
   ],
   "source": [
    "data_table.shape #Proporção após exclusões"
   ]
  },
  {
   "cell_type": "markdown",
   "metadata": {
    "id": "3LZrX9n-qgFr"
   },
   "source": [
    "### **3\\.3\\.4\\. Renomeando categorias da coluna 'Cargo'**"
   ]
  },
  {
   "cell_type": "code",
   "execution_count": 25,
   "metadata": {
    "colab": {
     "base_uri": "https://localhost:8080/",
     "height": 558
    },
    "id": "SKRTmWFGqmtZ",
    "outputId": "923a5fdd-a67d-4abf-dcaa-ec7b152a9f5f"
   },
   "outputs": [
    {
     "name": "stdout",
     "output_type": "stream",
     "text": [
      "{'Analista de Dados/Data Analyst': 'Analista', 'Cientista de Dados/Data Scientist': 'Cientista', 'Engenheiro de Dados/Arquiteto de Dados/Data Engineer/Data Architect': 'Engenheira'}\n"
     ]
    },
    {
     "data": {
      "text/html": [
       "<div>\n",
       "<style scoped>\n",
       "    .dataframe tbody tr th:only-of-type {\n",
       "        vertical-align: middle;\n",
       "    }\n",
       "\n",
       "    .dataframe tbody tr th {\n",
       "        vertical-align: top;\n",
       "    }\n",
       "\n",
       "    .dataframe thead th {\n",
       "        text-align: right;\n",
       "    }\n",
       "</style>\n",
       "<table border=\"1\" class=\"dataframe\">\n",
       "  <thead>\n",
       "    <tr style=\"text-align: right;\">\n",
       "      <th></th>\n",
       "      <th>Cargo</th>\n",
       "      <th>Experiencia</th>\n",
       "      <th>Salário</th>\n",
       "    </tr>\n",
       "  </thead>\n",
       "  <tbody>\n",
       "    <tr>\n",
       "      <th>3</th>\n",
       "      <td>Cientista</td>\n",
       "      <td>Sênior</td>\n",
       "      <td>de R$ 12.001/mês a R$ 16.000/mês</td>\n",
       "    </tr>\n",
       "    <tr>\n",
       "      <th>18</th>\n",
       "      <td>Engenheira</td>\n",
       "      <td>Pleno</td>\n",
       "      <td>de R$ 6.001/mês a R$ 8.000/mês</td>\n",
       "    </tr>\n",
       "    <tr>\n",
       "      <th>23</th>\n",
       "      <td>Engenheira</td>\n",
       "      <td>Sênior</td>\n",
       "      <td>de R$ 12.001/mês a R$ 16.000/mês</td>\n",
       "    </tr>\n",
       "    <tr>\n",
       "      <th>29</th>\n",
       "      <td>Cientista</td>\n",
       "      <td>Júnior</td>\n",
       "      <td>de R$ 8.001/mês a R$ 12.000/mês</td>\n",
       "    </tr>\n",
       "    <tr>\n",
       "      <th>30</th>\n",
       "      <td>Analista</td>\n",
       "      <td>Júnior</td>\n",
       "      <td>de R$ 3.001/mês a R$ 4.000/mês</td>\n",
       "    </tr>\n",
       "    <tr>\n",
       "      <th>31</th>\n",
       "      <td>Engenheira</td>\n",
       "      <td>Júnior</td>\n",
       "      <td>de R$ 2.001/mês a R$ 3.000/mês</td>\n",
       "    </tr>\n",
       "    <tr>\n",
       "      <th>37</th>\n",
       "      <td>Engenheira</td>\n",
       "      <td>Júnior</td>\n",
       "      <td>de R$ 2.001/mês a R$ 3.000/mês</td>\n",
       "    </tr>\n",
       "    <tr>\n",
       "      <th>41</th>\n",
       "      <td>Engenheira</td>\n",
       "      <td>Júnior</td>\n",
       "      <td>de R$ 4.001/mês a R$ 6.000/mês</td>\n",
       "    </tr>\n",
       "    <tr>\n",
       "      <th>45</th>\n",
       "      <td>Cientista</td>\n",
       "      <td>Sênior</td>\n",
       "      <td>de R$ 6.001/mês a R$ 8.000/mês</td>\n",
       "    </tr>\n",
       "    <tr>\n",
       "      <th>49</th>\n",
       "      <td>Engenheira</td>\n",
       "      <td>Sênior</td>\n",
       "      <td>de R$ 8.001/mês a R$ 12.000/mês</td>\n",
       "    </tr>\n",
       "    <tr>\n",
       "      <th>51</th>\n",
       "      <td>Cientista</td>\n",
       "      <td>Pleno</td>\n",
       "      <td>de R$ 6.001/mês a R$ 8.000/mês</td>\n",
       "    </tr>\n",
       "    <tr>\n",
       "      <th>53</th>\n",
       "      <td>Engenheira</td>\n",
       "      <td>Pleno</td>\n",
       "      <td>de R$ 8.001/mês a R$ 12.000/mês</td>\n",
       "    </tr>\n",
       "    <tr>\n",
       "      <th>57</th>\n",
       "      <td>Analista</td>\n",
       "      <td>Sênior</td>\n",
       "      <td>de R$ 4.001/mês a R$ 6.000/mês</td>\n",
       "    </tr>\n",
       "    <tr>\n",
       "      <th>58</th>\n",
       "      <td>Engenheira</td>\n",
       "      <td>Pleno</td>\n",
       "      <td>de R$ 8.001/mês a R$ 12.000/mês</td>\n",
       "    </tr>\n",
       "    <tr>\n",
       "      <th>61</th>\n",
       "      <td>Cientista</td>\n",
       "      <td>Sênior</td>\n",
       "      <td>de R$ 12.001/mês a R$ 16.000/mês</td>\n",
       "    </tr>\n",
       "  </tbody>\n",
       "</table>\n",
       "</div>"
      ],
      "text/plain": [
       "         Cargo Experiencia                           Salário\n",
       "3    Cientista      Sênior  de R$ 12.001/mês a R$ 16.000/mês\n",
       "18  Engenheira       Pleno    de R$ 6.001/mês a R$ 8.000/mês\n",
       "23  Engenheira      Sênior  de R$ 12.001/mês a R$ 16.000/mês\n",
       "29   Cientista      Júnior   de R$ 8.001/mês a R$ 12.000/mês\n",
       "30    Analista      Júnior    de R$ 3.001/mês a R$ 4.000/mês\n",
       "31  Engenheira      Júnior    de R$ 2.001/mês a R$ 3.000/mês\n",
       "37  Engenheira      Júnior    de R$ 2.001/mês a R$ 3.000/mês\n",
       "41  Engenheira      Júnior    de R$ 4.001/mês a R$ 6.000/mês\n",
       "45   Cientista      Sênior    de R$ 6.001/mês a R$ 8.000/mês\n",
       "49  Engenheira      Sênior   de R$ 8.001/mês a R$ 12.000/mês\n",
       "51   Cientista       Pleno    de R$ 6.001/mês a R$ 8.000/mês\n",
       "53  Engenheira       Pleno   de R$ 8.001/mês a R$ 12.000/mês\n",
       "57    Analista      Sênior    de R$ 4.001/mês a R$ 6.000/mês\n",
       "58  Engenheira       Pleno   de R$ 8.001/mês a R$ 12.000/mês\n",
       "61   Cientista      Sênior  de R$ 12.001/mês a R$ 16.000/mês"
      ]
     },
     "execution_count": 25,
     "metadata": {},
     "output_type": "execute_result"
    }
   ],
   "source": [
    "labels = ['Analista', 'Cientista', 'Engenheira']\n",
    "labels = dict(zip(positions, labels))\n",
    "\n",
    "print(labels)\n",
    "\n",
    "data_table.loc[:, 'Cargo'] = data_table['Cargo'].apply(lambda row: labels.get(row, row))\n",
    "\n",
    "data_table.head(n=15)"
   ]
  },
  {
   "cell_type": "markdown",
   "metadata": {
    "id": "9AcUijOAqu0Y"
   },
   "source": [
    "## **3\\.4\\. Resultados de cada coluna**"
   ]
  },
  {
   "cell_type": "code",
   "execution_count": 26,
   "metadata": {
    "colab": {
     "base_uri": "https://localhost:8080/"
    },
    "id": "rRE_6ujyq1_E",
    "outputId": "c3192d33-abda-4e2e-b4ca-17ef70285e0c"
   },
   "outputs": [
    {
     "data": {
      "text/plain": [
       "array(['Cientista', 'Engenheira', 'Analista'], dtype=object)"
      ]
     },
     "execution_count": 26,
     "metadata": {},
     "output_type": "execute_result"
    }
   ],
   "source": [
    "data_table['Cargo'].unique()\n"
   ]
  },
  {
   "cell_type": "code",
   "execution_count": 27,
   "metadata": {
    "colab": {
     "base_uri": "https://localhost:8080/"
    },
    "id": "yFaW3yrPq4E1",
    "outputId": "1f8dd203-ef80-4837-d7bd-fea429212a28"
   },
   "outputs": [
    {
     "data": {
      "text/plain": [
       "array(['Sênior', 'Pleno', 'Júnior'], dtype=object)"
      ]
     },
     "execution_count": 27,
     "metadata": {},
     "output_type": "execute_result"
    }
   ],
   "source": [
    "data_table['Experiencia'].unique()\n"
   ]
  },
  {
   "cell_type": "code",
   "execution_count": 28,
   "metadata": {
    "colab": {
     "base_uri": "https://localhost:8080/"
    },
    "id": "DJog9dBiq5s3",
    "outputId": "b1ef9f1d-573c-4fa7-e465-6f71400c9456"
   },
   "outputs": [
    {
     "data": {
      "text/plain": [
       "array(['de R$ 12.001/mês a R$ 16.000/mês',\n",
       "       'de R$ 6.001/mês a R$ 8.000/mês',\n",
       "       'de R$ 8.001/mês a R$ 12.000/mês',\n",
       "       'de R$ 3.001/mês a R$ 4.000/mês', 'de R$ 2.001/mês a R$ 3.000/mês',\n",
       "       'de R$ 4.001/mês a R$ 6.000/mês',\n",
       "       'de R$ 25.001/mês a R$ 30.000/mês',\n",
       "       'de R$ 30.001/mês a R$ 40.000/mês',\n",
       "       'de R$ 1.001/mês a R$ 2.000/mês', 'Acima de R$ 40.001/mês',\n",
       "       'de R$ 20.001/mês a R$ 25.000/mês',\n",
       "       'de R$ 16.001/mês a R$ 20.000/mês', 'Menos de R$ 1.000/mês'],\n",
       "      dtype=object)"
      ]
     },
     "execution_count": 28,
     "metadata": {},
     "output_type": "execute_result"
    }
   ],
   "source": [
    "data_table['Salário'].unique()"
   ]
  },
  {
   "cell_type": "markdown",
   "metadata": {
    "id": "7cdKMfCWejCl"
   },
   "source": [
    "## **3\\.5\\. Fazendo novo arquivo com a tabela criada**"
   ]
  },
  {
   "cell_type": "code",
   "execution_count": 29,
   "metadata": {
    "id": "0YsDe6okesgu"
   },
   "outputs": [],
   "source": [
    "data_table.to_csv(\"Dados/data.csv\", header=True, index=False)"
   ]
  },
  {
   "cell_type": "markdown",
   "metadata": {
    "id": "DAMFFKu2q-66"
   },
   "source": [
    "# **4\\. Agrupamentos e agregações**"
   ]
  },
  {
   "cell_type": "markdown",
   "metadata": {
    "id": "7FgZ7o2LrPC5"
   },
   "source": [
    " Será abordado técnicas de agrupamento e agregação de dados, essenciais para obter insights significativos a partir de conjuntos de dados."
   ]
  },
  {
   "cell_type": "markdown",
   "metadata": {
    "id": "vHenlzMfrh-B"
   },
   "source": [
    "Adicionando uma coluna de contagem 'Quantidade' é que será útil para preparar os dados para operações de agrupamento e agregação."
   ]
  },
  {
   "cell_type": "code",
   "execution_count": 30,
   "metadata": {
    "colab": {
     "base_uri": "https://localhost:8080/",
     "height": 647
    },
    "id": "ttipEiKlrYh6",
    "outputId": "d553e48c-7980-4a11-dde5-a90785fd9410"
   },
   "outputs": [
    {
     "data": {
      "text/html": [
       "<div>\n",
       "<style scoped>\n",
       "    .dataframe tbody tr th:only-of-type {\n",
       "        vertical-align: middle;\n",
       "    }\n",
       "\n",
       "    .dataframe tbody tr th {\n",
       "        vertical-align: top;\n",
       "    }\n",
       "\n",
       "    .dataframe thead th {\n",
       "        text-align: right;\n",
       "    }\n",
       "</style>\n",
       "<table border=\"1\" class=\"dataframe\">\n",
       "  <thead>\n",
       "    <tr style=\"text-align: right;\">\n",
       "      <th></th>\n",
       "      <th>Cargo</th>\n",
       "      <th>Experiencia</th>\n",
       "      <th>Salário</th>\n",
       "      <th>Quantidade</th>\n",
       "    </tr>\n",
       "  </thead>\n",
       "  <tbody>\n",
       "    <tr>\n",
       "      <th>3</th>\n",
       "      <td>Cientista</td>\n",
       "      <td>Sênior</td>\n",
       "      <td>de R$ 12.001/mês a R$ 16.000/mês</td>\n",
       "      <td>1</td>\n",
       "    </tr>\n",
       "    <tr>\n",
       "      <th>18</th>\n",
       "      <td>Engenheira</td>\n",
       "      <td>Pleno</td>\n",
       "      <td>de R$ 6.001/mês a R$ 8.000/mês</td>\n",
       "      <td>1</td>\n",
       "    </tr>\n",
       "    <tr>\n",
       "      <th>23</th>\n",
       "      <td>Engenheira</td>\n",
       "      <td>Sênior</td>\n",
       "      <td>de R$ 12.001/mês a R$ 16.000/mês</td>\n",
       "      <td>1</td>\n",
       "    </tr>\n",
       "    <tr>\n",
       "      <th>29</th>\n",
       "      <td>Cientista</td>\n",
       "      <td>Júnior</td>\n",
       "      <td>de R$ 8.001/mês a R$ 12.000/mês</td>\n",
       "      <td>1</td>\n",
       "    </tr>\n",
       "    <tr>\n",
       "      <th>30</th>\n",
       "      <td>Analista</td>\n",
       "      <td>Júnior</td>\n",
       "      <td>de R$ 3.001/mês a R$ 4.000/mês</td>\n",
       "      <td>1</td>\n",
       "    </tr>\n",
       "    <tr>\n",
       "      <th>31</th>\n",
       "      <td>Engenheira</td>\n",
       "      <td>Júnior</td>\n",
       "      <td>de R$ 2.001/mês a R$ 3.000/mês</td>\n",
       "      <td>1</td>\n",
       "    </tr>\n",
       "    <tr>\n",
       "      <th>37</th>\n",
       "      <td>Engenheira</td>\n",
       "      <td>Júnior</td>\n",
       "      <td>de R$ 2.001/mês a R$ 3.000/mês</td>\n",
       "      <td>1</td>\n",
       "    </tr>\n",
       "    <tr>\n",
       "      <th>41</th>\n",
       "      <td>Engenheira</td>\n",
       "      <td>Júnior</td>\n",
       "      <td>de R$ 4.001/mês a R$ 6.000/mês</td>\n",
       "      <td>1</td>\n",
       "    </tr>\n",
       "    <tr>\n",
       "      <th>45</th>\n",
       "      <td>Cientista</td>\n",
       "      <td>Sênior</td>\n",
       "      <td>de R$ 6.001/mês a R$ 8.000/mês</td>\n",
       "      <td>1</td>\n",
       "    </tr>\n",
       "    <tr>\n",
       "      <th>49</th>\n",
       "      <td>Engenheira</td>\n",
       "      <td>Sênior</td>\n",
       "      <td>de R$ 8.001/mês a R$ 12.000/mês</td>\n",
       "      <td>1</td>\n",
       "    </tr>\n",
       "    <tr>\n",
       "      <th>51</th>\n",
       "      <td>Cientista</td>\n",
       "      <td>Pleno</td>\n",
       "      <td>de R$ 6.001/mês a R$ 8.000/mês</td>\n",
       "      <td>1</td>\n",
       "    </tr>\n",
       "    <tr>\n",
       "      <th>53</th>\n",
       "      <td>Engenheira</td>\n",
       "      <td>Pleno</td>\n",
       "      <td>de R$ 8.001/mês a R$ 12.000/mês</td>\n",
       "      <td>1</td>\n",
       "    </tr>\n",
       "    <tr>\n",
       "      <th>57</th>\n",
       "      <td>Analista</td>\n",
       "      <td>Sênior</td>\n",
       "      <td>de R$ 4.001/mês a R$ 6.000/mês</td>\n",
       "      <td>1</td>\n",
       "    </tr>\n",
       "    <tr>\n",
       "      <th>58</th>\n",
       "      <td>Engenheira</td>\n",
       "      <td>Pleno</td>\n",
       "      <td>de R$ 8.001/mês a R$ 12.000/mês</td>\n",
       "      <td>1</td>\n",
       "    </tr>\n",
       "    <tr>\n",
       "      <th>61</th>\n",
       "      <td>Cientista</td>\n",
       "      <td>Sênior</td>\n",
       "      <td>de R$ 12.001/mês a R$ 16.000/mês</td>\n",
       "      <td>1</td>\n",
       "    </tr>\n",
       "  </tbody>\n",
       "</table>\n",
       "</div>"
      ],
      "text/plain": [
       "         Cargo Experiencia                           Salário  Quantidade\n",
       "3    Cientista      Sênior  de R$ 12.001/mês a R$ 16.000/mês           1\n",
       "18  Engenheira       Pleno    de R$ 6.001/mês a R$ 8.000/mês           1\n",
       "23  Engenheira      Sênior  de R$ 12.001/mês a R$ 16.000/mês           1\n",
       "29   Cientista      Júnior   de R$ 8.001/mês a R$ 12.000/mês           1\n",
       "30    Analista      Júnior    de R$ 3.001/mês a R$ 4.000/mês           1\n",
       "31  Engenheira      Júnior    de R$ 2.001/mês a R$ 3.000/mês           1\n",
       "37  Engenheira      Júnior    de R$ 2.001/mês a R$ 3.000/mês           1\n",
       "41  Engenheira      Júnior    de R$ 4.001/mês a R$ 6.000/mês           1\n",
       "45   Cientista      Sênior    de R$ 6.001/mês a R$ 8.000/mês           1\n",
       "49  Engenheira      Sênior   de R$ 8.001/mês a R$ 12.000/mês           1\n",
       "51   Cientista       Pleno    de R$ 6.001/mês a R$ 8.000/mês           1\n",
       "53  Engenheira       Pleno   de R$ 8.001/mês a R$ 12.000/mês           1\n",
       "57    Analista      Sênior    de R$ 4.001/mês a R$ 6.000/mês           1\n",
       "58  Engenheira       Pleno   de R$ 8.001/mês a R$ 12.000/mês           1\n",
       "61   Cientista      Sênior  de R$ 12.001/mês a R$ 16.000/mês           1"
      ]
     },
     "execution_count": 30,
     "metadata": {},
     "output_type": "execute_result"
    }
   ],
   "source": [
    "data_table['Quantidade'] = 1\n",
    "\n",
    "data_table.head(15)"
   ]
  },
  {
   "cell_type": "markdown",
   "metadata": {
    "id": "efg6Wt93rw4P"
   },
   "source": [
    "## **4\\.1\\. Agregação das categorias da coluna 'Salário'**"
   ]
  },
  {
   "cell_type": "markdown",
   "metadata": {
    "id": "wSrESzALr4LU"
   },
   "source": [
    "Foi realizado uma operação de agrupamento e agregação dos dados da coluna 'Salário', com base na quantidade de ocorrências de cada valor de salário:"
   ]
  },
  {
   "cell_type": "code",
   "execution_count": 31,
   "metadata": {
    "colab": {
     "base_uri": "https://localhost:8080/",
     "height": 457
    },
    "id": "MW-fEjoCsEvv",
    "outputId": "a0ef7d34-e382-4f36-8f3f-4c8f6b776298"
   },
   "outputs": [
    {
     "data": {
      "text/html": [
       "<div>\n",
       "<style scoped>\n",
       "    .dataframe tbody tr th:only-of-type {\n",
       "        vertical-align: middle;\n",
       "    }\n",
       "\n",
       "    .dataframe tbody tr th {\n",
       "        vertical-align: top;\n",
       "    }\n",
       "\n",
       "    .dataframe thead th {\n",
       "        text-align: right;\n",
       "    }\n",
       "</style>\n",
       "<table border=\"1\" class=\"dataframe\">\n",
       "  <thead>\n",
       "    <tr style=\"text-align: right;\">\n",
       "      <th></th>\n",
       "      <th>Salário</th>\n",
       "      <th>Quantidade</th>\n",
       "    </tr>\n",
       "  </thead>\n",
       "  <tbody>\n",
       "    <tr>\n",
       "      <th>0</th>\n",
       "      <td>Acima de R$ 40.001/mês</td>\n",
       "      <td>12</td>\n",
       "    </tr>\n",
       "    <tr>\n",
       "      <th>1</th>\n",
       "      <td>Menos de R$ 1.000/mês</td>\n",
       "      <td>8</td>\n",
       "    </tr>\n",
       "    <tr>\n",
       "      <th>2</th>\n",
       "      <td>de R$ 1.001/mês a R$ 2.000/mês</td>\n",
       "      <td>59</td>\n",
       "    </tr>\n",
       "    <tr>\n",
       "      <th>3</th>\n",
       "      <td>de R$ 12.001/mês a R$ 16.000/mês</td>\n",
       "      <td>192</td>\n",
       "    </tr>\n",
       "    <tr>\n",
       "      <th>4</th>\n",
       "      <td>de R$ 16.001/mês a R$ 20.000/mês</td>\n",
       "      <td>49</td>\n",
       "    </tr>\n",
       "    <tr>\n",
       "      <th>5</th>\n",
       "      <td>de R$ 2.001/mês a R$ 3.000/mês</td>\n",
       "      <td>75</td>\n",
       "    </tr>\n",
       "    <tr>\n",
       "      <th>6</th>\n",
       "      <td>de R$ 20.001/mês a R$ 25.000/mês</td>\n",
       "      <td>24</td>\n",
       "    </tr>\n",
       "    <tr>\n",
       "      <th>7</th>\n",
       "      <td>de R$ 25.001/mês a R$ 30.000/mês</td>\n",
       "      <td>13</td>\n",
       "    </tr>\n",
       "    <tr>\n",
       "      <th>8</th>\n",
       "      <td>de R$ 3.001/mês a R$ 4.000/mês</td>\n",
       "      <td>89</td>\n",
       "    </tr>\n",
       "    <tr>\n",
       "      <th>9</th>\n",
       "      <td>de R$ 30.001/mês a R$ 40.000/mês</td>\n",
       "      <td>17</td>\n",
       "    </tr>\n",
       "    <tr>\n",
       "      <th>10</th>\n",
       "      <td>de R$ 4.001/mês a R$ 6.000/mês</td>\n",
       "      <td>244</td>\n",
       "    </tr>\n",
       "    <tr>\n",
       "      <th>11</th>\n",
       "      <td>de R$ 6.001/mês a R$ 8.000/mês</td>\n",
       "      <td>234</td>\n",
       "    </tr>\n",
       "    <tr>\n",
       "      <th>12</th>\n",
       "      <td>de R$ 8.001/mês a R$ 12.000/mês</td>\n",
       "      <td>320</td>\n",
       "    </tr>\n",
       "  </tbody>\n",
       "</table>\n",
       "</div>"
      ],
      "text/plain": [
       "                             Salário  Quantidade\n",
       "0             Acima de R$ 40.001/mês          12\n",
       "1              Menos de R$ 1.000/mês           8\n",
       "2     de R$ 1.001/mês a R$ 2.000/mês          59\n",
       "3   de R$ 12.001/mês a R$ 16.000/mês         192\n",
       "4   de R$ 16.001/mês a R$ 20.000/mês          49\n",
       "5     de R$ 2.001/mês a R$ 3.000/mês          75\n",
       "6   de R$ 20.001/mês a R$ 25.000/mês          24\n",
       "7   de R$ 25.001/mês a R$ 30.000/mês          13\n",
       "8     de R$ 3.001/mês a R$ 4.000/mês          89\n",
       "9   de R$ 30.001/mês a R$ 40.000/mês          17\n",
       "10    de R$ 4.001/mês a R$ 6.000/mês         244\n",
       "11    de R$ 6.001/mês a R$ 8.000/mês         234\n",
       "12   de R$ 8.001/mês a R$ 12.000/mês         320"
      ]
     },
     "execution_count": 31,
     "metadata": {},
     "output_type": "execute_result"
    }
   ],
   "source": [
    "salario_agg = data_table[['Salário', 'Quantidade']].groupby('Salário').agg('sum').reset_index()\n",
    "\n",
    "salario_agg.head(15)"
   ]
  },
  {
   "cell_type": "markdown",
   "metadata": {
    "id": "Fz30SYrOsdz8"
   },
   "source": [
    "Um dicionário chamado salario_ordem é definido, mapeando faixas de salários para valores numéricos."
   ]
  },
  {
   "cell_type": "code",
   "execution_count": 32,
   "metadata": {
    "id": "242EOFUjs72_"
   },
   "outputs": [],
   "source": [
    "salario_ordem = {\n",
    "'Menos de R$ 1.000/mês': 0,\n",
    "'de R$ 1.001/mês a R$ 2.000/mês': 1,\n",
    "'de R$ 2.001/mês a R$ 3.000/mês': 2,\n",
    "'de R$ 3.001/mês a R$ 4.000/mês': 3,\n",
    "'de R$ 4.001/mês a R$ 6.000/mês': 4,\n",
    "'de R$ 6.001/mês a R$ 8.000/mês': 5,\n",
    "'de R$ 8.001/mês a R$ 12.000/mês': 6,\n",
    "'de R$ 12.001/mês a R$ 16.000/mês': 7,\n",
    "'de R$ 16.001/mês a R$ 20.000/mês': 8,\n",
    "'de R$ 20.001/mês a R$ 25.000/mês': 9,\n",
    "'de R$ 25.001/mês a R$ 30.000/mês': 10,\n",
    "'de R$ 30.001/mês a R$ 40.000/mês': 11,\n",
    "'Acima de R$ 40.001/mês': 12\n",
    "}"
   ]
  },
  {
   "cell_type": "markdown",
   "metadata": {
    "id": "3FFulsyUtGFF"
   },
   "source": [
    "A coluna 'Ordem' é criada no DataFrame salario_agg. Os valores são derivados da aplicação da função lambda a cada entrada da coluna 'Salário', que mapeia o valor de salário para seu respectivo valor numérico no dicionário salario_ordem."
   ]
  },
  {
   "cell_type": "code",
   "execution_count": 33,
   "metadata": {
    "colab": {
     "base_uri": "https://localhost:8080/",
     "height": 457
    },
    "id": "lb2S0TSntJUc",
    "outputId": "bc7efa38-58d4-40c5-ed03-417fa9c34cd5"
   },
   "outputs": [
    {
     "data": {
      "text/html": [
       "<div>\n",
       "<style scoped>\n",
       "    .dataframe tbody tr th:only-of-type {\n",
       "        vertical-align: middle;\n",
       "    }\n",
       "\n",
       "    .dataframe tbody tr th {\n",
       "        vertical-align: top;\n",
       "    }\n",
       "\n",
       "    .dataframe thead th {\n",
       "        text-align: right;\n",
       "    }\n",
       "</style>\n",
       "<table border=\"1\" class=\"dataframe\">\n",
       "  <thead>\n",
       "    <tr style=\"text-align: right;\">\n",
       "      <th></th>\n",
       "      <th>Salário</th>\n",
       "      <th>Quantidade</th>\n",
       "      <th>Ordem</th>\n",
       "    </tr>\n",
       "  </thead>\n",
       "  <tbody>\n",
       "    <tr>\n",
       "      <th>0</th>\n",
       "      <td>Acima de R$ 40.001/mês</td>\n",
       "      <td>12</td>\n",
       "      <td>12</td>\n",
       "    </tr>\n",
       "    <tr>\n",
       "      <th>1</th>\n",
       "      <td>Menos de R$ 1.000/mês</td>\n",
       "      <td>8</td>\n",
       "      <td>0</td>\n",
       "    </tr>\n",
       "    <tr>\n",
       "      <th>2</th>\n",
       "      <td>de R$ 1.001/mês a R$ 2.000/mês</td>\n",
       "      <td>59</td>\n",
       "      <td>1</td>\n",
       "    </tr>\n",
       "    <tr>\n",
       "      <th>3</th>\n",
       "      <td>de R$ 12.001/mês a R$ 16.000/mês</td>\n",
       "      <td>192</td>\n",
       "      <td>7</td>\n",
       "    </tr>\n",
       "    <tr>\n",
       "      <th>4</th>\n",
       "      <td>de R$ 16.001/mês a R$ 20.000/mês</td>\n",
       "      <td>49</td>\n",
       "      <td>8</td>\n",
       "    </tr>\n",
       "    <tr>\n",
       "      <th>5</th>\n",
       "      <td>de R$ 2.001/mês a R$ 3.000/mês</td>\n",
       "      <td>75</td>\n",
       "      <td>2</td>\n",
       "    </tr>\n",
       "    <tr>\n",
       "      <th>6</th>\n",
       "      <td>de R$ 20.001/mês a R$ 25.000/mês</td>\n",
       "      <td>24</td>\n",
       "      <td>9</td>\n",
       "    </tr>\n",
       "    <tr>\n",
       "      <th>7</th>\n",
       "      <td>de R$ 25.001/mês a R$ 30.000/mês</td>\n",
       "      <td>13</td>\n",
       "      <td>10</td>\n",
       "    </tr>\n",
       "    <tr>\n",
       "      <th>8</th>\n",
       "      <td>de R$ 3.001/mês a R$ 4.000/mês</td>\n",
       "      <td>89</td>\n",
       "      <td>3</td>\n",
       "    </tr>\n",
       "    <tr>\n",
       "      <th>9</th>\n",
       "      <td>de R$ 30.001/mês a R$ 40.000/mês</td>\n",
       "      <td>17</td>\n",
       "      <td>11</td>\n",
       "    </tr>\n",
       "    <tr>\n",
       "      <th>10</th>\n",
       "      <td>de R$ 4.001/mês a R$ 6.000/mês</td>\n",
       "      <td>244</td>\n",
       "      <td>4</td>\n",
       "    </tr>\n",
       "    <tr>\n",
       "      <th>11</th>\n",
       "      <td>de R$ 6.001/mês a R$ 8.000/mês</td>\n",
       "      <td>234</td>\n",
       "      <td>5</td>\n",
       "    </tr>\n",
       "    <tr>\n",
       "      <th>12</th>\n",
       "      <td>de R$ 8.001/mês a R$ 12.000/mês</td>\n",
       "      <td>320</td>\n",
       "      <td>6</td>\n",
       "    </tr>\n",
       "  </tbody>\n",
       "</table>\n",
       "</div>"
      ],
      "text/plain": [
       "                             Salário  Quantidade  Ordem\n",
       "0             Acima de R$ 40.001/mês          12     12\n",
       "1              Menos de R$ 1.000/mês           8      0\n",
       "2     de R$ 1.001/mês a R$ 2.000/mês          59      1\n",
       "3   de R$ 12.001/mês a R$ 16.000/mês         192      7\n",
       "4   de R$ 16.001/mês a R$ 20.000/mês          49      8\n",
       "5     de R$ 2.001/mês a R$ 3.000/mês          75      2\n",
       "6   de R$ 20.001/mês a R$ 25.000/mês          24      9\n",
       "7   de R$ 25.001/mês a R$ 30.000/mês          13     10\n",
       "8     de R$ 3.001/mês a R$ 4.000/mês          89      3\n",
       "9   de R$ 30.001/mês a R$ 40.000/mês          17     11\n",
       "10    de R$ 4.001/mês a R$ 6.000/mês         244      4\n",
       "11    de R$ 6.001/mês a R$ 8.000/mês         234      5\n",
       "12   de R$ 8.001/mês a R$ 12.000/mês         320      6"
      ]
     },
     "execution_count": 33,
     "metadata": {},
     "output_type": "execute_result"
    }
   ],
   "source": [
    "salario_agg['Ordem'] = salario_agg['Salário'].apply(lambda row: salario_ordem[row])\n",
    "\n",
    "salario_agg.head(15)"
   ]
  },
  {
   "cell_type": "markdown",
   "metadata": {
    "id": "JvzqCLZ4tTof"
   },
   "source": [
    "Os dados em salario_agg são ordenados com base na coluna 'Ordem' de forma ascendente. Isso garante que as faixas de salários sejam ordenadas da menor para a maior:"
   ]
  },
  {
   "cell_type": "code",
   "execution_count": 34,
   "metadata": {
    "colab": {
     "base_uri": "https://localhost:8080/",
     "height": 457
    },
    "id": "EeoBH5r7tb2R",
    "outputId": "58141e21-5674-4672-a815-09f30a2816d6"
   },
   "outputs": [
    {
     "data": {
      "text/html": [
       "<div>\n",
       "<style scoped>\n",
       "    .dataframe tbody tr th:only-of-type {\n",
       "        vertical-align: middle;\n",
       "    }\n",
       "\n",
       "    .dataframe tbody tr th {\n",
       "        vertical-align: top;\n",
       "    }\n",
       "\n",
       "    .dataframe thead th {\n",
       "        text-align: right;\n",
       "    }\n",
       "</style>\n",
       "<table border=\"1\" class=\"dataframe\">\n",
       "  <thead>\n",
       "    <tr style=\"text-align: right;\">\n",
       "      <th></th>\n",
       "      <th>Salário</th>\n",
       "      <th>Quantidade</th>\n",
       "      <th>Ordem</th>\n",
       "    </tr>\n",
       "  </thead>\n",
       "  <tbody>\n",
       "    <tr>\n",
       "      <th>1</th>\n",
       "      <td>Menos de R$ 1.000/mês</td>\n",
       "      <td>8</td>\n",
       "      <td>0</td>\n",
       "    </tr>\n",
       "    <tr>\n",
       "      <th>2</th>\n",
       "      <td>de R$ 1.001/mês a R$ 2.000/mês</td>\n",
       "      <td>59</td>\n",
       "      <td>1</td>\n",
       "    </tr>\n",
       "    <tr>\n",
       "      <th>5</th>\n",
       "      <td>de R$ 2.001/mês a R$ 3.000/mês</td>\n",
       "      <td>75</td>\n",
       "      <td>2</td>\n",
       "    </tr>\n",
       "    <tr>\n",
       "      <th>8</th>\n",
       "      <td>de R$ 3.001/mês a R$ 4.000/mês</td>\n",
       "      <td>89</td>\n",
       "      <td>3</td>\n",
       "    </tr>\n",
       "    <tr>\n",
       "      <th>10</th>\n",
       "      <td>de R$ 4.001/mês a R$ 6.000/mês</td>\n",
       "      <td>244</td>\n",
       "      <td>4</td>\n",
       "    </tr>\n",
       "    <tr>\n",
       "      <th>11</th>\n",
       "      <td>de R$ 6.001/mês a R$ 8.000/mês</td>\n",
       "      <td>234</td>\n",
       "      <td>5</td>\n",
       "    </tr>\n",
       "    <tr>\n",
       "      <th>12</th>\n",
       "      <td>de R$ 8.001/mês a R$ 12.000/mês</td>\n",
       "      <td>320</td>\n",
       "      <td>6</td>\n",
       "    </tr>\n",
       "    <tr>\n",
       "      <th>3</th>\n",
       "      <td>de R$ 12.001/mês a R$ 16.000/mês</td>\n",
       "      <td>192</td>\n",
       "      <td>7</td>\n",
       "    </tr>\n",
       "    <tr>\n",
       "      <th>4</th>\n",
       "      <td>de R$ 16.001/mês a R$ 20.000/mês</td>\n",
       "      <td>49</td>\n",
       "      <td>8</td>\n",
       "    </tr>\n",
       "    <tr>\n",
       "      <th>6</th>\n",
       "      <td>de R$ 20.001/mês a R$ 25.000/mês</td>\n",
       "      <td>24</td>\n",
       "      <td>9</td>\n",
       "    </tr>\n",
       "    <tr>\n",
       "      <th>7</th>\n",
       "      <td>de R$ 25.001/mês a R$ 30.000/mês</td>\n",
       "      <td>13</td>\n",
       "      <td>10</td>\n",
       "    </tr>\n",
       "    <tr>\n",
       "      <th>9</th>\n",
       "      <td>de R$ 30.001/mês a R$ 40.000/mês</td>\n",
       "      <td>17</td>\n",
       "      <td>11</td>\n",
       "    </tr>\n",
       "    <tr>\n",
       "      <th>0</th>\n",
       "      <td>Acima de R$ 40.001/mês</td>\n",
       "      <td>12</td>\n",
       "      <td>12</td>\n",
       "    </tr>\n",
       "  </tbody>\n",
       "</table>\n",
       "</div>"
      ],
      "text/plain": [
       "                             Salário  Quantidade  Ordem\n",
       "1              Menos de R$ 1.000/mês           8      0\n",
       "2     de R$ 1.001/mês a R$ 2.000/mês          59      1\n",
       "5     de R$ 2.001/mês a R$ 3.000/mês          75      2\n",
       "8     de R$ 3.001/mês a R$ 4.000/mês          89      3\n",
       "10    de R$ 4.001/mês a R$ 6.000/mês         244      4\n",
       "11    de R$ 6.001/mês a R$ 8.000/mês         234      5\n",
       "12   de R$ 8.001/mês a R$ 12.000/mês         320      6\n",
       "3   de R$ 12.001/mês a R$ 16.000/mês         192      7\n",
       "4   de R$ 16.001/mês a R$ 20.000/mês          49      8\n",
       "6   de R$ 20.001/mês a R$ 25.000/mês          24      9\n",
       "7   de R$ 25.001/mês a R$ 30.000/mês          13     10\n",
       "9   de R$ 30.001/mês a R$ 40.000/mês          17     11\n",
       "0             Acima de R$ 40.001/mês          12     12"
      ]
     },
     "execution_count": 34,
     "metadata": {},
     "output_type": "execute_result"
    }
   ],
   "source": [
    "salario_agg = salario_agg.sort_values(by='Ordem', ascending=True)\n",
    "\n",
    "salario_agg.head(15)"
   ]
  },
  {
   "cell_type": "markdown",
   "metadata": {
    "id": "rHqtj3JQtoFW"
   },
   "source": [
    "## **4\\.2\\. Agregação das categorias da coluna 'Cargo'**"
   ]
  },
  {
   "cell_type": "markdown",
   "metadata": {
    "id": "4in-3Sabtuaa"
   },
   "source": [
    "É realizado uma operação de agrupamento e agregação dos dados com base nas colunas 'Cargo' e 'Salário':"
   ]
  },
  {
   "cell_type": "code",
   "execution_count": 35,
   "metadata": {
    "colab": {
     "base_uri": "https://localhost:8080/",
     "height": 520
    },
    "id": "i1oxmUCJtgeL",
    "outputId": "dd50238f-8c63-47ce-b8b0-ef6f61d362a7"
   },
   "outputs": [
    {
     "data": {
      "text/html": [
       "<div>\n",
       "<style scoped>\n",
       "    .dataframe tbody tr th:only-of-type {\n",
       "        vertical-align: middle;\n",
       "    }\n",
       "\n",
       "    .dataframe tbody tr th {\n",
       "        vertical-align: top;\n",
       "    }\n",
       "\n",
       "    .dataframe thead th {\n",
       "        text-align: right;\n",
       "    }\n",
       "</style>\n",
       "<table border=\"1\" class=\"dataframe\">\n",
       "  <thead>\n",
       "    <tr style=\"text-align: right;\">\n",
       "      <th></th>\n",
       "      <th>Cargo</th>\n",
       "      <th>Salário</th>\n",
       "      <th>Quantidade</th>\n",
       "    </tr>\n",
       "  </thead>\n",
       "  <tbody>\n",
       "    <tr>\n",
       "      <th>0</th>\n",
       "      <td>Analista</td>\n",
       "      <td>Acima de R$ 40.001/mês</td>\n",
       "      <td>1</td>\n",
       "    </tr>\n",
       "    <tr>\n",
       "      <th>1</th>\n",
       "      <td>Analista</td>\n",
       "      <td>Menos de R$ 1.000/mês</td>\n",
       "      <td>4</td>\n",
       "    </tr>\n",
       "    <tr>\n",
       "      <th>2</th>\n",
       "      <td>Analista</td>\n",
       "      <td>de R$ 1.001/mês a R$ 2.000/mês</td>\n",
       "      <td>28</td>\n",
       "    </tr>\n",
       "    <tr>\n",
       "      <th>3</th>\n",
       "      <td>Analista</td>\n",
       "      <td>de R$ 12.001/mês a R$ 16.000/mês</td>\n",
       "      <td>35</td>\n",
       "    </tr>\n",
       "    <tr>\n",
       "      <th>4</th>\n",
       "      <td>Analista</td>\n",
       "      <td>de R$ 16.001/mês a R$ 20.000/mês</td>\n",
       "      <td>6</td>\n",
       "    </tr>\n",
       "    <tr>\n",
       "      <th>5</th>\n",
       "      <td>Analista</td>\n",
       "      <td>de R$ 2.001/mês a R$ 3.000/mês</td>\n",
       "      <td>36</td>\n",
       "    </tr>\n",
       "    <tr>\n",
       "      <th>6</th>\n",
       "      <td>Analista</td>\n",
       "      <td>de R$ 20.001/mês a R$ 25.000/mês</td>\n",
       "      <td>4</td>\n",
       "    </tr>\n",
       "    <tr>\n",
       "      <th>7</th>\n",
       "      <td>Analista</td>\n",
       "      <td>de R$ 25.001/mês a R$ 30.000/mês</td>\n",
       "      <td>2</td>\n",
       "    </tr>\n",
       "    <tr>\n",
       "      <th>8</th>\n",
       "      <td>Analista</td>\n",
       "      <td>de R$ 3.001/mês a R$ 4.000/mês</td>\n",
       "      <td>59</td>\n",
       "    </tr>\n",
       "    <tr>\n",
       "      <th>9</th>\n",
       "      <td>Analista</td>\n",
       "      <td>de R$ 30.001/mês a R$ 40.000/mês</td>\n",
       "      <td>5</td>\n",
       "    </tr>\n",
       "    <tr>\n",
       "      <th>10</th>\n",
       "      <td>Analista</td>\n",
       "      <td>de R$ 4.001/mês a R$ 6.000/mês</td>\n",
       "      <td>122</td>\n",
       "    </tr>\n",
       "    <tr>\n",
       "      <th>11</th>\n",
       "      <td>Analista</td>\n",
       "      <td>de R$ 6.001/mês a R$ 8.000/mês</td>\n",
       "      <td>91</td>\n",
       "    </tr>\n",
       "    <tr>\n",
       "      <th>12</th>\n",
       "      <td>Analista</td>\n",
       "      <td>de R$ 8.001/mês a R$ 12.000/mês</td>\n",
       "      <td>106</td>\n",
       "    </tr>\n",
       "    <tr>\n",
       "      <th>13</th>\n",
       "      <td>Cientista</td>\n",
       "      <td>Acima de R$ 40.001/mês</td>\n",
       "      <td>5</td>\n",
       "    </tr>\n",
       "    <tr>\n",
       "      <th>14</th>\n",
       "      <td>Cientista</td>\n",
       "      <td>Menos de R$ 1.000/mês</td>\n",
       "      <td>4</td>\n",
       "    </tr>\n",
       "  </tbody>\n",
       "</table>\n",
       "</div>"
      ],
      "text/plain": [
       "        Cargo                           Salário  Quantidade\n",
       "0    Analista            Acima de R$ 40.001/mês           1\n",
       "1    Analista             Menos de R$ 1.000/mês           4\n",
       "2    Analista    de R$ 1.001/mês a R$ 2.000/mês          28\n",
       "3    Analista  de R$ 12.001/mês a R$ 16.000/mês          35\n",
       "4    Analista  de R$ 16.001/mês a R$ 20.000/mês           6\n",
       "5    Analista    de R$ 2.001/mês a R$ 3.000/mês          36\n",
       "6    Analista  de R$ 20.001/mês a R$ 25.000/mês           4\n",
       "7    Analista  de R$ 25.001/mês a R$ 30.000/mês           2\n",
       "8    Analista    de R$ 3.001/mês a R$ 4.000/mês          59\n",
       "9    Analista  de R$ 30.001/mês a R$ 40.000/mês           5\n",
       "10   Analista    de R$ 4.001/mês a R$ 6.000/mês         122\n",
       "11   Analista    de R$ 6.001/mês a R$ 8.000/mês          91\n",
       "12   Analista   de R$ 8.001/mês a R$ 12.000/mês         106\n",
       "13  Cientista            Acima de R$ 40.001/mês           5\n",
       "14  Cientista             Menos de R$ 1.000/mês           4"
      ]
     },
     "execution_count": 35,
     "metadata": {},
     "output_type": "execute_result"
    }
   ],
   "source": [
    "salario_cargo_agg = data_table[['Cargo', 'Salário', 'Quantidade']].groupby(['Cargo', 'Salário']).agg('sum').reset_index()\n",
    "\n",
    "salario_cargo_agg.head(15)"
   ]
  },
  {
   "cell_type": "markdown",
   "metadata": {
    "id": "mK_k647Rub5o"
   },
   "source": [
    "Mapeamento dos Salários para uma Ordem Numérica:"
   ]
  },
  {
   "cell_type": "code",
   "execution_count": 36,
   "metadata": {
    "colab": {
     "base_uri": "https://localhost:8080/",
     "height": 520
    },
    "id": "Ix1yov3xuds3",
    "outputId": "b1f4258f-6b11-4bce-e962-c1e04a7eb253"
   },
   "outputs": [
    {
     "data": {
      "text/html": [
       "<div>\n",
       "<style scoped>\n",
       "    .dataframe tbody tr th:only-of-type {\n",
       "        vertical-align: middle;\n",
       "    }\n",
       "\n",
       "    .dataframe tbody tr th {\n",
       "        vertical-align: top;\n",
       "    }\n",
       "\n",
       "    .dataframe thead th {\n",
       "        text-align: right;\n",
       "    }\n",
       "</style>\n",
       "<table border=\"1\" class=\"dataframe\">\n",
       "  <thead>\n",
       "    <tr style=\"text-align: right;\">\n",
       "      <th></th>\n",
       "      <th>Cargo</th>\n",
       "      <th>Salário</th>\n",
       "      <th>Quantidade</th>\n",
       "      <th>Ordem</th>\n",
       "    </tr>\n",
       "  </thead>\n",
       "  <tbody>\n",
       "    <tr>\n",
       "      <th>0</th>\n",
       "      <td>Analista</td>\n",
       "      <td>Acima de R$ 40.001/mês</td>\n",
       "      <td>1</td>\n",
       "      <td>12</td>\n",
       "    </tr>\n",
       "    <tr>\n",
       "      <th>1</th>\n",
       "      <td>Analista</td>\n",
       "      <td>Menos de R$ 1.000/mês</td>\n",
       "      <td>4</td>\n",
       "      <td>0</td>\n",
       "    </tr>\n",
       "    <tr>\n",
       "      <th>2</th>\n",
       "      <td>Analista</td>\n",
       "      <td>de R$ 1.001/mês a R$ 2.000/mês</td>\n",
       "      <td>28</td>\n",
       "      <td>1</td>\n",
       "    </tr>\n",
       "    <tr>\n",
       "      <th>3</th>\n",
       "      <td>Analista</td>\n",
       "      <td>de R$ 12.001/mês a R$ 16.000/mês</td>\n",
       "      <td>35</td>\n",
       "      <td>7</td>\n",
       "    </tr>\n",
       "    <tr>\n",
       "      <th>4</th>\n",
       "      <td>Analista</td>\n",
       "      <td>de R$ 16.001/mês a R$ 20.000/mês</td>\n",
       "      <td>6</td>\n",
       "      <td>8</td>\n",
       "    </tr>\n",
       "    <tr>\n",
       "      <th>5</th>\n",
       "      <td>Analista</td>\n",
       "      <td>de R$ 2.001/mês a R$ 3.000/mês</td>\n",
       "      <td>36</td>\n",
       "      <td>2</td>\n",
       "    </tr>\n",
       "    <tr>\n",
       "      <th>6</th>\n",
       "      <td>Analista</td>\n",
       "      <td>de R$ 20.001/mês a R$ 25.000/mês</td>\n",
       "      <td>4</td>\n",
       "      <td>9</td>\n",
       "    </tr>\n",
       "    <tr>\n",
       "      <th>7</th>\n",
       "      <td>Analista</td>\n",
       "      <td>de R$ 25.001/mês a R$ 30.000/mês</td>\n",
       "      <td>2</td>\n",
       "      <td>10</td>\n",
       "    </tr>\n",
       "    <tr>\n",
       "      <th>8</th>\n",
       "      <td>Analista</td>\n",
       "      <td>de R$ 3.001/mês a R$ 4.000/mês</td>\n",
       "      <td>59</td>\n",
       "      <td>3</td>\n",
       "    </tr>\n",
       "    <tr>\n",
       "      <th>9</th>\n",
       "      <td>Analista</td>\n",
       "      <td>de R$ 30.001/mês a R$ 40.000/mês</td>\n",
       "      <td>5</td>\n",
       "      <td>11</td>\n",
       "    </tr>\n",
       "    <tr>\n",
       "      <th>10</th>\n",
       "      <td>Analista</td>\n",
       "      <td>de R$ 4.001/mês a R$ 6.000/mês</td>\n",
       "      <td>122</td>\n",
       "      <td>4</td>\n",
       "    </tr>\n",
       "    <tr>\n",
       "      <th>11</th>\n",
       "      <td>Analista</td>\n",
       "      <td>de R$ 6.001/mês a R$ 8.000/mês</td>\n",
       "      <td>91</td>\n",
       "      <td>5</td>\n",
       "    </tr>\n",
       "    <tr>\n",
       "      <th>12</th>\n",
       "      <td>Analista</td>\n",
       "      <td>de R$ 8.001/mês a R$ 12.000/mês</td>\n",
       "      <td>106</td>\n",
       "      <td>6</td>\n",
       "    </tr>\n",
       "    <tr>\n",
       "      <th>13</th>\n",
       "      <td>Cientista</td>\n",
       "      <td>Acima de R$ 40.001/mês</td>\n",
       "      <td>5</td>\n",
       "      <td>12</td>\n",
       "    </tr>\n",
       "    <tr>\n",
       "      <th>14</th>\n",
       "      <td>Cientista</td>\n",
       "      <td>Menos de R$ 1.000/mês</td>\n",
       "      <td>4</td>\n",
       "      <td>0</td>\n",
       "    </tr>\n",
       "  </tbody>\n",
       "</table>\n",
       "</div>"
      ],
      "text/plain": [
       "        Cargo                           Salário  Quantidade  Ordem\n",
       "0    Analista            Acima de R$ 40.001/mês           1     12\n",
       "1    Analista             Menos de R$ 1.000/mês           4      0\n",
       "2    Analista    de R$ 1.001/mês a R$ 2.000/mês          28      1\n",
       "3    Analista  de R$ 12.001/mês a R$ 16.000/mês          35      7\n",
       "4    Analista  de R$ 16.001/mês a R$ 20.000/mês           6      8\n",
       "5    Analista    de R$ 2.001/mês a R$ 3.000/mês          36      2\n",
       "6    Analista  de R$ 20.001/mês a R$ 25.000/mês           4      9\n",
       "7    Analista  de R$ 25.001/mês a R$ 30.000/mês           2     10\n",
       "8    Analista    de R$ 3.001/mês a R$ 4.000/mês          59      3\n",
       "9    Analista  de R$ 30.001/mês a R$ 40.000/mês           5     11\n",
       "10   Analista    de R$ 4.001/mês a R$ 6.000/mês         122      4\n",
       "11   Analista    de R$ 6.001/mês a R$ 8.000/mês          91      5\n",
       "12   Analista   de R$ 8.001/mês a R$ 12.000/mês         106      6\n",
       "13  Cientista            Acima de R$ 40.001/mês           5     12\n",
       "14  Cientista             Menos de R$ 1.000/mês           4      0"
      ]
     },
     "execution_count": 36,
     "metadata": {},
     "output_type": "execute_result"
    }
   ],
   "source": [
    "salario_cargo_agg['Ordem'] = salario_cargo_agg['Salário'].apply(lambda row: salario_ordem[row])\n",
    "\n",
    "\n",
    "salario_cargo_agg.head(15)"
   ]
  },
  {
   "cell_type": "markdown",
   "metadata": {
    "id": "XYU1zgjluflo"
   },
   "source": [
    "Ordenação dos Dados por Cargo e Ordem Numérica:"
   ]
  },
  {
   "cell_type": "code",
   "execution_count": 37,
   "metadata": {
    "colab": {
     "base_uri": "https://localhost:8080/",
     "height": 1000
    },
    "id": "-rd0oUHruyvO",
    "outputId": "751418cd-a0d6-4de8-8dca-421a97333ef1"
   },
   "outputs": [
    {
     "data": {
      "text/html": [
       "<div>\n",
       "<style scoped>\n",
       "    .dataframe tbody tr th:only-of-type {\n",
       "        vertical-align: middle;\n",
       "    }\n",
       "\n",
       "    .dataframe tbody tr th {\n",
       "        vertical-align: top;\n",
       "    }\n",
       "\n",
       "    .dataframe thead th {\n",
       "        text-align: right;\n",
       "    }\n",
       "</style>\n",
       "<table border=\"1\" class=\"dataframe\">\n",
       "  <thead>\n",
       "    <tr style=\"text-align: right;\">\n",
       "      <th></th>\n",
       "      <th>Cargo</th>\n",
       "      <th>Salário</th>\n",
       "      <th>Quantidade</th>\n",
       "      <th>Ordem</th>\n",
       "    </tr>\n",
       "  </thead>\n",
       "  <tbody>\n",
       "    <tr>\n",
       "      <th>1</th>\n",
       "      <td>Analista</td>\n",
       "      <td>Menos de R$ 1.000/mês</td>\n",
       "      <td>4</td>\n",
       "      <td>0</td>\n",
       "    </tr>\n",
       "    <tr>\n",
       "      <th>2</th>\n",
       "      <td>Analista</td>\n",
       "      <td>de R$ 1.001/mês a R$ 2.000/mês</td>\n",
       "      <td>28</td>\n",
       "      <td>1</td>\n",
       "    </tr>\n",
       "    <tr>\n",
       "      <th>5</th>\n",
       "      <td>Analista</td>\n",
       "      <td>de R$ 2.001/mês a R$ 3.000/mês</td>\n",
       "      <td>36</td>\n",
       "      <td>2</td>\n",
       "    </tr>\n",
       "    <tr>\n",
       "      <th>8</th>\n",
       "      <td>Analista</td>\n",
       "      <td>de R$ 3.001/mês a R$ 4.000/mês</td>\n",
       "      <td>59</td>\n",
       "      <td>3</td>\n",
       "    </tr>\n",
       "    <tr>\n",
       "      <th>10</th>\n",
       "      <td>Analista</td>\n",
       "      <td>de R$ 4.001/mês a R$ 6.000/mês</td>\n",
       "      <td>122</td>\n",
       "      <td>4</td>\n",
       "    </tr>\n",
       "    <tr>\n",
       "      <th>11</th>\n",
       "      <td>Analista</td>\n",
       "      <td>de R$ 6.001/mês a R$ 8.000/mês</td>\n",
       "      <td>91</td>\n",
       "      <td>5</td>\n",
       "    </tr>\n",
       "    <tr>\n",
       "      <th>12</th>\n",
       "      <td>Analista</td>\n",
       "      <td>de R$ 8.001/mês a R$ 12.000/mês</td>\n",
       "      <td>106</td>\n",
       "      <td>6</td>\n",
       "    </tr>\n",
       "    <tr>\n",
       "      <th>3</th>\n",
       "      <td>Analista</td>\n",
       "      <td>de R$ 12.001/mês a R$ 16.000/mês</td>\n",
       "      <td>35</td>\n",
       "      <td>7</td>\n",
       "    </tr>\n",
       "    <tr>\n",
       "      <th>4</th>\n",
       "      <td>Analista</td>\n",
       "      <td>de R$ 16.001/mês a R$ 20.000/mês</td>\n",
       "      <td>6</td>\n",
       "      <td>8</td>\n",
       "    </tr>\n",
       "    <tr>\n",
       "      <th>6</th>\n",
       "      <td>Analista</td>\n",
       "      <td>de R$ 20.001/mês a R$ 25.000/mês</td>\n",
       "      <td>4</td>\n",
       "      <td>9</td>\n",
       "    </tr>\n",
       "    <tr>\n",
       "      <th>7</th>\n",
       "      <td>Analista</td>\n",
       "      <td>de R$ 25.001/mês a R$ 30.000/mês</td>\n",
       "      <td>2</td>\n",
       "      <td>10</td>\n",
       "    </tr>\n",
       "    <tr>\n",
       "      <th>9</th>\n",
       "      <td>Analista</td>\n",
       "      <td>de R$ 30.001/mês a R$ 40.000/mês</td>\n",
       "      <td>5</td>\n",
       "      <td>11</td>\n",
       "    </tr>\n",
       "    <tr>\n",
       "      <th>0</th>\n",
       "      <td>Analista</td>\n",
       "      <td>Acima de R$ 40.001/mês</td>\n",
       "      <td>1</td>\n",
       "      <td>12</td>\n",
       "    </tr>\n",
       "    <tr>\n",
       "      <th>14</th>\n",
       "      <td>Cientista</td>\n",
       "      <td>Menos de R$ 1.000/mês</td>\n",
       "      <td>4</td>\n",
       "      <td>0</td>\n",
       "    </tr>\n",
       "    <tr>\n",
       "      <th>15</th>\n",
       "      <td>Cientista</td>\n",
       "      <td>de R$ 1.001/mês a R$ 2.000/mês</td>\n",
       "      <td>16</td>\n",
       "      <td>1</td>\n",
       "    </tr>\n",
       "    <tr>\n",
       "      <th>18</th>\n",
       "      <td>Cientista</td>\n",
       "      <td>de R$ 2.001/mês a R$ 3.000/mês</td>\n",
       "      <td>24</td>\n",
       "      <td>2</td>\n",
       "    </tr>\n",
       "    <tr>\n",
       "      <th>21</th>\n",
       "      <td>Cientista</td>\n",
       "      <td>de R$ 3.001/mês a R$ 4.000/mês</td>\n",
       "      <td>18</td>\n",
       "      <td>3</td>\n",
       "    </tr>\n",
       "    <tr>\n",
       "      <th>23</th>\n",
       "      <td>Cientista</td>\n",
       "      <td>de R$ 4.001/mês a R$ 6.000/mês</td>\n",
       "      <td>59</td>\n",
       "      <td>4</td>\n",
       "    </tr>\n",
       "    <tr>\n",
       "      <th>24</th>\n",
       "      <td>Cientista</td>\n",
       "      <td>de R$ 6.001/mês a R$ 8.000/mês</td>\n",
       "      <td>82</td>\n",
       "      <td>5</td>\n",
       "    </tr>\n",
       "    <tr>\n",
       "      <th>25</th>\n",
       "      <td>Cientista</td>\n",
       "      <td>de R$ 8.001/mês a R$ 12.000/mês</td>\n",
       "      <td>99</td>\n",
       "      <td>6</td>\n",
       "    </tr>\n",
       "    <tr>\n",
       "      <th>16</th>\n",
       "      <td>Cientista</td>\n",
       "      <td>de R$ 12.001/mês a R$ 16.000/mês</td>\n",
       "      <td>77</td>\n",
       "      <td>7</td>\n",
       "    </tr>\n",
       "    <tr>\n",
       "      <th>17</th>\n",
       "      <td>Cientista</td>\n",
       "      <td>de R$ 16.001/mês a R$ 20.000/mês</td>\n",
       "      <td>26</td>\n",
       "      <td>8</td>\n",
       "    </tr>\n",
       "    <tr>\n",
       "      <th>19</th>\n",
       "      <td>Cientista</td>\n",
       "      <td>de R$ 20.001/mês a R$ 25.000/mês</td>\n",
       "      <td>9</td>\n",
       "      <td>9</td>\n",
       "    </tr>\n",
       "    <tr>\n",
       "      <th>20</th>\n",
       "      <td>Cientista</td>\n",
       "      <td>de R$ 25.001/mês a R$ 30.000/mês</td>\n",
       "      <td>4</td>\n",
       "      <td>10</td>\n",
       "    </tr>\n",
       "    <tr>\n",
       "      <th>22</th>\n",
       "      <td>Cientista</td>\n",
       "      <td>de R$ 30.001/mês a R$ 40.000/mês</td>\n",
       "      <td>9</td>\n",
       "      <td>11</td>\n",
       "    </tr>\n",
       "    <tr>\n",
       "      <th>13</th>\n",
       "      <td>Cientista</td>\n",
       "      <td>Acima de R$ 40.001/mês</td>\n",
       "      <td>5</td>\n",
       "      <td>12</td>\n",
       "    </tr>\n",
       "    <tr>\n",
       "      <th>27</th>\n",
       "      <td>Engenheira</td>\n",
       "      <td>de R$ 1.001/mês a R$ 2.000/mês</td>\n",
       "      <td>15</td>\n",
       "      <td>1</td>\n",
       "    </tr>\n",
       "    <tr>\n",
       "      <th>30</th>\n",
       "      <td>Engenheira</td>\n",
       "      <td>de R$ 2.001/mês a R$ 3.000/mês</td>\n",
       "      <td>15</td>\n",
       "      <td>2</td>\n",
       "    </tr>\n",
       "    <tr>\n",
       "      <th>33</th>\n",
       "      <td>Engenheira</td>\n",
       "      <td>de R$ 3.001/mês a R$ 4.000/mês</td>\n",
       "      <td>12</td>\n",
       "      <td>3</td>\n",
       "    </tr>\n",
       "    <tr>\n",
       "      <th>35</th>\n",
       "      <td>Engenheira</td>\n",
       "      <td>de R$ 4.001/mês a R$ 6.000/mês</td>\n",
       "      <td>63</td>\n",
       "      <td>4</td>\n",
       "    </tr>\n",
       "    <tr>\n",
       "      <th>36</th>\n",
       "      <td>Engenheira</td>\n",
       "      <td>de R$ 6.001/mês a R$ 8.000/mês</td>\n",
       "      <td>61</td>\n",
       "      <td>5</td>\n",
       "    </tr>\n",
       "    <tr>\n",
       "      <th>37</th>\n",
       "      <td>Engenheira</td>\n",
       "      <td>de R$ 8.001/mês a R$ 12.000/mês</td>\n",
       "      <td>115</td>\n",
       "      <td>6</td>\n",
       "    </tr>\n",
       "    <tr>\n",
       "      <th>28</th>\n",
       "      <td>Engenheira</td>\n",
       "      <td>de R$ 12.001/mês a R$ 16.000/mês</td>\n",
       "      <td>80</td>\n",
       "      <td>7</td>\n",
       "    </tr>\n",
       "    <tr>\n",
       "      <th>29</th>\n",
       "      <td>Engenheira</td>\n",
       "      <td>de R$ 16.001/mês a R$ 20.000/mês</td>\n",
       "      <td>17</td>\n",
       "      <td>8</td>\n",
       "    </tr>\n",
       "    <tr>\n",
       "      <th>31</th>\n",
       "      <td>Engenheira</td>\n",
       "      <td>de R$ 20.001/mês a R$ 25.000/mês</td>\n",
       "      <td>11</td>\n",
       "      <td>9</td>\n",
       "    </tr>\n",
       "    <tr>\n",
       "      <th>32</th>\n",
       "      <td>Engenheira</td>\n",
       "      <td>de R$ 25.001/mês a R$ 30.000/mês</td>\n",
       "      <td>7</td>\n",
       "      <td>10</td>\n",
       "    </tr>\n",
       "    <tr>\n",
       "      <th>34</th>\n",
       "      <td>Engenheira</td>\n",
       "      <td>de R$ 30.001/mês a R$ 40.000/mês</td>\n",
       "      <td>3</td>\n",
       "      <td>11</td>\n",
       "    </tr>\n",
       "    <tr>\n",
       "      <th>26</th>\n",
       "      <td>Engenheira</td>\n",
       "      <td>Acima de R$ 40.001/mês</td>\n",
       "      <td>6</td>\n",
       "      <td>12</td>\n",
       "    </tr>\n",
       "  </tbody>\n",
       "</table>\n",
       "</div>"
      ],
      "text/plain": [
       "         Cargo                           Salário  Quantidade  Ordem\n",
       "1     Analista             Menos de R$ 1.000/mês           4      0\n",
       "2     Analista    de R$ 1.001/mês a R$ 2.000/mês          28      1\n",
       "5     Analista    de R$ 2.001/mês a R$ 3.000/mês          36      2\n",
       "8     Analista    de R$ 3.001/mês a R$ 4.000/mês          59      3\n",
       "10    Analista    de R$ 4.001/mês a R$ 6.000/mês         122      4\n",
       "11    Analista    de R$ 6.001/mês a R$ 8.000/mês          91      5\n",
       "12    Analista   de R$ 8.001/mês a R$ 12.000/mês         106      6\n",
       "3     Analista  de R$ 12.001/mês a R$ 16.000/mês          35      7\n",
       "4     Analista  de R$ 16.001/mês a R$ 20.000/mês           6      8\n",
       "6     Analista  de R$ 20.001/mês a R$ 25.000/mês           4      9\n",
       "7     Analista  de R$ 25.001/mês a R$ 30.000/mês           2     10\n",
       "9     Analista  de R$ 30.001/mês a R$ 40.000/mês           5     11\n",
       "0     Analista            Acima de R$ 40.001/mês           1     12\n",
       "14   Cientista             Menos de R$ 1.000/mês           4      0\n",
       "15   Cientista    de R$ 1.001/mês a R$ 2.000/mês          16      1\n",
       "18   Cientista    de R$ 2.001/mês a R$ 3.000/mês          24      2\n",
       "21   Cientista    de R$ 3.001/mês a R$ 4.000/mês          18      3\n",
       "23   Cientista    de R$ 4.001/mês a R$ 6.000/mês          59      4\n",
       "24   Cientista    de R$ 6.001/mês a R$ 8.000/mês          82      5\n",
       "25   Cientista   de R$ 8.001/mês a R$ 12.000/mês          99      6\n",
       "16   Cientista  de R$ 12.001/mês a R$ 16.000/mês          77      7\n",
       "17   Cientista  de R$ 16.001/mês a R$ 20.000/mês          26      8\n",
       "19   Cientista  de R$ 20.001/mês a R$ 25.000/mês           9      9\n",
       "20   Cientista  de R$ 25.001/mês a R$ 30.000/mês           4     10\n",
       "22   Cientista  de R$ 30.001/mês a R$ 40.000/mês           9     11\n",
       "13   Cientista            Acima de R$ 40.001/mês           5     12\n",
       "27  Engenheira    de R$ 1.001/mês a R$ 2.000/mês          15      1\n",
       "30  Engenheira    de R$ 2.001/mês a R$ 3.000/mês          15      2\n",
       "33  Engenheira    de R$ 3.001/mês a R$ 4.000/mês          12      3\n",
       "35  Engenheira    de R$ 4.001/mês a R$ 6.000/mês          63      4\n",
       "36  Engenheira    de R$ 6.001/mês a R$ 8.000/mês          61      5\n",
       "37  Engenheira   de R$ 8.001/mês a R$ 12.000/mês         115      6\n",
       "28  Engenheira  de R$ 12.001/mês a R$ 16.000/mês          80      7\n",
       "29  Engenheira  de R$ 16.001/mês a R$ 20.000/mês          17      8\n",
       "31  Engenheira  de R$ 20.001/mês a R$ 25.000/mês          11      9\n",
       "32  Engenheira  de R$ 25.001/mês a R$ 30.000/mês           7     10\n",
       "34  Engenheira  de R$ 30.001/mês a R$ 40.000/mês           3     11\n",
       "26  Engenheira            Acima de R$ 40.001/mês           6     12"
      ]
     },
     "execution_count": 37,
     "metadata": {},
     "output_type": "execute_result"
    }
   ],
   "source": [
    "salario_cargo_agg = salario_cargo_agg.sort_values(by=['Cargo', 'Ordem'], ascending=[True, True])\n",
    "\n",
    "salario_cargo_agg.head(100)"
   ]
  },
  {
   "cell_type": "markdown",
   "metadata": {
    "id": "J2H1Cix1vE5I"
   },
   "source": [
    "Filtragem dos Dados por Cargo Específico:"
   ]
  },
  {
   "cell_type": "code",
   "execution_count": 38,
   "metadata": {
    "colab": {
     "base_uri": "https://localhost:8080/",
     "height": 457
    },
    "id": "bI890Oz4vHhn",
    "outputId": "a18a806c-36b0-46b6-e284-e69957b67682"
   },
   "outputs": [
    {
     "data": {
      "text/html": [
       "<div>\n",
       "<style scoped>\n",
       "    .dataframe tbody tr th:only-of-type {\n",
       "        vertical-align: middle;\n",
       "    }\n",
       "\n",
       "    .dataframe tbody tr th {\n",
       "        vertical-align: top;\n",
       "    }\n",
       "\n",
       "    .dataframe thead th {\n",
       "        text-align: right;\n",
       "    }\n",
       "</style>\n",
       "<table border=\"1\" class=\"dataframe\">\n",
       "  <thead>\n",
       "    <tr style=\"text-align: right;\">\n",
       "      <th></th>\n",
       "      <th>Cargo</th>\n",
       "      <th>Salário</th>\n",
       "      <th>Quantidade</th>\n",
       "      <th>Ordem</th>\n",
       "    </tr>\n",
       "  </thead>\n",
       "  <tbody>\n",
       "    <tr>\n",
       "      <th>1</th>\n",
       "      <td>Analista</td>\n",
       "      <td>Menos de R$ 1.000/mês</td>\n",
       "      <td>4</td>\n",
       "      <td>0</td>\n",
       "    </tr>\n",
       "    <tr>\n",
       "      <th>2</th>\n",
       "      <td>Analista</td>\n",
       "      <td>de R$ 1.001/mês a R$ 2.000/mês</td>\n",
       "      <td>28</td>\n",
       "      <td>1</td>\n",
       "    </tr>\n",
       "    <tr>\n",
       "      <th>5</th>\n",
       "      <td>Analista</td>\n",
       "      <td>de R$ 2.001/mês a R$ 3.000/mês</td>\n",
       "      <td>36</td>\n",
       "      <td>2</td>\n",
       "    </tr>\n",
       "    <tr>\n",
       "      <th>8</th>\n",
       "      <td>Analista</td>\n",
       "      <td>de R$ 3.001/mês a R$ 4.000/mês</td>\n",
       "      <td>59</td>\n",
       "      <td>3</td>\n",
       "    </tr>\n",
       "    <tr>\n",
       "      <th>10</th>\n",
       "      <td>Analista</td>\n",
       "      <td>de R$ 4.001/mês a R$ 6.000/mês</td>\n",
       "      <td>122</td>\n",
       "      <td>4</td>\n",
       "    </tr>\n",
       "    <tr>\n",
       "      <th>11</th>\n",
       "      <td>Analista</td>\n",
       "      <td>de R$ 6.001/mês a R$ 8.000/mês</td>\n",
       "      <td>91</td>\n",
       "      <td>5</td>\n",
       "    </tr>\n",
       "    <tr>\n",
       "      <th>12</th>\n",
       "      <td>Analista</td>\n",
       "      <td>de R$ 8.001/mês a R$ 12.000/mês</td>\n",
       "      <td>106</td>\n",
       "      <td>6</td>\n",
       "    </tr>\n",
       "    <tr>\n",
       "      <th>3</th>\n",
       "      <td>Analista</td>\n",
       "      <td>de R$ 12.001/mês a R$ 16.000/mês</td>\n",
       "      <td>35</td>\n",
       "      <td>7</td>\n",
       "    </tr>\n",
       "    <tr>\n",
       "      <th>4</th>\n",
       "      <td>Analista</td>\n",
       "      <td>de R$ 16.001/mês a R$ 20.000/mês</td>\n",
       "      <td>6</td>\n",
       "      <td>8</td>\n",
       "    </tr>\n",
       "    <tr>\n",
       "      <th>6</th>\n",
       "      <td>Analista</td>\n",
       "      <td>de R$ 20.001/mês a R$ 25.000/mês</td>\n",
       "      <td>4</td>\n",
       "      <td>9</td>\n",
       "    </tr>\n",
       "    <tr>\n",
       "      <th>7</th>\n",
       "      <td>Analista</td>\n",
       "      <td>de R$ 25.001/mês a R$ 30.000/mês</td>\n",
       "      <td>2</td>\n",
       "      <td>10</td>\n",
       "    </tr>\n",
       "    <tr>\n",
       "      <th>9</th>\n",
       "      <td>Analista</td>\n",
       "      <td>de R$ 30.001/mês a R$ 40.000/mês</td>\n",
       "      <td>5</td>\n",
       "      <td>11</td>\n",
       "    </tr>\n",
       "    <tr>\n",
       "      <th>0</th>\n",
       "      <td>Analista</td>\n",
       "      <td>Acima de R$ 40.001/mês</td>\n",
       "      <td>1</td>\n",
       "      <td>12</td>\n",
       "    </tr>\n",
       "  </tbody>\n",
       "</table>\n",
       "</div>"
      ],
      "text/plain": [
       "       Cargo                           Salário  Quantidade  Ordem\n",
       "1   Analista             Menos de R$ 1.000/mês           4      0\n",
       "2   Analista    de R$ 1.001/mês a R$ 2.000/mês          28      1\n",
       "5   Analista    de R$ 2.001/mês a R$ 3.000/mês          36      2\n",
       "8   Analista    de R$ 3.001/mês a R$ 4.000/mês          59      3\n",
       "10  Analista    de R$ 4.001/mês a R$ 6.000/mês         122      4\n",
       "11  Analista    de R$ 6.001/mês a R$ 8.000/mês          91      5\n",
       "12  Analista   de R$ 8.001/mês a R$ 12.000/mês         106      6\n",
       "3   Analista  de R$ 12.001/mês a R$ 16.000/mês          35      7\n",
       "4   Analista  de R$ 16.001/mês a R$ 20.000/mês           6      8\n",
       "6   Analista  de R$ 20.001/mês a R$ 25.000/mês           4      9\n",
       "7   Analista  de R$ 25.001/mês a R$ 30.000/mês           2     10\n",
       "9   Analista  de R$ 30.001/mês a R$ 40.000/mês           5     11\n",
       "0   Analista            Acima de R$ 40.001/mês           1     12"
      ]
     },
     "execution_count": 38,
     "metadata": {},
     "output_type": "execute_result"
    }
   ],
   "source": [
    "salario_cargo_agg[salario_cargo_agg['Cargo'] == 'Analista'].head(15)"
   ]
  },
  {
   "cell_type": "markdown",
   "metadata": {
    "id": "WtTd2VEfvT_S"
   },
   "source": [
    "## **4\\.3\\. Agregação das categorias da coluna 'Experiência'**"
   ]
  },
  {
   "cell_type": "markdown",
   "metadata": {
    "id": "vhk_yz8MvoXw"
   },
   "source": [
    "Agrupamento e Agregação dos Dados por Cargo, Experiência e Salário:"
   ]
  },
  {
   "cell_type": "code",
   "execution_count": 39,
   "metadata": {
    "colab": {
     "base_uri": "https://localhost:8080/",
     "height": 520
    },
    "id": "91XTHG-EvYbc",
    "outputId": "6e668ff8-8fc5-49dc-ff67-b67fc86464ef"
   },
   "outputs": [
    {
     "data": {
      "text/html": [
       "<div>\n",
       "<style scoped>\n",
       "    .dataframe tbody tr th:only-of-type {\n",
       "        vertical-align: middle;\n",
       "    }\n",
       "\n",
       "    .dataframe tbody tr th {\n",
       "        vertical-align: top;\n",
       "    }\n",
       "\n",
       "    .dataframe thead th {\n",
       "        text-align: right;\n",
       "    }\n",
       "</style>\n",
       "<table border=\"1\" class=\"dataframe\">\n",
       "  <thead>\n",
       "    <tr style=\"text-align: right;\">\n",
       "      <th></th>\n",
       "      <th>Cargo</th>\n",
       "      <th>Experiencia</th>\n",
       "      <th>Salário</th>\n",
       "      <th>Quantidade</th>\n",
       "    </tr>\n",
       "  </thead>\n",
       "  <tbody>\n",
       "    <tr>\n",
       "      <th>0</th>\n",
       "      <td>Analista</td>\n",
       "      <td>Júnior</td>\n",
       "      <td>Menos de R$ 1.000/mês</td>\n",
       "      <td>4</td>\n",
       "    </tr>\n",
       "    <tr>\n",
       "      <th>1</th>\n",
       "      <td>Analista</td>\n",
       "      <td>Júnior</td>\n",
       "      <td>de R$ 1.001/mês a R$ 2.000/mês</td>\n",
       "      <td>26</td>\n",
       "    </tr>\n",
       "    <tr>\n",
       "      <th>2</th>\n",
       "      <td>Analista</td>\n",
       "      <td>Júnior</td>\n",
       "      <td>de R$ 2.001/mês a R$ 3.000/mês</td>\n",
       "      <td>34</td>\n",
       "    </tr>\n",
       "    <tr>\n",
       "      <th>3</th>\n",
       "      <td>Analista</td>\n",
       "      <td>Júnior</td>\n",
       "      <td>de R$ 3.001/mês a R$ 4.000/mês</td>\n",
       "      <td>46</td>\n",
       "    </tr>\n",
       "    <tr>\n",
       "      <th>4</th>\n",
       "      <td>Analista</td>\n",
       "      <td>Júnior</td>\n",
       "      <td>de R$ 4.001/mês a R$ 6.000/mês</td>\n",
       "      <td>54</td>\n",
       "    </tr>\n",
       "    <tr>\n",
       "      <th>5</th>\n",
       "      <td>Analista</td>\n",
       "      <td>Júnior</td>\n",
       "      <td>de R$ 6.001/mês a R$ 8.000/mês</td>\n",
       "      <td>12</td>\n",
       "    </tr>\n",
       "    <tr>\n",
       "      <th>6</th>\n",
       "      <td>Analista</td>\n",
       "      <td>Júnior</td>\n",
       "      <td>de R$ 8.001/mês a R$ 12.000/mês</td>\n",
       "      <td>1</td>\n",
       "    </tr>\n",
       "    <tr>\n",
       "      <th>7</th>\n",
       "      <td>Analista</td>\n",
       "      <td>Pleno</td>\n",
       "      <td>de R$ 1.001/mês a R$ 2.000/mês</td>\n",
       "      <td>1</td>\n",
       "    </tr>\n",
       "    <tr>\n",
       "      <th>8</th>\n",
       "      <td>Analista</td>\n",
       "      <td>Pleno</td>\n",
       "      <td>de R$ 12.001/mês a R$ 16.000/mês</td>\n",
       "      <td>5</td>\n",
       "    </tr>\n",
       "    <tr>\n",
       "      <th>9</th>\n",
       "      <td>Analista</td>\n",
       "      <td>Pleno</td>\n",
       "      <td>de R$ 16.001/mês a R$ 20.000/mês</td>\n",
       "      <td>1</td>\n",
       "    </tr>\n",
       "    <tr>\n",
       "      <th>10</th>\n",
       "      <td>Analista</td>\n",
       "      <td>Pleno</td>\n",
       "      <td>de R$ 2.001/mês a R$ 3.000/mês</td>\n",
       "      <td>2</td>\n",
       "    </tr>\n",
       "    <tr>\n",
       "      <th>11</th>\n",
       "      <td>Analista</td>\n",
       "      <td>Pleno</td>\n",
       "      <td>de R$ 20.001/mês a R$ 25.000/mês</td>\n",
       "      <td>2</td>\n",
       "    </tr>\n",
       "    <tr>\n",
       "      <th>12</th>\n",
       "      <td>Analista</td>\n",
       "      <td>Pleno</td>\n",
       "      <td>de R$ 25.001/mês a R$ 30.000/mês</td>\n",
       "      <td>1</td>\n",
       "    </tr>\n",
       "    <tr>\n",
       "      <th>13</th>\n",
       "      <td>Analista</td>\n",
       "      <td>Pleno</td>\n",
       "      <td>de R$ 3.001/mês a R$ 4.000/mês</td>\n",
       "      <td>12</td>\n",
       "    </tr>\n",
       "    <tr>\n",
       "      <th>14</th>\n",
       "      <td>Analista</td>\n",
       "      <td>Pleno</td>\n",
       "      <td>de R$ 4.001/mês a R$ 6.000/mês</td>\n",
       "      <td>60</td>\n",
       "    </tr>\n",
       "  </tbody>\n",
       "</table>\n",
       "</div>"
      ],
      "text/plain": [
       "       Cargo Experiencia                           Salário  Quantidade\n",
       "0   Analista      Júnior             Menos de R$ 1.000/mês           4\n",
       "1   Analista      Júnior    de R$ 1.001/mês a R$ 2.000/mês          26\n",
       "2   Analista      Júnior    de R$ 2.001/mês a R$ 3.000/mês          34\n",
       "3   Analista      Júnior    de R$ 3.001/mês a R$ 4.000/mês          46\n",
       "4   Analista      Júnior    de R$ 4.001/mês a R$ 6.000/mês          54\n",
       "5   Analista      Júnior    de R$ 6.001/mês a R$ 8.000/mês          12\n",
       "6   Analista      Júnior   de R$ 8.001/mês a R$ 12.000/mês           1\n",
       "7   Analista       Pleno    de R$ 1.001/mês a R$ 2.000/mês           1\n",
       "8   Analista       Pleno  de R$ 12.001/mês a R$ 16.000/mês           5\n",
       "9   Analista       Pleno  de R$ 16.001/mês a R$ 20.000/mês           1\n",
       "10  Analista       Pleno    de R$ 2.001/mês a R$ 3.000/mês           2\n",
       "11  Analista       Pleno  de R$ 20.001/mês a R$ 25.000/mês           2\n",
       "12  Analista       Pleno  de R$ 25.001/mês a R$ 30.000/mês           1\n",
       "13  Analista       Pleno    de R$ 3.001/mês a R$ 4.000/mês          12\n",
       "14  Analista       Pleno    de R$ 4.001/mês a R$ 6.000/mês          60"
      ]
     },
     "execution_count": 39,
     "metadata": {},
     "output_type": "execute_result"
    }
   ],
   "source": [
    "salario_cargo_experiencia_agg = data_table[['Cargo', 'Experiencia', 'Salário', 'Quantidade']].groupby(['Cargo','Experiencia', 'Salário']).agg('sum').reset_index()\n",
    "\n",
    "salario_cargo_experiencia_agg.head(15)"
   ]
  },
  {
   "cell_type": "markdown",
   "metadata": {
    "id": "11o09NMWvrry"
   },
   "source": [
    "Mapeamento dos Salários para uma Ordem Numérica:"
   ]
  },
  {
   "cell_type": "code",
   "execution_count": 40,
   "metadata": {
    "colab": {
     "base_uri": "https://localhost:8080/",
     "height": 520
    },
    "id": "AkRKbUtUvvq7",
    "outputId": "de2c09f1-9671-472b-a55a-037577ef8627"
   },
   "outputs": [
    {
     "data": {
      "text/html": [
       "<div>\n",
       "<style scoped>\n",
       "    .dataframe tbody tr th:only-of-type {\n",
       "        vertical-align: middle;\n",
       "    }\n",
       "\n",
       "    .dataframe tbody tr th {\n",
       "        vertical-align: top;\n",
       "    }\n",
       "\n",
       "    .dataframe thead th {\n",
       "        text-align: right;\n",
       "    }\n",
       "</style>\n",
       "<table border=\"1\" class=\"dataframe\">\n",
       "  <thead>\n",
       "    <tr style=\"text-align: right;\">\n",
       "      <th></th>\n",
       "      <th>Cargo</th>\n",
       "      <th>Experiencia</th>\n",
       "      <th>Salário</th>\n",
       "      <th>Quantidade</th>\n",
       "      <th>Ordem</th>\n",
       "    </tr>\n",
       "  </thead>\n",
       "  <tbody>\n",
       "    <tr>\n",
       "      <th>0</th>\n",
       "      <td>Analista</td>\n",
       "      <td>Júnior</td>\n",
       "      <td>Menos de R$ 1.000/mês</td>\n",
       "      <td>4</td>\n",
       "      <td>0</td>\n",
       "    </tr>\n",
       "    <tr>\n",
       "      <th>1</th>\n",
       "      <td>Analista</td>\n",
       "      <td>Júnior</td>\n",
       "      <td>de R$ 1.001/mês a R$ 2.000/mês</td>\n",
       "      <td>26</td>\n",
       "      <td>1</td>\n",
       "    </tr>\n",
       "    <tr>\n",
       "      <th>2</th>\n",
       "      <td>Analista</td>\n",
       "      <td>Júnior</td>\n",
       "      <td>de R$ 2.001/mês a R$ 3.000/mês</td>\n",
       "      <td>34</td>\n",
       "      <td>2</td>\n",
       "    </tr>\n",
       "    <tr>\n",
       "      <th>3</th>\n",
       "      <td>Analista</td>\n",
       "      <td>Júnior</td>\n",
       "      <td>de R$ 3.001/mês a R$ 4.000/mês</td>\n",
       "      <td>46</td>\n",
       "      <td>3</td>\n",
       "    </tr>\n",
       "    <tr>\n",
       "      <th>4</th>\n",
       "      <td>Analista</td>\n",
       "      <td>Júnior</td>\n",
       "      <td>de R$ 4.001/mês a R$ 6.000/mês</td>\n",
       "      <td>54</td>\n",
       "      <td>4</td>\n",
       "    </tr>\n",
       "    <tr>\n",
       "      <th>5</th>\n",
       "      <td>Analista</td>\n",
       "      <td>Júnior</td>\n",
       "      <td>de R$ 6.001/mês a R$ 8.000/mês</td>\n",
       "      <td>12</td>\n",
       "      <td>5</td>\n",
       "    </tr>\n",
       "    <tr>\n",
       "      <th>6</th>\n",
       "      <td>Analista</td>\n",
       "      <td>Júnior</td>\n",
       "      <td>de R$ 8.001/mês a R$ 12.000/mês</td>\n",
       "      <td>1</td>\n",
       "      <td>6</td>\n",
       "    </tr>\n",
       "    <tr>\n",
       "      <th>7</th>\n",
       "      <td>Analista</td>\n",
       "      <td>Pleno</td>\n",
       "      <td>de R$ 1.001/mês a R$ 2.000/mês</td>\n",
       "      <td>1</td>\n",
       "      <td>1</td>\n",
       "    </tr>\n",
       "    <tr>\n",
       "      <th>8</th>\n",
       "      <td>Analista</td>\n",
       "      <td>Pleno</td>\n",
       "      <td>de R$ 12.001/mês a R$ 16.000/mês</td>\n",
       "      <td>5</td>\n",
       "      <td>7</td>\n",
       "    </tr>\n",
       "    <tr>\n",
       "      <th>9</th>\n",
       "      <td>Analista</td>\n",
       "      <td>Pleno</td>\n",
       "      <td>de R$ 16.001/mês a R$ 20.000/mês</td>\n",
       "      <td>1</td>\n",
       "      <td>8</td>\n",
       "    </tr>\n",
       "    <tr>\n",
       "      <th>10</th>\n",
       "      <td>Analista</td>\n",
       "      <td>Pleno</td>\n",
       "      <td>de R$ 2.001/mês a R$ 3.000/mês</td>\n",
       "      <td>2</td>\n",
       "      <td>2</td>\n",
       "    </tr>\n",
       "    <tr>\n",
       "      <th>11</th>\n",
       "      <td>Analista</td>\n",
       "      <td>Pleno</td>\n",
       "      <td>de R$ 20.001/mês a R$ 25.000/mês</td>\n",
       "      <td>2</td>\n",
       "      <td>9</td>\n",
       "    </tr>\n",
       "    <tr>\n",
       "      <th>12</th>\n",
       "      <td>Analista</td>\n",
       "      <td>Pleno</td>\n",
       "      <td>de R$ 25.001/mês a R$ 30.000/mês</td>\n",
       "      <td>1</td>\n",
       "      <td>10</td>\n",
       "    </tr>\n",
       "    <tr>\n",
       "      <th>13</th>\n",
       "      <td>Analista</td>\n",
       "      <td>Pleno</td>\n",
       "      <td>de R$ 3.001/mês a R$ 4.000/mês</td>\n",
       "      <td>12</td>\n",
       "      <td>3</td>\n",
       "    </tr>\n",
       "    <tr>\n",
       "      <th>14</th>\n",
       "      <td>Analista</td>\n",
       "      <td>Pleno</td>\n",
       "      <td>de R$ 4.001/mês a R$ 6.000/mês</td>\n",
       "      <td>60</td>\n",
       "      <td>4</td>\n",
       "    </tr>\n",
       "  </tbody>\n",
       "</table>\n",
       "</div>"
      ],
      "text/plain": [
       "       Cargo Experiencia                           Salário  Quantidade  Ordem\n",
       "0   Analista      Júnior             Menos de R$ 1.000/mês           4      0\n",
       "1   Analista      Júnior    de R$ 1.001/mês a R$ 2.000/mês          26      1\n",
       "2   Analista      Júnior    de R$ 2.001/mês a R$ 3.000/mês          34      2\n",
       "3   Analista      Júnior    de R$ 3.001/mês a R$ 4.000/mês          46      3\n",
       "4   Analista      Júnior    de R$ 4.001/mês a R$ 6.000/mês          54      4\n",
       "5   Analista      Júnior    de R$ 6.001/mês a R$ 8.000/mês          12      5\n",
       "6   Analista      Júnior   de R$ 8.001/mês a R$ 12.000/mês           1      6\n",
       "7   Analista       Pleno    de R$ 1.001/mês a R$ 2.000/mês           1      1\n",
       "8   Analista       Pleno  de R$ 12.001/mês a R$ 16.000/mês           5      7\n",
       "9   Analista       Pleno  de R$ 16.001/mês a R$ 20.000/mês           1      8\n",
       "10  Analista       Pleno    de R$ 2.001/mês a R$ 3.000/mês           2      2\n",
       "11  Analista       Pleno  de R$ 20.001/mês a R$ 25.000/mês           2      9\n",
       "12  Analista       Pleno  de R$ 25.001/mês a R$ 30.000/mês           1     10\n",
       "13  Analista       Pleno    de R$ 3.001/mês a R$ 4.000/mês          12      3\n",
       "14  Analista       Pleno    de R$ 4.001/mês a R$ 6.000/mês          60      4"
      ]
     },
     "execution_count": 40,
     "metadata": {},
     "output_type": "execute_result"
    }
   ],
   "source": [
    "salario_cargo_experiencia_agg['Ordem'] = salario_cargo_experiencia_agg['Salário'].apply(lambda row: salario_ordem[row])\n",
    "\n",
    "salario_cargo_experiencia_agg.head(15)"
   ]
  },
  {
   "cell_type": "markdown",
   "metadata": {
    "id": "4RzQgk0pvyPd"
   },
   "source": [
    "Ordenação dos Dados por Cargo, Experiência e Ordem Numérica de Salário:"
   ]
  },
  {
   "cell_type": "code",
   "execution_count": 41,
   "metadata": {
    "colab": {
     "base_uri": "https://localhost:8080/",
     "height": 520
    },
    "id": "OSUAiPGlv2sj",
    "outputId": "c07cea8c-47a3-427d-c292-4de34ea61878"
   },
   "outputs": [
    {
     "data": {
      "text/html": [
       "<div>\n",
       "<style scoped>\n",
       "    .dataframe tbody tr th:only-of-type {\n",
       "        vertical-align: middle;\n",
       "    }\n",
       "\n",
       "    .dataframe tbody tr th {\n",
       "        vertical-align: top;\n",
       "    }\n",
       "\n",
       "    .dataframe thead th {\n",
       "        text-align: right;\n",
       "    }\n",
       "</style>\n",
       "<table border=\"1\" class=\"dataframe\">\n",
       "  <thead>\n",
       "    <tr style=\"text-align: right;\">\n",
       "      <th></th>\n",
       "      <th>Cargo</th>\n",
       "      <th>Experiencia</th>\n",
       "      <th>Salário</th>\n",
       "      <th>Quantidade</th>\n",
       "      <th>Ordem</th>\n",
       "    </tr>\n",
       "  </thead>\n",
       "  <tbody>\n",
       "    <tr>\n",
       "      <th>0</th>\n",
       "      <td>Analista</td>\n",
       "      <td>Júnior</td>\n",
       "      <td>Menos de R$ 1.000/mês</td>\n",
       "      <td>4</td>\n",
       "      <td>0</td>\n",
       "    </tr>\n",
       "    <tr>\n",
       "      <th>1</th>\n",
       "      <td>Analista</td>\n",
       "      <td>Júnior</td>\n",
       "      <td>de R$ 1.001/mês a R$ 2.000/mês</td>\n",
       "      <td>26</td>\n",
       "      <td>1</td>\n",
       "    </tr>\n",
       "    <tr>\n",
       "      <th>2</th>\n",
       "      <td>Analista</td>\n",
       "      <td>Júnior</td>\n",
       "      <td>de R$ 2.001/mês a R$ 3.000/mês</td>\n",
       "      <td>34</td>\n",
       "      <td>2</td>\n",
       "    </tr>\n",
       "    <tr>\n",
       "      <th>3</th>\n",
       "      <td>Analista</td>\n",
       "      <td>Júnior</td>\n",
       "      <td>de R$ 3.001/mês a R$ 4.000/mês</td>\n",
       "      <td>46</td>\n",
       "      <td>3</td>\n",
       "    </tr>\n",
       "    <tr>\n",
       "      <th>4</th>\n",
       "      <td>Analista</td>\n",
       "      <td>Júnior</td>\n",
       "      <td>de R$ 4.001/mês a R$ 6.000/mês</td>\n",
       "      <td>54</td>\n",
       "      <td>4</td>\n",
       "    </tr>\n",
       "    <tr>\n",
       "      <th>5</th>\n",
       "      <td>Analista</td>\n",
       "      <td>Júnior</td>\n",
       "      <td>de R$ 6.001/mês a R$ 8.000/mês</td>\n",
       "      <td>12</td>\n",
       "      <td>5</td>\n",
       "    </tr>\n",
       "    <tr>\n",
       "      <th>6</th>\n",
       "      <td>Analista</td>\n",
       "      <td>Júnior</td>\n",
       "      <td>de R$ 8.001/mês a R$ 12.000/mês</td>\n",
       "      <td>1</td>\n",
       "      <td>6</td>\n",
       "    </tr>\n",
       "    <tr>\n",
       "      <th>7</th>\n",
       "      <td>Analista</td>\n",
       "      <td>Pleno</td>\n",
       "      <td>de R$ 1.001/mês a R$ 2.000/mês</td>\n",
       "      <td>1</td>\n",
       "      <td>1</td>\n",
       "    </tr>\n",
       "    <tr>\n",
       "      <th>10</th>\n",
       "      <td>Analista</td>\n",
       "      <td>Pleno</td>\n",
       "      <td>de R$ 2.001/mês a R$ 3.000/mês</td>\n",
       "      <td>2</td>\n",
       "      <td>2</td>\n",
       "    </tr>\n",
       "    <tr>\n",
       "      <th>13</th>\n",
       "      <td>Analista</td>\n",
       "      <td>Pleno</td>\n",
       "      <td>de R$ 3.001/mês a R$ 4.000/mês</td>\n",
       "      <td>12</td>\n",
       "      <td>3</td>\n",
       "    </tr>\n",
       "    <tr>\n",
       "      <th>14</th>\n",
       "      <td>Analista</td>\n",
       "      <td>Pleno</td>\n",
       "      <td>de R$ 4.001/mês a R$ 6.000/mês</td>\n",
       "      <td>60</td>\n",
       "      <td>4</td>\n",
       "    </tr>\n",
       "    <tr>\n",
       "      <th>15</th>\n",
       "      <td>Analista</td>\n",
       "      <td>Pleno</td>\n",
       "      <td>de R$ 6.001/mês a R$ 8.000/mês</td>\n",
       "      <td>56</td>\n",
       "      <td>5</td>\n",
       "    </tr>\n",
       "    <tr>\n",
       "      <th>16</th>\n",
       "      <td>Analista</td>\n",
       "      <td>Pleno</td>\n",
       "      <td>de R$ 8.001/mês a R$ 12.000/mês</td>\n",
       "      <td>47</td>\n",
       "      <td>6</td>\n",
       "    </tr>\n",
       "    <tr>\n",
       "      <th>8</th>\n",
       "      <td>Analista</td>\n",
       "      <td>Pleno</td>\n",
       "      <td>de R$ 12.001/mês a R$ 16.000/mês</td>\n",
       "      <td>5</td>\n",
       "      <td>7</td>\n",
       "    </tr>\n",
       "    <tr>\n",
       "      <th>9</th>\n",
       "      <td>Analista</td>\n",
       "      <td>Pleno</td>\n",
       "      <td>de R$ 16.001/mês a R$ 20.000/mês</td>\n",
       "      <td>1</td>\n",
       "      <td>8</td>\n",
       "    </tr>\n",
       "  </tbody>\n",
       "</table>\n",
       "</div>"
      ],
      "text/plain": [
       "       Cargo Experiencia                           Salário  Quantidade  Ordem\n",
       "0   Analista      Júnior             Menos de R$ 1.000/mês           4      0\n",
       "1   Analista      Júnior    de R$ 1.001/mês a R$ 2.000/mês          26      1\n",
       "2   Analista      Júnior    de R$ 2.001/mês a R$ 3.000/mês          34      2\n",
       "3   Analista      Júnior    de R$ 3.001/mês a R$ 4.000/mês          46      3\n",
       "4   Analista      Júnior    de R$ 4.001/mês a R$ 6.000/mês          54      4\n",
       "5   Analista      Júnior    de R$ 6.001/mês a R$ 8.000/mês          12      5\n",
       "6   Analista      Júnior   de R$ 8.001/mês a R$ 12.000/mês           1      6\n",
       "7   Analista       Pleno    de R$ 1.001/mês a R$ 2.000/mês           1      1\n",
       "10  Analista       Pleno    de R$ 2.001/mês a R$ 3.000/mês           2      2\n",
       "13  Analista       Pleno    de R$ 3.001/mês a R$ 4.000/mês          12      3\n",
       "14  Analista       Pleno    de R$ 4.001/mês a R$ 6.000/mês          60      4\n",
       "15  Analista       Pleno    de R$ 6.001/mês a R$ 8.000/mês          56      5\n",
       "16  Analista       Pleno   de R$ 8.001/mês a R$ 12.000/mês          47      6\n",
       "8   Analista       Pleno  de R$ 12.001/mês a R$ 16.000/mês           5      7\n",
       "9   Analista       Pleno  de R$ 16.001/mês a R$ 20.000/mês           1      8"
      ]
     },
     "execution_count": 41,
     "metadata": {},
     "output_type": "execute_result"
    }
   ],
   "source": [
    "salario_cargo_experiencia_agg = salario_cargo_experiencia_agg.sort_values(by=['Cargo', 'Experiencia', 'Ordem'], ascending=[True, True, True])\n",
    "\n",
    "salario_cargo_experiencia_agg.head(15)"
   ]
  },
  {
   "cell_type": "markdown",
   "metadata": {
    "id": "DmZZNTJpv8ct"
   },
   "source": [
    "Filtragem dos Dados por Cargo Específico:"
   ]
  },
  {
   "cell_type": "code",
   "execution_count": 42,
   "metadata": {
    "colab": {
     "base_uri": "https://localhost:8080/",
     "height": 520
    },
    "id": "ij0tbOFVwBw-",
    "outputId": "4717e7f3-c3f5-4b8a-863c-13624c535776"
   },
   "outputs": [
    {
     "data": {
      "text/html": [
       "<div>\n",
       "<style scoped>\n",
       "    .dataframe tbody tr th:only-of-type {\n",
       "        vertical-align: middle;\n",
       "    }\n",
       "\n",
       "    .dataframe tbody tr th {\n",
       "        vertical-align: top;\n",
       "    }\n",
       "\n",
       "    .dataframe thead th {\n",
       "        text-align: right;\n",
       "    }\n",
       "</style>\n",
       "<table border=\"1\" class=\"dataframe\">\n",
       "  <thead>\n",
       "    <tr style=\"text-align: right;\">\n",
       "      <th></th>\n",
       "      <th>Cargo</th>\n",
       "      <th>Experiencia</th>\n",
       "      <th>Salário</th>\n",
       "      <th>Quantidade</th>\n",
       "      <th>Ordem</th>\n",
       "    </tr>\n",
       "  </thead>\n",
       "  <tbody>\n",
       "    <tr>\n",
       "      <th>0</th>\n",
       "      <td>Analista</td>\n",
       "      <td>Júnior</td>\n",
       "      <td>Menos de R$ 1.000/mês</td>\n",
       "      <td>4</td>\n",
       "      <td>0</td>\n",
       "    </tr>\n",
       "    <tr>\n",
       "      <th>1</th>\n",
       "      <td>Analista</td>\n",
       "      <td>Júnior</td>\n",
       "      <td>de R$ 1.001/mês a R$ 2.000/mês</td>\n",
       "      <td>26</td>\n",
       "      <td>1</td>\n",
       "    </tr>\n",
       "    <tr>\n",
       "      <th>2</th>\n",
       "      <td>Analista</td>\n",
       "      <td>Júnior</td>\n",
       "      <td>de R$ 2.001/mês a R$ 3.000/mês</td>\n",
       "      <td>34</td>\n",
       "      <td>2</td>\n",
       "    </tr>\n",
       "    <tr>\n",
       "      <th>3</th>\n",
       "      <td>Analista</td>\n",
       "      <td>Júnior</td>\n",
       "      <td>de R$ 3.001/mês a R$ 4.000/mês</td>\n",
       "      <td>46</td>\n",
       "      <td>3</td>\n",
       "    </tr>\n",
       "    <tr>\n",
       "      <th>4</th>\n",
       "      <td>Analista</td>\n",
       "      <td>Júnior</td>\n",
       "      <td>de R$ 4.001/mês a R$ 6.000/mês</td>\n",
       "      <td>54</td>\n",
       "      <td>4</td>\n",
       "    </tr>\n",
       "    <tr>\n",
       "      <th>5</th>\n",
       "      <td>Analista</td>\n",
       "      <td>Júnior</td>\n",
       "      <td>de R$ 6.001/mês a R$ 8.000/mês</td>\n",
       "      <td>12</td>\n",
       "      <td>5</td>\n",
       "    </tr>\n",
       "    <tr>\n",
       "      <th>6</th>\n",
       "      <td>Analista</td>\n",
       "      <td>Júnior</td>\n",
       "      <td>de R$ 8.001/mês a R$ 12.000/mês</td>\n",
       "      <td>1</td>\n",
       "      <td>6</td>\n",
       "    </tr>\n",
       "    <tr>\n",
       "      <th>7</th>\n",
       "      <td>Analista</td>\n",
       "      <td>Pleno</td>\n",
       "      <td>de R$ 1.001/mês a R$ 2.000/mês</td>\n",
       "      <td>1</td>\n",
       "      <td>1</td>\n",
       "    </tr>\n",
       "    <tr>\n",
       "      <th>10</th>\n",
       "      <td>Analista</td>\n",
       "      <td>Pleno</td>\n",
       "      <td>de R$ 2.001/mês a R$ 3.000/mês</td>\n",
       "      <td>2</td>\n",
       "      <td>2</td>\n",
       "    </tr>\n",
       "    <tr>\n",
       "      <th>13</th>\n",
       "      <td>Analista</td>\n",
       "      <td>Pleno</td>\n",
       "      <td>de R$ 3.001/mês a R$ 4.000/mês</td>\n",
       "      <td>12</td>\n",
       "      <td>3</td>\n",
       "    </tr>\n",
       "    <tr>\n",
       "      <th>14</th>\n",
       "      <td>Analista</td>\n",
       "      <td>Pleno</td>\n",
       "      <td>de R$ 4.001/mês a R$ 6.000/mês</td>\n",
       "      <td>60</td>\n",
       "      <td>4</td>\n",
       "    </tr>\n",
       "    <tr>\n",
       "      <th>15</th>\n",
       "      <td>Analista</td>\n",
       "      <td>Pleno</td>\n",
       "      <td>de R$ 6.001/mês a R$ 8.000/mês</td>\n",
       "      <td>56</td>\n",
       "      <td>5</td>\n",
       "    </tr>\n",
       "    <tr>\n",
       "      <th>16</th>\n",
       "      <td>Analista</td>\n",
       "      <td>Pleno</td>\n",
       "      <td>de R$ 8.001/mês a R$ 12.000/mês</td>\n",
       "      <td>47</td>\n",
       "      <td>6</td>\n",
       "    </tr>\n",
       "    <tr>\n",
       "      <th>8</th>\n",
       "      <td>Analista</td>\n",
       "      <td>Pleno</td>\n",
       "      <td>de R$ 12.001/mês a R$ 16.000/mês</td>\n",
       "      <td>5</td>\n",
       "      <td>7</td>\n",
       "    </tr>\n",
       "    <tr>\n",
       "      <th>9</th>\n",
       "      <td>Analista</td>\n",
       "      <td>Pleno</td>\n",
       "      <td>de R$ 16.001/mês a R$ 20.000/mês</td>\n",
       "      <td>1</td>\n",
       "      <td>8</td>\n",
       "    </tr>\n",
       "  </tbody>\n",
       "</table>\n",
       "</div>"
      ],
      "text/plain": [
       "       Cargo Experiencia                           Salário  Quantidade  Ordem\n",
       "0   Analista      Júnior             Menos de R$ 1.000/mês           4      0\n",
       "1   Analista      Júnior    de R$ 1.001/mês a R$ 2.000/mês          26      1\n",
       "2   Analista      Júnior    de R$ 2.001/mês a R$ 3.000/mês          34      2\n",
       "3   Analista      Júnior    de R$ 3.001/mês a R$ 4.000/mês          46      3\n",
       "4   Analista      Júnior    de R$ 4.001/mês a R$ 6.000/mês          54      4\n",
       "5   Analista      Júnior    de R$ 6.001/mês a R$ 8.000/mês          12      5\n",
       "6   Analista      Júnior   de R$ 8.001/mês a R$ 12.000/mês           1      6\n",
       "7   Analista       Pleno    de R$ 1.001/mês a R$ 2.000/mês           1      1\n",
       "10  Analista       Pleno    de R$ 2.001/mês a R$ 3.000/mês           2      2\n",
       "13  Analista       Pleno    de R$ 3.001/mês a R$ 4.000/mês          12      3\n",
       "14  Analista       Pleno    de R$ 4.001/mês a R$ 6.000/mês          60      4\n",
       "15  Analista       Pleno    de R$ 6.001/mês a R$ 8.000/mês          56      5\n",
       "16  Analista       Pleno   de R$ 8.001/mês a R$ 12.000/mês          47      6\n",
       "8   Analista       Pleno  de R$ 12.001/mês a R$ 16.000/mês           5      7\n",
       "9   Analista       Pleno  de R$ 16.001/mês a R$ 20.000/mês           1      8"
      ]
     },
     "execution_count": 42,
     "metadata": {},
     "output_type": "execute_result"
    }
   ],
   "source": [
    "salario_cargo_experiencia_agg[salario_cargo_experiencia_agg['Cargo'] == 'Analista'].head(15)"
   ]
  },
  {
   "cell_type": "markdown",
   "metadata": {
    "id": "dkJX-BpzwRan"
   },
   "source": [
    "# **5\\. Visualização**"
   ]
  },
  {
   "cell_type": "markdown",
   "metadata": {
    "id": "k--5RIw2wXJM"
   },
   "source": [
    "Agora será utilizado técnicas de visualização de dados para representar graficamente as análises e os insights obtidos até o momento. Utilizaremos a biblioteca *Seaborn* para criar esses gráficos."
   ]
  },
  {
   "cell_type": "markdown",
   "metadata": {
    "id": "y1FjgWQYw1C5"
   },
   "source": [
    "## **5\\.1\\. importando a biblioteca de visualizações**"
   ]
  },
  {
   "cell_type": "code",
   "execution_count": 43,
   "metadata": {
    "id": "uo-O8X3Uw7JM"
   },
   "outputs": [],
   "source": [
    "import seaborn as sns"
   ]
  },
  {
   "cell_type": "markdown",
   "metadata": {
    "id": "WpL0tvvHw18d"
   },
   "source": [
    "## **5\\.2\\. Visualização por salário**"
   ]
  },
  {
   "cell_type": "code",
   "execution_count": 44,
   "metadata": {
    "colab": {
     "base_uri": "https://localhost:8080/",
     "height": 457
    },
    "id": "3w6RnBpyxKbV",
    "outputId": "dcbb785c-497b-4f82-f222-08ec32fc61b9"
   },
   "outputs": [
    {
     "data": {
      "text/html": [
       "<div>\n",
       "<style scoped>\n",
       "    .dataframe tbody tr th:only-of-type {\n",
       "        vertical-align: middle;\n",
       "    }\n",
       "\n",
       "    .dataframe tbody tr th {\n",
       "        vertical-align: top;\n",
       "    }\n",
       "\n",
       "    .dataframe thead th {\n",
       "        text-align: right;\n",
       "    }\n",
       "</style>\n",
       "<table border=\"1\" class=\"dataframe\">\n",
       "  <thead>\n",
       "    <tr style=\"text-align: right;\">\n",
       "      <th></th>\n",
       "      <th>Salário</th>\n",
       "      <th>Quantidade</th>\n",
       "      <th>Ordem</th>\n",
       "    </tr>\n",
       "  </thead>\n",
       "  <tbody>\n",
       "    <tr>\n",
       "      <th>1</th>\n",
       "      <td>Menos de R$ 1.000/mês</td>\n",
       "      <td>8</td>\n",
       "      <td>0</td>\n",
       "    </tr>\n",
       "    <tr>\n",
       "      <th>2</th>\n",
       "      <td>de R$ 1.001/mês a R$ 2.000/mês</td>\n",
       "      <td>59</td>\n",
       "      <td>1</td>\n",
       "    </tr>\n",
       "    <tr>\n",
       "      <th>5</th>\n",
       "      <td>de R$ 2.001/mês a R$ 3.000/mês</td>\n",
       "      <td>75</td>\n",
       "      <td>2</td>\n",
       "    </tr>\n",
       "    <tr>\n",
       "      <th>8</th>\n",
       "      <td>de R$ 3.001/mês a R$ 4.000/mês</td>\n",
       "      <td>89</td>\n",
       "      <td>3</td>\n",
       "    </tr>\n",
       "    <tr>\n",
       "      <th>10</th>\n",
       "      <td>de R$ 4.001/mês a R$ 6.000/mês</td>\n",
       "      <td>244</td>\n",
       "      <td>4</td>\n",
       "    </tr>\n",
       "    <tr>\n",
       "      <th>11</th>\n",
       "      <td>de R$ 6.001/mês a R$ 8.000/mês</td>\n",
       "      <td>234</td>\n",
       "      <td>5</td>\n",
       "    </tr>\n",
       "    <tr>\n",
       "      <th>12</th>\n",
       "      <td>de R$ 8.001/mês a R$ 12.000/mês</td>\n",
       "      <td>320</td>\n",
       "      <td>6</td>\n",
       "    </tr>\n",
       "    <tr>\n",
       "      <th>3</th>\n",
       "      <td>de R$ 12.001/mês a R$ 16.000/mês</td>\n",
       "      <td>192</td>\n",
       "      <td>7</td>\n",
       "    </tr>\n",
       "    <tr>\n",
       "      <th>4</th>\n",
       "      <td>de R$ 16.001/mês a R$ 20.000/mês</td>\n",
       "      <td>49</td>\n",
       "      <td>8</td>\n",
       "    </tr>\n",
       "    <tr>\n",
       "      <th>6</th>\n",
       "      <td>de R$ 20.001/mês a R$ 25.000/mês</td>\n",
       "      <td>24</td>\n",
       "      <td>9</td>\n",
       "    </tr>\n",
       "    <tr>\n",
       "      <th>7</th>\n",
       "      <td>de R$ 25.001/mês a R$ 30.000/mês</td>\n",
       "      <td>13</td>\n",
       "      <td>10</td>\n",
       "    </tr>\n",
       "    <tr>\n",
       "      <th>9</th>\n",
       "      <td>de R$ 30.001/mês a R$ 40.000/mês</td>\n",
       "      <td>17</td>\n",
       "      <td>11</td>\n",
       "    </tr>\n",
       "    <tr>\n",
       "      <th>0</th>\n",
       "      <td>Acima de R$ 40.001/mês</td>\n",
       "      <td>12</td>\n",
       "      <td>12</td>\n",
       "    </tr>\n",
       "  </tbody>\n",
       "</table>\n",
       "</div>"
      ],
      "text/plain": [
       "                             Salário  Quantidade  Ordem\n",
       "1              Menos de R$ 1.000/mês           8      0\n",
       "2     de R$ 1.001/mês a R$ 2.000/mês          59      1\n",
       "5     de R$ 2.001/mês a R$ 3.000/mês          75      2\n",
       "8     de R$ 3.001/mês a R$ 4.000/mês          89      3\n",
       "10    de R$ 4.001/mês a R$ 6.000/mês         244      4\n",
       "11    de R$ 6.001/mês a R$ 8.000/mês         234      5\n",
       "12   de R$ 8.001/mês a R$ 12.000/mês         320      6\n",
       "3   de R$ 12.001/mês a R$ 16.000/mês         192      7\n",
       "4   de R$ 16.001/mês a R$ 20.000/mês          49      8\n",
       "6   de R$ 20.001/mês a R$ 25.000/mês          24      9\n",
       "7   de R$ 25.001/mês a R$ 30.000/mês          13     10\n",
       "9   de R$ 30.001/mês a R$ 40.000/mês          17     11\n",
       "0             Acima de R$ 40.001/mês          12     12"
      ]
     },
     "execution_count": 44,
     "metadata": {},
     "output_type": "execute_result"
    }
   ],
   "source": [
    "salario_agg.head(15)"
   ]
  },
  {
   "cell_type": "markdown",
   "metadata": {
    "id": "TdqtZ1MoxNIo"
   },
   "source": [
    "O Próximo código resulta em um gráfico de barras onde cada barra representa a quantidade total de ocorrências para cada faixa salarial, com cores diferentes para cada faixa. A legenda à esquerda do gráfico fornece uma chave para entender as cores associadas a cada faixa salarial:"
   ]
  },
  {
   "cell_type": "code",
   "execution_count": 93,
   "metadata": {
    "colab": {
     "base_uri": "https://localhost:8080/",
     "height": 472
    },
    "id": "EJakq8GUxgDQ",
    "outputId": "0dae1500-7d69-4d61-d57e-7fb849805271"
   },
   "outputs": [
    {
     "data": {
      "image/png": "[encoded data removed]",
      "text/plain": [
       "<Figure size 640x480 with 1 Axes>"
      ]
     },
     "metadata": {},
     "output_type": "display_data"
    }
   ],
   "source": [
    "with sns.axes_style('whitegrid'):\n",
    "    plot = sns.barplot(data=salario_agg, x='Ordem', y='Quantidade', hue='Salário', palette='pastel')\n",
    "    plot.set_xlabel('Faixa de Salário')\n",
    "    plot.set_ylabel('Qtd. de Pessoas')\n",
    "    plot.set_title('Distribuição de Pessoas por Faixa Salarial')\n",
    "    plot.legend(loc='center left', bbox_to_anchor=(1, 0.5))"
   ]
  },
  {
   "cell_type": "markdown",
   "metadata": {
    "id": "dVIe-13mx7Ud"
   },
   "source": [
    "## **5\\.3\\. Visualização por salário e cargo**"
   ]
  },
  {
   "cell_type": "code",
   "execution_count": 45,
   "metadata": {
    "colab": {
     "base_uri": "https://localhost:8080/",
     "height": 520
    },
    "id": "tVKUGJpayZaE",
    "outputId": "0e0d36e8-2387-4bf6-979b-2b9a0c1ca652"
   },
   "outputs": [
    {
     "data": {
      "text/html": [
       "<div>\n",
       "<style scoped>\n",
       "    .dataframe tbody tr th:only-of-type {\n",
       "        vertical-align: middle;\n",
       "    }\n",
       "\n",
       "    .dataframe tbody tr th {\n",
       "        vertical-align: top;\n",
       "    }\n",
       "\n",
       "    .dataframe thead th {\n",
       "        text-align: right;\n",
       "    }\n",
       "</style>\n",
       "<table border=\"1\" class=\"dataframe\">\n",
       "  <thead>\n",
       "    <tr style=\"text-align: right;\">\n",
       "      <th></th>\n",
       "      <th>Cargo</th>\n",
       "      <th>Salário</th>\n",
       "      <th>Quantidade</th>\n",
       "      <th>Ordem</th>\n",
       "    </tr>\n",
       "  </thead>\n",
       "  <tbody>\n",
       "    <tr>\n",
       "      <th>1</th>\n",
       "      <td>Analista</td>\n",
       "      <td>Menos de R$ 1.000/mês</td>\n",
       "      <td>4</td>\n",
       "      <td>0</td>\n",
       "    </tr>\n",
       "    <tr>\n",
       "      <th>2</th>\n",
       "      <td>Analista</td>\n",
       "      <td>de R$ 1.001/mês a R$ 2.000/mês</td>\n",
       "      <td>28</td>\n",
       "      <td>1</td>\n",
       "    </tr>\n",
       "    <tr>\n",
       "      <th>5</th>\n",
       "      <td>Analista</td>\n",
       "      <td>de R$ 2.001/mês a R$ 3.000/mês</td>\n",
       "      <td>36</td>\n",
       "      <td>2</td>\n",
       "    </tr>\n",
       "    <tr>\n",
       "      <th>8</th>\n",
       "      <td>Analista</td>\n",
       "      <td>de R$ 3.001/mês a R$ 4.000/mês</td>\n",
       "      <td>59</td>\n",
       "      <td>3</td>\n",
       "    </tr>\n",
       "    <tr>\n",
       "      <th>10</th>\n",
       "      <td>Analista</td>\n",
       "      <td>de R$ 4.001/mês a R$ 6.000/mês</td>\n",
       "      <td>122</td>\n",
       "      <td>4</td>\n",
       "    </tr>\n",
       "    <tr>\n",
       "      <th>11</th>\n",
       "      <td>Analista</td>\n",
       "      <td>de R$ 6.001/mês a R$ 8.000/mês</td>\n",
       "      <td>91</td>\n",
       "      <td>5</td>\n",
       "    </tr>\n",
       "    <tr>\n",
       "      <th>12</th>\n",
       "      <td>Analista</td>\n",
       "      <td>de R$ 8.001/mês a R$ 12.000/mês</td>\n",
       "      <td>106</td>\n",
       "      <td>6</td>\n",
       "    </tr>\n",
       "    <tr>\n",
       "      <th>3</th>\n",
       "      <td>Analista</td>\n",
       "      <td>de R$ 12.001/mês a R$ 16.000/mês</td>\n",
       "      <td>35</td>\n",
       "      <td>7</td>\n",
       "    </tr>\n",
       "    <tr>\n",
       "      <th>4</th>\n",
       "      <td>Analista</td>\n",
       "      <td>de R$ 16.001/mês a R$ 20.000/mês</td>\n",
       "      <td>6</td>\n",
       "      <td>8</td>\n",
       "    </tr>\n",
       "    <tr>\n",
       "      <th>6</th>\n",
       "      <td>Analista</td>\n",
       "      <td>de R$ 20.001/mês a R$ 25.000/mês</td>\n",
       "      <td>4</td>\n",
       "      <td>9</td>\n",
       "    </tr>\n",
       "    <tr>\n",
       "      <th>7</th>\n",
       "      <td>Analista</td>\n",
       "      <td>de R$ 25.001/mês a R$ 30.000/mês</td>\n",
       "      <td>2</td>\n",
       "      <td>10</td>\n",
       "    </tr>\n",
       "    <tr>\n",
       "      <th>9</th>\n",
       "      <td>Analista</td>\n",
       "      <td>de R$ 30.001/mês a R$ 40.000/mês</td>\n",
       "      <td>5</td>\n",
       "      <td>11</td>\n",
       "    </tr>\n",
       "    <tr>\n",
       "      <th>0</th>\n",
       "      <td>Analista</td>\n",
       "      <td>Acima de R$ 40.001/mês</td>\n",
       "      <td>1</td>\n",
       "      <td>12</td>\n",
       "    </tr>\n",
       "    <tr>\n",
       "      <th>14</th>\n",
       "      <td>Cientista</td>\n",
       "      <td>Menos de R$ 1.000/mês</td>\n",
       "      <td>4</td>\n",
       "      <td>0</td>\n",
       "    </tr>\n",
       "    <tr>\n",
       "      <th>15</th>\n",
       "      <td>Cientista</td>\n",
       "      <td>de R$ 1.001/mês a R$ 2.000/mês</td>\n",
       "      <td>16</td>\n",
       "      <td>1</td>\n",
       "    </tr>\n",
       "  </tbody>\n",
       "</table>\n",
       "</div>"
      ],
      "text/plain": [
       "        Cargo                           Salário  Quantidade  Ordem\n",
       "1    Analista             Menos de R$ 1.000/mês           4      0\n",
       "2    Analista    de R$ 1.001/mês a R$ 2.000/mês          28      1\n",
       "5    Analista    de R$ 2.001/mês a R$ 3.000/mês          36      2\n",
       "8    Analista    de R$ 3.001/mês a R$ 4.000/mês          59      3\n",
       "10   Analista    de R$ 4.001/mês a R$ 6.000/mês         122      4\n",
       "11   Analista    de R$ 6.001/mês a R$ 8.000/mês          91      5\n",
       "12   Analista   de R$ 8.001/mês a R$ 12.000/mês         106      6\n",
       "3    Analista  de R$ 12.001/mês a R$ 16.000/mês          35      7\n",
       "4    Analista  de R$ 16.001/mês a R$ 20.000/mês           6      8\n",
       "6    Analista  de R$ 20.001/mês a R$ 25.000/mês           4      9\n",
       "7    Analista  de R$ 25.001/mês a R$ 30.000/mês           2     10\n",
       "9    Analista  de R$ 30.001/mês a R$ 40.000/mês           5     11\n",
       "0    Analista            Acima de R$ 40.001/mês           1     12\n",
       "14  Cientista             Menos de R$ 1.000/mês           4      0\n",
       "15  Cientista    de R$ 1.001/mês a R$ 2.000/mês          16      1"
      ]
     },
     "execution_count": 45,
     "metadata": {},
     "output_type": "execute_result"
    }
   ],
   "source": [
    "salario_cargo_agg.head(15)"
   ]
  },
  {
   "cell_type": "markdown",
   "metadata": {
    "id": "n62Pw_n8yXSB"
   },
   "source": [
    "O próximo gráfico mostra a distribuição da quantidade de pessoas por cargo, com barras agrupadas para cada cargo e cores diferentes representando diferentes faixas salariais. Isso permite uma visualização rápida e eficaz da distribuição da força de trabalho em relação aos cargos e salários."
   ]
  },
  {
   "cell_type": "code",
   "execution_count": 46,
   "metadata": {
    "colab": {
     "base_uri": "https://localhost:8080/",
     "height": 472
    },
    "id": "k2Dzv-TEyzwP",
    "outputId": "d0c08289-2f73-4f1b-a593-d96a06d0b102"
   },
   "outputs": [
    {
     "data": {
      "image/png": "[encoded data removed]",
      "text/plain": [
       "<Figure size 640x480 with 1 Axes>"
      ]
     },
     "metadata": {},
     "output_type": "display_data"
    }
   ],
   "source": [
    "with sns.axes_style('whitegrid'):\n",
    "  plot = sns.barplot(data=salario_cargo_agg, x='Cargo', y='Quantidade', hue='Salário', palette = 'pastel')\n",
    "  plot.set_ylabel('Qtd. de Pessoas')\n",
    "  plot.set_title('Distribuição de Pessoas por Cargo e Faixa Salarial')\n",
    "  plot.legend(loc='center left', bbox_to_anchor=(1, 0.5))"
   ]
  },
  {
   "cell_type": "markdown",
   "metadata": {
    "id": "MKYjjLBOzZlh"
   },
   "source": [
    "## **5\\.4\\. Visualização por salário, cargo e experiência**"
   ]
  },
  {
   "cell_type": "markdown",
   "metadata": {
    "id": "ERNyy92Jz8FC"
   },
   "source": [
    " Aqui ficam os gráficos que mostram a distribuição da quantidade de pessoas por faixa salarial e nível de experiência para cada cargo. Cada barra sendo colorida de acordo com a faixa salarial, permitindo a visualização das distribuições de pessoas em diferentes níveis de experiência e salário."
   ]
  },
  {
   "cell_type": "markdown",
   "metadata": {
    "id": "zxpXws20zq7X"
   },
   "source": [
    "### **5\\.4\\.1. Analista**"
   ]
  },
  {
   "cell_type": "code",
   "execution_count": 47,
   "metadata": {
    "colab": {
     "base_uri": "https://localhost:8080/",
     "height": 473
    },
    "id": "AcZhsUXa0cXt",
    "outputId": "8ee12f81-dce7-4f63-bf50-4882ef812cec"
   },
   "outputs": [
    {
     "data": {
      "image/png": "[encoded data removed]",
      "text/plain": [
       "<Figure size 640x480 with 1 Axes>"
      ]
     },
     "metadata": {},
     "output_type": "display_data"
    }
   ],
   "source": [
    "data = salario_cargo_experiencia_agg[salario_cargo_experiencia_agg['Cargo'] == 'Analista']\n",
    "\n",
    "with sns.axes_style('whitegrid'):\n",
    "  plot = sns.barplot(data=data, x='Experiencia', y='Quantidade', hue='Salário', palette = 'pastel')\n",
    "  plot.set_ylabel('Qtd. de Pessoas')\n",
    "  plot.set_title('Quantidade de Pessoas por Experiência e Salário (Analistas)')\n",
    "  plot.legend(loc='center left', bbox_to_anchor=(1, 0.5))"
   ]
  },
  {
   "cell_type": "markdown",
   "metadata": {
    "id": "ChFW57dH03tJ"
   },
   "source": [
    "### **5\\.4\\.1. Cientista**"
   ]
  },
  {
   "cell_type": "code",
   "execution_count": 48,
   "metadata": {
    "colab": {
     "base_uri": "https://localhost:8080/",
     "height": 473
    },
    "id": "e3OHMWn71NEv",
    "outputId": "0192a501-c7ca-42db-8e63-fc57bb82ef21"
   },
   "outputs": [
    {
     "data": {
      "image/png": "[encoded data removed]",
      "text/plain": [
       "<Figure size 640x480 with 1 Axes>"
      ]
     },
     "metadata": {},
     "output_type": "display_data"
    }
   ],
   "source": [
    "data = salario_cargo_experiencia_agg[salario_cargo_experiencia_agg['Cargo'] == 'Cientista']\n",
    "\n",
    "with sns.axes_style('whitegrid'):\n",
    "  plot = sns.barplot(data=data, x='Experiencia', y='Quantidade', hue='Salário', palette = 'pastel')\n",
    "  plot.set_ylabel('Qtd. de Pessoas')\n",
    "  plot.set_title('Quantidade de Pessoas por Experiência e Salário (Cientistas)')\n",
    "  plot.legend(loc='center left', bbox_to_anchor=(1, 0.5))"
   ]
  },
  {
   "cell_type": "markdown",
   "metadata": {
    "id": "PYSmnObZ04Lg"
   },
   "source": [
    "### **5\\.4\\.1. Engenheira**"
   ]
  },
  {
   "cell_type": "code",
   "execution_count": 52,
   "metadata": {
    "colab": {
     "base_uri": "https://localhost:8080/",
     "height": 473
    },
    "id": "hxmIaVNb1ddm",
    "outputId": "12074c05-4d47-4b0c-dfe3-6a73f0ab45af"
   },
   "outputs": [
    {
     "data": {
      "image/png": "[encoded data removed]",
      "text/plain": [
       "<Figure size 640x480 with 1 Axes>"
      ]
     },
     "metadata": {},
     "output_type": "display_data"
    }
   ],
   "source": [
    "data = salario_cargo_experiencia_agg[salario_cargo_experiencia_agg['Cargo'] == 'Engenheira']\n",
    "with sns.axes_style('whitegrid'):\n",
    "    plot = sns.barplot(data=data, x='Experiencia', y='Quantidade', hue='Salário', palette='pastel')\n",
    "    plot.set_ylabel('Qtd. de Pessoas')\n",
    "    plot.set_title('Quantidade de Pessoas por Experiência e Salário (Engenheiras)')\n",
    "    plot.legend(loc='center left', bbox_to_anchor=(1, 0.5))"
   ]
  },
  {
   "cell_type": "code",
   "execution_count": null,
   "metadata": {},
   "outputs": [],
   "source": []
  }
 ],
 "metadata": {
  "colab": {
   "authorship_tag": "ABX9TyORALw1ig1GRH9Ej3tuygLa",
   "include_colab_link": true,
   "provenance": []
  },
  "kernelspec": {
   "display_name": "Python 3 (ipykernel)",
   "language": "python",
   "name": "python3"
  },
  "language_info": {
   "codemirror_mode": {
    "name": "ipython",
    "version": 3
   },
   "file_extension": ".py",
   "mimetype": "text/x-python",
   "name": "python",
   "nbconvert_exporter": "python",
   "pygments_lexer": "ipython3",
   "version": "3.11.5"
  }
 },
 "nbformat": 4,
 "nbformat_minor": 1
}
