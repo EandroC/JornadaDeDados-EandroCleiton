{
  "nbformat": 4,
  "nbformat_minor": 0,
  "metadata": {
    "colab": {
      "provenance": [],
      "authorship_tag": "ABX9TyP/pO4cLknkBCj1VLdzFDaP",
      "include_colab_link": true
    },
    "kernelspec": {
      "name": "python3",
      "display_name": "Python 3"
    },
    "language_info": {
      "name": "python"
    }
  },
  "cells": [
    {
      "cell_type": "markdown",
      "metadata": {
        "id": "view-in-github",
        "colab_type": "text"
      },
      "source": [
        "<a href=\"https://colab.research.google.com/github/EandroC/JornadaDeDados-EandroCleiton/blob/main/notebook.ipynb\" target=\"_parent\"><img src=\"https://colab.research.google.com/assets/colab-badge.svg\" alt=\"Open In Colab\"/></a>"
      ]
    },
    {
      "cell_type": "markdown",
      "source": [
        "# Análise Exploratória de Dados com Python: State of Data Brazil"
      ],
      "metadata": {
        "id": "CFuMUt1O2sSd"
      }
    },
    {
      "cell_type": "markdown",
      "source": [
        "## EBAC\n",
        "Ministrado pelo pelo professor André Perez"
      ],
      "metadata": {
        "id": "GTsXjCnp2TGD"
      }
    },
    {
      "cell_type": "markdown",
      "source": [
        "## Aula 01\n",
        "Conhecendo o notebook que será utilizado durante as aulas e atividades."
      ],
      "metadata": {
        "id": "kNuHEBon3g7y"
      }
    },
    {
      "cell_type": "code",
      "source": [
        "# Célula de código\n",
        "print('Hello World!')"
      ],
      "metadata": {
        "colab": {
          "base_uri": "https://localhost:8080/"
        },
        "id": "Y1wQAh8j2QY6",
        "outputId": "ad2f975d-4635-4373-cc40-d8a07edde5a7"
      },
      "execution_count": null,
      "outputs": [
        {
          "output_type": "stream",
          "name": "stdout",
          "text": [
            "Hello World!\n"
          ]
        }
      ]
    },
    {
      "cell_type": "markdown",
      "source": [
        "## Aula 02"
      ],
      "metadata": {
        "id": "mBy5Oz6Hoyud"
      }
    },
    {
      "cell_type": "markdown",
      "source": [
        "### Explorando os dados"
      ],
      "metadata": {
        "id": "Yno0fczTs1BH"
      }
    },
    {
      "cell_type": "markdown",
      "source": [
        "mode = \"r\" é apenas para ler o arquivo se fosse para também modificar seria mode= \"w\""
      ],
      "metadata": {
        "id": "L94zdIMttNmT"
      }
    },
    {
      "cell_type": "code",
      "source": [
        "with open(file = \"State_of_data_2022.csv\", mode=\"r\") as fp:\n",
        "  header = fp.readline()"
      ],
      "metadata": {
        "id": "G8aNo6tio7ru"
      },
      "execution_count": 1,
      "outputs": []
    },
    {
      "cell_type": "markdown",
      "source": [
        "Conferindo o tipo da variável.\n",
        "\n",
        "\n"
      ],
      "metadata": {
        "id": "xSRD8HxMtbiG"
      }
    },
    {
      "cell_type": "code",
      "source": [
        "type(header)"
      ],
      "metadata": {
        "colab": {
          "base_uri": "https://localhost:8080/"
        },
        "id": "D60HaTXCtWfk",
        "outputId": "699d8e7f-c633-4f6a-a48e-21cbbf60f752"
      },
      "execution_count": 2,
      "outputs": [
        {
          "output_type": "execute_result",
          "data": {
            "text/plain": [
              "str"
            ]
          },
          "metadata": {},
          "execution_count": 2
        }
      ]
    },
    {
      "cell_type": "markdown",
      "source": [
        "Exibindo os cabeçalhos que foram armazenados na variável."
      ],
      "metadata": {
        "id": "bWgw15AOtrmM"
      }
    },
    {
      "cell_type": "code",
      "source": [
        "print(header[0:200])"
      ],
      "metadata": {
        "colab": {
          "base_uri": "https://localhost:8080/"
        },
        "id": "pIwd7eUgt2mH",
        "outputId": "114af75f-adf0-494f-b79a-6d67465d5b1a"
      },
      "execution_count": 4,
      "outputs": [
        {
          "output_type": "stream",
          "name": "stdout",
          "text": [
            "\"('P0', 'id')\",\"('P1_a ', 'Idade')\",\"('P1_a_1 ', 'Faixa idade')\",\"('P1_b ', 'Genero')\",\"('P1_c ', 'Cor/raca/etnia')\",\"('P1_d ', 'PCD')\",\"('P1_e ', 'experiencia_profissional_prejudicada')\",\"('P1_f ', '\n"
          ]
        }
      ]
    },
    {
      "cell_type": "markdown",
      "source": [
        "Tranformando a variável em uma lista, usando sep='\",\"' para definir o fim de cada dados presente na lista."
      ],
      "metadata": {
        "id": "5D2Ct_7Zt-XU"
      }
    },
    {
      "cell_type": "code",
      "source": [
        "header = header.split(sep = '\",\"')"
      ],
      "metadata": {
        "id": "i68trxlXt-9Y"
      },
      "execution_count": 5,
      "outputs": []
    },
    {
      "cell_type": "code",
      "source": [
        "type(header)"
      ],
      "metadata": {
        "colab": {
          "base_uri": "https://localhost:8080/"
        },
        "id": "1a3xeAi7uczv",
        "outputId": "c70314bb-3bef-4dc4-e076-79a010d5bad9"
      },
      "execution_count": 6,
      "outputs": [
        {
          "output_type": "execute_result",
          "data": {
            "text/plain": [
              "list"
            ]
          },
          "metadata": {},
          "execution_count": 6
        }
      ]
    },
    {
      "cell_type": "code",
      "source": [
        "print(header[0])"
      ],
      "metadata": {
        "colab": {
          "base_uri": "https://localhost:8080/"
        },
        "id": "gFMvnJZ9udJB",
        "outputId": "7d93a36f-4006-4cdb-b023-6af27959fe13"
      },
      "execution_count": 7,
      "outputs": [
        {
          "output_type": "stream",
          "name": "stdout",
          "text": [
            "\"('P0', 'id')\n"
          ]
        }
      ]
    },
    {
      "cell_type": "markdown",
      "source": [
        "Como estão sendo buscadas informações sobre salário, cargo e nivél profissional é de se imaginar que colunas com P2(Dados sobre carreira) sejam as de interesse.\n",
        "O for irá exibir então apenas as coluna com P2."
      ],
      "metadata": {
        "id": "RAkoyQfAvKVI"
      }
    },
    {
      "cell_type": "code",
      "source": [
        "for column, column_name in enumerate(header):\n",
        "  if 'P2' in column_name:\n",
        "    print(str(column)+''+ column_name)"
      ],
      "metadata": {
        "colab": {
          "base_uri": "https://localhost:8080/"
        },
        "id": "4jFoNSdrusvD",
        "outputId": "020ebbde-ab2c-427d-9f8b-73d6b7eb1d50"
      },
      "execution_count": 8,
      "outputs": [
        {
          "output_type": "stream",
          "name": "stdout",
          "text": [
            "16('P2_a ', 'Qual sua situação atual de trabalho?')\n",
            "17('P2_b ', 'Setor')\n",
            "18('P2_c ', 'Numero de Funcionarios')\n",
            "19('P2_d ', 'Gestor?')\n",
            "20('P2_e ', 'Cargo como Gestor')\n",
            "21('P2_f ', 'Cargo Atual')\n",
            "22('P2_g ', 'Nivel')\n",
            "23('P2_h ', 'Faixa salarial')\n",
            "24('P2_i ', 'Quanto tempo de experiência na área de dados você tem?')\n",
            "25('P2_j ', 'Quanto tempo de experiência na área de TI/Engenharia de Software você teve antes de começar a trabalhar na área de dados?')\n",
            "26('P2_k ', 'Você está satisfeito na sua empresa atual?')\n",
            "27('P2_l ', 'Qual o principal motivo da sua insatisfação com a empresa atual?')\n",
            "28('P2_l_1 ', 'Falta de oportunidade de crescimento no emprego atual')\n",
            "29('P2_l_2 ', 'Salário atual não corresponde ao mercado')\n",
            "30('P2_l_3 ', 'Não tenho uma boa relação com meu líder/gestor')\n",
            "31('P2_l_4 ', 'Gostaria de trabalhar em em outra área de atuação')\n",
            "32('P2_l_5 ', 'Gostaria de receber mais benefícios')\n",
            "33('P2_l_6 ', 'O clima de trabalho/ambiente não é bom')\n",
            "34('P2_l_7 ', 'Falta de maturidade analítica na empresa')\n",
            "35('P2_m ', 'Você participou de entrevistas de emprego nos últimos 6 meses?')\n",
            "36('P2_n ', 'Você pretende mudar de emprego nos próximos 6 meses?')\n",
            "37('P2_o ', 'Quais os principais critérios que você leva em consideração no momento de decidir onde trabalhar?')\n",
            "38('P2_o_1 ', 'Remuneração/Salário')\n",
            "39('P2_o_2 ', 'Benefícios')\n",
            "40('P2_o_3 ', 'Propósito do trabalho e da empresa')\n",
            "41('P2_o_4 ', 'Flexibilidade de trabalho remoto')\n",
            "42('P2_o_5 ', 'Ambiente e clima de trabalho')\n",
            "43('P2_o_6 ', 'Oportunidade de aprendizado e trabalhar com referências na área')\n",
            "44('P2_o_7 ', 'Plano de carreira e oportunidades de crescimento profissional')\n",
            "45('P2_o_8 ', 'Maturidade da empresa em termos de tecnologia e dados')\n",
            "46('P2_o_9 ', 'Qualidade dos gestores e líderes')\n",
            "47('P2_o_10 ', 'Reputação que a empresa tem no mercado')\n",
            "48('P2_p ', 'Atualmente qual a sua forma de trabalho?')\n",
            "49('P2_q ', 'Qual a forma de trabalho ideal para você?')\n",
            "50('P2_r ', 'Caso sua empresa decida pelo modelo 100% presencial qual será sua atitude?')\n",
            "51('P2_s ', 'Sua empresa passu por Layoff em 2022?')\n"
          ]
        }
      ]
    },
    {
      "cell_type": "markdown",
      "source": [
        "Foram achadas 3 colunas:\n",
        "*   21('P2_f ', 'Cargo Atual')\n",
        "*   22('P2_g ', 'Nivel')\n",
        "*   23('P2_h ', 'Faixa salarial')\n",
        "\n"
      ],
      "metadata": {
        "id": "E4lYoUihwOvL"
      }
    },
    {
      "cell_type": "markdown",
      "source": [
        "Conferir os tipos e categorias de cada coluna."
      ],
      "metadata": {
        "id": "FCwZr1rmyRQX"
      }
    },
    {
      "cell_type": "code",
      "source": [
        "with open(file=\"State_of_data_2022.csv\", mode=\"r\") as fp:\n",
        "  header = fp.readline()\n",
        "\n",
        "  for _ in range(10):\n",
        "    line = fp.readline()\n",
        "    line = line.split(sep=',')\n",
        "    print({\"Cargo\": line[21], \"Experiencia\": line[22], \"Salário\": line[23]})"
      ],
      "metadata": {
        "colab": {
          "base_uri": "https://localhost:8080/"
        },
        "id": "VTnWm9KRwAgY",
        "outputId": "14345073-0fe7-41b4-837a-69de1cdb7db0"
      },
      "execution_count": 13,
      "outputs": [
        {
          "output_type": "stream",
          "name": "stdout",
          "text": [
            "{'Cargo': 'DBA/Administrador de Banco de Dados', 'Experiencia': 'Júnior', 'Salário': 'de R$ 8.001/mês a R$ 12.000/mês'}\n",
            "{'Cargo': 'Supervisor/Coordenador', 'Experiencia': '', 'Salário': ''}\n",
            "{'Cargo': 'Desenvolvedor/ Engenheiro de Software/ Analista de Sistemas', 'Experiencia': 'Pleno', 'Salário': 'de R$ 12.001/mês a R$ 16.000/mês'}\n",
            "{'Cargo': 'Cientista de Dados/Data Scientist', 'Experiencia': 'Sênior', 'Salário': 'de R$ 12.001/mês a R$ 16.000/mês'}\n",
            "{'Cargo': 'Desenvolvedor/ Engenheiro de Software/ Analista de Sistemas', 'Experiencia': 'Pleno', 'Salário': 'de R$ 6.001/mês a R$ 8.000/mês'}\n",
            "{'Cargo': 'Professor', 'Experiencia': 'Pleno', 'Salário': 'de R$ 2.001/mês a R$ 3.000/mês'}\n",
            "{'Cargo': 'Analista de BI/BI Analyst', 'Experiencia': 'Júnior', 'Salário': 'de R$ 4.001/mês a R$ 6.000/mês'}\n",
            "{'Cargo': 'Desenvolvedor/ Engenheiro de Software/ Analista de Sistemas', 'Experiencia': 'Júnior', 'Salário': 'de R$ 2.001/mês a R$ 3.000/mês'}\n",
            "{'Cargo': 'Analista de BI/BI Analyst', 'Experiencia': 'Sênior', 'Salário': 'de R$ 6.001/mês a R$ 8.000/mês'}\n",
            "{'Cargo': 'Professor', 'Experiencia': 'Pleno', 'Salário': 'de R$ 8.001/mês a R$ 12.000/mês'}\n"
          ]
        }
      ]
    }
  ]
}