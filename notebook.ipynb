{
  "nbformat": 4,
  "nbformat_minor": 0,
  "metadata": {
    "colab": {
      "provenance": [],
      "toc_visible": true,
      "authorship_tag": "ABX9TyMY5sd85hqgQoJo4ZfXeZbj",
      "include_colab_link": true
    },
    "kernelspec": {
      "name": "python3",
      "display_name": "Python 3"
    },
    "language_info": {
      "name": "python"
    }
  },
  "cells": [
    {
      "cell_type": "markdown",
      "metadata": {
        "id": "view-in-github",
        "colab_type": "text"
      },
      "source": [
        "<a href=\"https://colab.research.google.com/github/EandroC/JornadaDeDados-EandroCleiton/blob/main/notebook.ipynb\" target=\"_parent\"><img src=\"https://colab.research.google.com/assets/colab-badge.svg\" alt=\"Open In Colab\"/></a>"
      ]
    },
    {
      "cell_type": "markdown",
      "source": [
        "# Análise Exploratória de Dados com Python: State of Data Brazil"
      ],
      "metadata": {
        "id": "CFuMUt1O2sSd"
      }
    },
    {
      "cell_type": "markdown",
      "source": [
        "## EBAC\n",
        "Ministrado pelo pelo professor André Perez"
      ],
      "metadata": {
        "id": "GTsXjCnp2TGD"
      }
    },
    {
      "cell_type": "markdown",
      "source": [
        "## Aula 01\n",
        "Conhecendo o notebook que será utilizado durante as aulas e atividades."
      ],
      "metadata": {
        "id": "kNuHEBon3g7y"
      }
    },
    {
      "cell_type": "code",
      "source": [
        "# Célula de código\n",
        "print('Hello World!')"
      ],
      "metadata": {
        "colab": {
          "base_uri": "https://localhost:8080/"
        },
        "id": "Y1wQAh8j2QY6",
        "outputId": "ad2f975d-4635-4373-cc40-d8a07edde5a7"
      },
      "execution_count": null,
      "outputs": [
        {
          "output_type": "stream",
          "name": "stdout",
          "text": [
            "Hello World!\n"
          ]
        }
      ]
    }
  ]
}